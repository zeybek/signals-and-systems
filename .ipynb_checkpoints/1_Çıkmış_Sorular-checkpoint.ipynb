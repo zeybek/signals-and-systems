{
 "cells": [
  {
   "cell_type": "markdown",
   "metadata": {},
   "source": [
    "### Resim 1"
   ]
  },
  {
   "cell_type": "markdown",
   "metadata": {
    "solution": "shown",
    "solution_first": true
   },
   "source": [
    "If the system output is $y(t) = 9e^{-0.5t} + 9.2e^{-0.3t} + 98cos(2pi3t-82°)$, find $y(3)$"
   ]
  },
  {
   "cell_type": "code",
   "execution_count": 1,
   "metadata": {
    "ExecuteTime": {
     "end_time": "2020-12-17T23:58:11.568317Z",
     "start_time": "2020-12-17T23:57:54.776106Z"
    },
    "solution": "shown"
   },
   "outputs": [
    {
     "name": "stdout",
     "output_type": "stream",
     "text": [
      "\n",
      "ans =\n",
      "\n",
      "   19.3876\n",
      "\n",
      "\n"
     ]
    }
   ],
   "source": [
    "syms y(t)\n",
    "\n",
    "y(t) = 9 * exp(-0.5 * t) + 9.2 * exp(-0.3 * t) + 98 * cos(2*pi*3*t - deg2rad(82));\n",
    "\n",
    "eval(y(3))"
   ]
  },
  {
   "cell_type": "markdown",
   "metadata": {},
   "source": [
    "### Resim 2"
   ]
  },
  {
   "cell_type": "markdown",
   "metadata": {
    "solution": "shown",
    "solution_first": true
   },
   "source": [
    "Consider $F(\\omega)$, a complex function of a real variable $\\omega$\n",
    "\n",
    "$F(\\omega) = \\frac{5.1 + j\\omega}{7.1+j6.3\\omega}$\n",
    "\n",
    "If $\\omega$ = 8.4, find <u>real part</u> of $F(\\omega)$"
   ]
  },
  {
   "cell_type": "code",
   "execution_count": 2,
   "metadata": {
    "ExecuteTime": {
     "end_time": "2020-12-17T23:58:11.790318Z",
     "start_time": "2020-12-17T23:58:11.571320Z"
    },
    "solution": "shown"
   },
   "outputs": [
    {
     "name": "stdout",
     "output_type": "stream",
     "text": [
      "Sonuç: 0.17\n",
      "\n"
     ]
    }
   ],
   "source": [
    "clc; clear;\n",
    "syms f(w)\n",
    "\n",
    "numerator = (5.1 + 1 * j * w); % pay\n",
    "denominator = 7.1 + (1 * j * 6.3 * w); % payda\n",
    "\n",
    "f(w) = numerator / denominator;\n",
    "w = 8.4;\n",
    "result = eval(f);\n",
    "fprintf('Sonuç: %.2f\\n', real(result))"
   ]
  },
  {
   "cell_type": "markdown",
   "metadata": {},
   "source": [
    "### Resim 3"
   ]
  },
  {
   "cell_type": "markdown",
   "metadata": {
    "solution": "hidden",
    "solution_first": true
   },
   "source": [
    "Consider $F(\\omega)$, a complex function of a real variable $\\omega$\n",
    "\n",
    "$F(\\omega) = \\frac{2.7 + j\\omega}{5.7+j9.3\\omega}$\n",
    "\n",
    "If $\\omega$ = 5, find <u>angle</u> of $F(\\omega)$ in <u>radian</u>"
   ]
  },
  {
   "cell_type": "code",
   "execution_count": 3,
   "metadata": {
    "ExecuteTime": {
     "end_time": "2020-12-17T23:58:11.966319Z",
     "start_time": "2020-12-17T23:58:11.793319Z"
    },
    "solution": "hidden"
   },
   "outputs": [
    {
     "name": "stdout",
     "output_type": "stream",
     "text": [
      "\n",
      "ans =\n",
      "\n",
      "   -0.3732\n",
      "\n",
      "\n"
     ]
    }
   ],
   "source": [
    "clc;clear;\n",
    "syms f(w)\n",
    "\n",
    "numerator = (2.7 + 1 * j * w); % pay\n",
    "denominator = 5.7 + (1 * j * 9.3 * w); % payda\n",
    "\n",
    "f(w) = numerator / denominator;\n",
    "w = 5;\n",
    "result = eval(f);\n",
    "angle(result)"
   ]
  },
  {
   "cell_type": "markdown",
   "metadata": {},
   "source": [
    "### Resim 4"
   ]
  },
  {
   "cell_type": "markdown",
   "metadata": {},
   "source": [
    "#### Soru 1"
   ]
  },
  {
   "cell_type": "markdown",
   "metadata": {
    "solution": "hidden",
    "solution_first": true,
    "tags": [
     "sinusoid"
    ]
   },
   "source": [
    "Express $7.1cos(\\omega t) + 8.5sin(\\omega t)$ as a single sinusoid"
   ]
  },
  {
   "cell_type": "code",
   "execution_count": 4,
   "metadata": {
    "ExecuteTime": {
     "end_time": "2020-12-17T23:58:12.013318Z",
     "start_time": "2020-12-17T23:58:11.968321Z"
    },
    "solution": "hidden"
   },
   "outputs": [
    {
     "name": "stdout",
     "output_type": "stream",
     "text": [
      "Sonuç: 11.08cos(wₒt + 50.13°)\n"
     ]
    }
   ],
   "source": [
    "clc; clear;\n",
    "% Express x(t) as single sinusoid\n",
    "\n",
    "% x(t) = cos(wₒt) - √3sin(wₒt)\n",
    "complexNumber = 7.1 + j *- (-8.5);\n",
    "\n",
    "if rad2deg(angle(complexNumber)) < 0\n",
    "  signature = \"-\";\n",
    "else\n",
    "  signature = \"+\";\n",
    "end\n",
    "\n",
    "fprintf(\"Sonuç: %.2fcos(wₒt %s %.2f°)\", sqrt(real(complexNumber)^2 + imag(complexNumber)^2), signature, abs(rad2deg(angle(complexNumber))))"
   ]
  },
  {
   "cell_type": "markdown",
   "metadata": {},
   "source": [
    "#### Soru 2"
   ]
  },
  {
   "cell_type": "markdown",
   "metadata": {
    "solution": "hidden",
    "solution_first": true
   },
   "source": [
    "If $g(t)=14.9je^{j31°}e^{j2t} - 14.9je^{-j31°}e^{-j2t}$ write out and simplify"
   ]
  },
  {
   "cell_type": "markdown",
   "metadata": {
    "solution": "hidden"
   },
   "source": [
    "Mathematica Solution\n",
    "```wl\n",
    "A = 14.9 * I * Exp[I*Degree[31]]*Exp[I* 2 t];\n",
    "B = 14.9 * I * Exp[-I*Degree[31]]*Exp[-I* 2 t];\n",
    "Result = FullSimplify[A - B]\n",
    "```"
   ]
  },
  {
   "cell_type": "markdown",
   "metadata": {},
   "source": [
    "### Resim 5"
   ]
  },
  {
   "cell_type": "markdown",
   "metadata": {},
   "source": [
    "#### Soru 1"
   ]
  },
  {
   "cell_type": "markdown",
   "metadata": {
    "solution": "hidden",
    "solution_first": true
   },
   "source": [
    "If $g(t)=5.5je^{j159°}e^{j2t} - 14.9je^{-j159°}e^{-j2t}$ write out and simplify"
   ]
  },
  {
   "cell_type": "markdown",
   "metadata": {
    "solution": "hidden"
   },
   "source": [
    "Mathematica Solution\n",
    "\n",
    "```wl\n",
    "A = 5.5 * I * Exp[I*Degree[159]]*Exp[I* 2 t];\n",
    "B = 5.5 * I * Exp[-I*Degree[159]]*Exp[-I* 2 t];\n",
    "Result = FullSimplify[A - B]\n",
    "-11. Sin[2 t + \\[Degree][159]]\n",
    "```"
   ]
  },
  {
   "cell_type": "markdown",
   "metadata": {},
   "source": [
    "#### Soru 2"
   ]
  },
  {
   "cell_type": "markdown",
   "metadata": {
    "solution": "hidden",
    "solution_first": true
   },
   "source": [
    "Express $-9.2cos(\\omega t) - 4.7sin(\\omega t)$ as a single sinusoid"
   ]
  },
  {
   "cell_type": "code",
   "execution_count": 5,
   "metadata": {
    "ExecuteTime": {
     "end_time": "2020-12-17T23:58:12.043318Z",
     "start_time": "2020-12-17T23:58:12.016321Z"
    },
    "solution": "hidden"
   },
   "outputs": [
    {
     "name": "stdout",
     "output_type": "stream",
     "text": [
      "Sonuç: 10.33cos(wₒt - 152.94°)\n"
     ]
    }
   ],
   "source": [
    "clc; clear;\n",
    "% Express x(t) as single sinusoid\n",
    "\n",
    "% x(t) = cos(wₒt) - √3sin(wₒt)\n",
    "complexNumber = -9.2 + j *- (4.7);\n",
    "\n",
    "if rad2deg(angle(complexNumber)) < 0\n",
    "  signature = \"-\";\n",
    "else\n",
    "  signature = \"+\";\n",
    "end\n",
    "\n",
    "fprintf(\"Sonuç: %.2fcos(wₒt %s %.2f°)\", sqrt(real(complexNumber)^2 + imag(complexNumber)^2), signature, abs(rad2deg(angle(complexNumber))))"
   ]
  },
  {
   "cell_type": "markdown",
   "metadata": {},
   "source": [
    "#### Soru 3 [Yapılmadı]"
   ]
  },
  {
   "cell_type": "markdown",
   "metadata": {
    "solution": "hidden",
    "solution_first": true
   },
   "source": [
    "Express $\\frac{-6}{6.1+j4.5}$ in polar form"
   ]
  },
  {
   "cell_type": "code",
   "execution_count": 6,
   "metadata": {
    "ExecuteTime": {
     "end_time": "2020-12-17T23:58:12.075318Z",
     "start_time": "2020-12-17T23:58:12.045319Z"
    },
    "solution": "hidden"
   },
   "outputs": [
    {
     "name": "stdout",
     "output_type": "stream",
     "text": [
      "\n"
     ]
    }
   ],
   "source": [
    "% Araştırılacak"
   ]
  },
  {
   "cell_type": "markdown",
   "metadata": {},
   "source": [
    "### Resim 6"
   ]
  },
  {
   "cell_type": "markdown",
   "metadata": {
    "solution": "shown",
    "solution_first": true
   },
   "source": [
    "A system has an impulse response $h(t)=3\\delta(t)-8e^{-0.1t}u(t)$. Find the system response to input (zero-state response) at t=1, $y(1)$, if the input is $x(t)=u(t)-u(t-1)$"
   ]
  },
  {
   "cell_type": "code",
   "execution_count": 32,
   "metadata": {
    "ExecuteTime": {
     "end_time": "2020-12-18T02:47:46.454334Z",
     "start_time": "2020-12-18T02:47:45.270347Z"
    },
    "solution": "shown"
   },
   "outputs": [
    {
     "name": "stdout",
     "output_type": "stream",
     "text": [
      "\n",
      "result =\n",
      "\n",
      "   -7.6130\n",
      "\n",
      "\n"
     ]
    }
   ],
   "source": [
    "clc; clear; close all;\n",
    "syms t tau h(t) x(t)\n",
    "\n",
    "% Input Signal\n",
    "x(t) = heaviside(t) - heaviside(t - 1);\n",
    "\n",
    "% Impulse Response\n",
    "h(t) = (3 * dirac(t)) - (8 * exp(-0.1 * t) * heaviside(t));\n",
    "\n",
    "% Obtain x(tau) * h(t-tau)\n",
    "m = subs(x, tau) * subs(h, t - tau); \n",
    "y = int(m, tau, -inf, +inf);\n",
    "\n",
    "t = 0;\n",
    "y_zero = eval(-y);\n",
    "\n",
    "t = 1;\n",
    "y_output = eval(y);\n",
    "\n",
    "result = y_zero + y_output"
   ]
  },
  {
   "cell_type": "markdown",
   "metadata": {},
   "source": [
    "### Resim 7"
   ]
  },
  {
   "cell_type": "markdown",
   "metadata": {
    "solution": "hidden",
    "solution_first": true
   },
   "source": [
    "Consider $F(\\omega)$, a complex function of a real variable $\\omega$\n",
    "\n",
    "$F(\\omega) = \\frac{8.1 + j\\omega}{8.5+j5.3\\omega}$\n",
    "\n",
    "If $\\omega$ = 4.7, find <u>real part</u> of $F(\\omega)$"
   ]
  },
  {
   "cell_type": "code",
   "execution_count": 8,
   "metadata": {
    "ExecuteTime": {
     "end_time": "2020-12-17T23:58:15.029338Z",
     "start_time": "2020-12-17T23:58:14.905318Z"
    },
    "solution": "hidden"
   },
   "outputs": [
    {
     "name": "stdout",
     "output_type": "stream",
     "text": [
      "\n",
      "ans =\n",
      "\n",
      "   0.2684 - 0.2336i\n",
      "\n",
      "\n"
     ]
    }
   ],
   "source": [
    "clc; clear;\n",
    "syms f(w)\n",
    "\n",
    "numerator = 8.1 + 1 * j * w; % pay\n",
    "denominator = 8.5 + (1 * j * 5.3 * w); % payda\n",
    "\n",
    "f(w) = numerator / denominator;\n",
    "w = 4.7;\n",
    "\n",
    "eval(f)"
   ]
  },
  {
   "cell_type": "markdown",
   "metadata": {},
   "source": [
    "### Resim 8"
   ]
  },
  {
   "cell_type": "markdown",
   "metadata": {
    "solution": "hidden",
    "solution_first": true
   },
   "source": [
    "$x(t)$ is a **periodic signal** and $0.6t^3[u(t)-u(t-6)]$ describes its **one period**.\n",
    "\n",
    "What is the value of $x(t)$ at time $t=437$?\n",
    "\n",
    "Hint: Determine one period of the signal and find its values."
   ]
  },
  {
   "cell_type": "code",
   "execution_count": 9,
   "metadata": {
    "ExecuteTime": {
     "end_time": "2020-12-17T23:58:15.298327Z",
     "start_time": "2020-12-17T23:58:15.033319Z"
    },
    "solution": "hidden"
   },
   "outputs": [
    {
     "name": "stdout",
     "output_type": "stream",
     "text": [
      " \n",
      "ans =\n",
      " \n",
      "75\n",
      " \n",
      "\n"
     ]
    }
   ],
   "source": [
    "syms f(t)\n",
    "f(t) = 0.6 * t^3;\n",
    "totalPeriod = 6;\n",
    "target = 437;\n",
    "\n",
    "f(mod(target, totalPeriod))\n"
   ]
  },
  {
   "cell_type": "markdown",
   "metadata": {},
   "source": [
    "### Resim 9"
   ]
  },
  {
   "cell_type": "markdown",
   "metadata": {
    "solution": "hidden",
    "solution_first": true
   },
   "source": [
    "If the system output is $y(t)=3.4e^{-0.8t} + 3.7e^{-0.4t} + 6cos(2pi3t - 21^o)$, find $y(4.3)$"
   ]
  },
  {
   "cell_type": "code",
   "execution_count": 10,
   "metadata": {
    "ExecuteTime": {
     "end_time": "2020-12-17T23:58:15.441320Z",
     "start_time": "2020-12-17T23:58:15.300319Z"
    },
    "solution": "hidden"
   },
   "outputs": [
    {
     "name": "stdout",
     "output_type": "stream",
     "text": [
      "\n",
      "ans =\n",
      "\n",
      "    4.0394\n",
      "\n",
      "\n"
     ]
    }
   ],
   "source": [
    "clc; clear; close all;\n",
    "syms y(t)\n",
    "\n",
    "y(t) = 3.4 * exp(-0.8 * t) + 3.7 * exp(-0.4 * t) + 6 * cos(2 * pi * 3 * t - deg2rad(21));\n",
    "eval(y(4.3))"
   ]
  },
  {
   "cell_type": "markdown",
   "metadata": {},
   "source": [
    "### Resim 10"
   ]
  },
  {
   "cell_type": "markdown",
   "metadata": {},
   "source": [
    "#### Soru 1 [Yapılmadı]"
   ]
  },
  {
   "cell_type": "markdown",
   "metadata": {
    "solution": "hidden",
    "solution_first": true
   },
   "source": [
    "An LTIC system is specified by the equation $\\ddot{y} + 2\\dot{y} = \\dot{x} + 4x$. \n",
    "\n",
    "Find natural response, forced response and total response to input $x(t)=1e^{-2t}u(t)$ when  $y(0^+)=7.3$ and $\\dot{y}(0^+)=-9$"
   ]
  },
  {
   "cell_type": "code",
   "execution_count": 11,
   "metadata": {
    "ExecuteTime": {
     "end_time": "2020-12-17T23:58:15.473327Z",
     "start_time": "2020-12-17T23:58:15.443319Z"
    },
    "solution": "hidden"
   },
   "outputs": [
    {
     "name": "stdout",
     "output_type": "stream",
     "text": [
      "\n"
     ]
    }
   ],
   "source": [
    "% Araştırılacak"
   ]
  },
  {
   "cell_type": "markdown",
   "metadata": {},
   "source": [
    "#### Soru 2"
   ]
  },
  {
   "cell_type": "markdown",
   "metadata": {
    "solution": "hidden",
    "solution_first": true
   },
   "source": [
    "If $g(t)=14.9je^{j31^o}e^{j2t} - 14.9je^{-j31^o}e^{-j2t}$ write out and simplify\n",
    "\n",
    "[Mathematica Solution](./Mathematica.ipynb#Resim-10---Soru-2)"
   ]
  },
  {
   "cell_type": "markdown",
   "metadata": {
    "solution": "hidden"
   },
   "source": [
    "```wl\n",
    "A = 14.9 * I * Exp[ I * Degree[31] ] * Exp[ I * 2t ];\n",
    "B = 14.9 * I * Exp[-I * Degree[31] ] * Exp[ -I * 2t ];\n",
    "Result = FullSimplify[A - B]\n",
    "```"
   ]
  },
  {
   "cell_type": "markdown",
   "metadata": {},
   "source": [
    "### Resim 11"
   ]
  },
  {
   "cell_type": "markdown",
   "metadata": {},
   "source": [
    "#### Soru 1"
   ]
  },
  {
   "cell_type": "markdown",
   "metadata": {
    "solution": "shown",
    "solution_first": true
   },
   "source": [
    "A system has an impulse response $h(t)=3\\delta(t)-e^{-3t}u(t)$. Find the response to input (zero state response) if the input is $x(t)=2e^{-2t}u(t)$."
   ]
  },
  {
   "cell_type": "code",
   "execution_count": 33,
   "metadata": {
    "ExecuteTime": {
     "end_time": "2020-12-18T02:48:33.686270Z",
     "start_time": "2020-12-18T02:48:33.091292Z"
    },
    "scrolled": true,
    "solution": "shown"
   },
   "outputs": [
    {
     "name": "stdout",
     "output_type": "stream",
     "text": [
      " \n",
      "y_zero =\n",
      " \n",
      "3*exp(-2*t)*(sign(t) + 1) - (20*exp(-2*t)*heaviside(t)*(exp((17*t)/10) - 1))/17\n",
      " \n",
      "\n"
     ]
    }
   ],
   "source": [
    "clc; clear; close all;\n",
    "syms t tau h(t) x(t)\n",
    "\n",
    "% Input Signal\n",
    "x(t) = 2 * exp(-2 * t) * heaviside(t);\n",
    "\n",
    "% Impulse Response\n",
    "h(t) = (3 * dirac(t)) - (exp(-0.3 * t) * heaviside(t));\n",
    "\n",
    "% Obtain x(tau) * h(t-tau)\n",
    "m = subs(x, tau) * subs(h, t - tau); \n",
    "y = int(m, tau, -inf, inf);\n",
    "\n",
    "y_zero = eval(y)"
   ]
  },
  {
   "cell_type": "markdown",
   "metadata": {
    "solution": "hidden"
   },
   "source": [
    "#### Soru 2"
   ]
  },
  {
   "cell_type": "markdown",
   "metadata": {
    "solution": "shown",
    "solution_first": true
   },
   "source": [
    "Express $3.4cos(\\omega t) + 7.2sin(\\omega t)$ as a single sinusoid"
   ]
  },
  {
   "cell_type": "code",
   "execution_count": 34,
   "metadata": {
    "ExecuteTime": {
     "end_time": "2020-12-18T02:48:55.622140Z",
     "start_time": "2020-12-18T02:48:55.586147Z"
    },
    "solution": "shown"
   },
   "outputs": [
    {
     "name": "stdout",
     "output_type": "stream",
     "text": [
      "Sonuç: 7.96cos(wₒt - 64.72°)\n"
     ]
    }
   ],
   "source": [
    "clc; clear;\n",
    "\n",
    "complexNumber = 3.4 + j *- (7.2);\n",
    "\n",
    "if rad2deg(angle(complexNumber)) < 0\n",
    "  signature = \"-\";\n",
    "else\n",
    "  signature = \"+\";\n",
    "end\n",
    "\n",
    "fprintf(\"Sonuç: %.2fcos(wₒt %s %.2f°)\", sqrt(real(complexNumber)^2 + imag(complexNumber)^2), signature, abs(rad2deg(angle(complexNumber))))"
   ]
  },
  {
   "cell_type": "markdown",
   "metadata": {},
   "source": [
    "### Resim 12"
   ]
  },
  {
   "cell_type": "markdown",
   "metadata": {
    "solution": "hidden"
   },
   "source": [
    "#### Soru 1 [Yapılmadı]"
   ]
  },
  {
   "cell_type": "markdown",
   "metadata": {
    "solution": "hidden",
    "solution_first": true
   },
   "source": [
    "Define a 2 Hz cosine signal with an amplitude of 3.9 **between second 2 and second 4**.\n",
    "\n",
    "Draw the signal. (IMPORTANT: Pay attention to the **frequency** of the signal when drawing. Write values of amplitude and time axis)"
   ]
  },
  {
   "cell_type": "code",
   "execution_count": 14,
   "metadata": {
    "ExecuteTime": {
     "end_time": "2020-12-17T23:58:16.362543Z",
     "start_time": "2020-12-17T23:58:16.333527Z"
    },
    "solution": "hidden"
   },
   "outputs": [
    {
     "name": "stdout",
     "output_type": "stream",
     "text": [
      "\n"
     ]
    }
   ],
   "source": [
    "% Araştırılacak"
   ]
  },
  {
   "cell_type": "markdown",
   "metadata": {},
   "source": [
    "#### Soru 2"
   ]
  },
  {
   "cell_type": "markdown",
   "metadata": {
    "solution": "hidden",
    "solution_first": true
   },
   "source": [
    "Express $-6.8cos(\\omega t) + 5.2sin(\\omega t)$ as a single sinusoid"
   ]
  },
  {
   "cell_type": "code",
   "execution_count": 15,
   "metadata": {
    "ExecuteTime": {
     "end_time": "2020-12-17T23:58:16.394526Z",
     "start_time": "2020-12-17T23:58:16.366532Z"
    },
    "solution": "hidden"
   },
   "outputs": [
    {
     "name": "stdout",
     "output_type": "stream",
     "text": [
      "Sonuç: 8.56cos(wₒt - 142.59°)\n"
     ]
    }
   ],
   "source": [
    "clc; clear;\n",
    "\n",
    "complexNumber = -6.8 + j *- (5.2);\n",
    "\n",
    "if rad2deg(angle(complexNumber)) < 0\n",
    "  signature = \"-\";\n",
    "else\n",
    "  signature = \"+\";\n",
    "end\n",
    "\n",
    "fprintf(\"Sonuç: %.2fcos(wₒt %s %.2f°)\", sqrt(real(complexNumber)^2 + imag(complexNumber)^2), signature, abs(rad2deg(angle(complexNumber))))"
   ]
  },
  {
   "cell_type": "markdown",
   "metadata": {},
   "source": [
    "#### Soru 3"
   ]
  },
  {
   "cell_type": "markdown",
   "metadata": {
    "solution": "hidden",
    "solution_first": true
   },
   "source": [
    "If $g(t)=3.6je^{j77^o}e^{j10t} - 3.6je^{-j77^o}e^{-j10t}$ write out and simplify"
   ]
  },
  {
   "cell_type": "markdown",
   "metadata": {
    "solution": "hidden"
   },
   "source": [
    "```wl\n",
    "A = 3.6 * I * Exp[ I * Degree[77] ] * Exp[ I * 10t ];\n",
    "B = 3.6 * I * Exp[-I * Degree[77] ] * Exp[ -I * 10t ];\n",
    "Result = FullSimplify[A - B]\n",
    "```"
   ]
  },
  {
   "cell_type": "markdown",
   "metadata": {},
   "source": [
    "###  Resim 13"
   ]
  },
  {
   "cell_type": "markdown",
   "metadata": {
    "solution": "hidden",
    "solution_first": true
   },
   "source": [
    "If $g(t)=14.9je^{j31^o}e^{j2t} - 14.9je^{-j31^o}e^{-j2t}$ write out and simplify"
   ]
  },
  {
   "cell_type": "markdown",
   "metadata": {
    "solution": "hidden"
   },
   "source": [
    "```wl\n",
    "A = 14.9 * I * Exp[ I * Degree[31] ] * Exp[ I * 2t ];\n",
    "B = 14.9 * I * Exp[-I * Degree[31] ] * Exp[ -I * 2t ];\n",
    "Result = FullSimplify[A - B]\n",
    "```"
   ]
  },
  {
   "cell_type": "markdown",
   "metadata": {},
   "source": [
    "### Resim 14"
   ]
  },
  {
   "cell_type": "markdown",
   "metadata": {
    "solution": "hidden",
    "solution_first": true
   },
   "source": [
    "$x(t)$ is a **periodic signal** and $0.1t^3[u(t)-u(t-7)]$ describes its **one period**.\n",
    "\n",
    "What is the value of $x(t)$ at time $t = 317$?\n",
    "\n",
    "**Hint:** Determine one period of the signal and find its values."
   ]
  },
  {
   "cell_type": "code",
   "execution_count": 16,
   "metadata": {
    "ExecuteTime": {
     "end_time": "2020-12-17T23:58:16.426541Z",
     "start_time": "2020-12-17T23:58:16.396524Z"
    },
    "solution": "hidden"
   },
   "outputs": [
    {
     "name": "stdout",
     "output_type": "stream",
     "text": [
      "\n",
      "f =\n",
      "\n",
      "    0.8000\n",
      "\n",
      "\n"
     ]
    }
   ],
   "source": [
    "t = 317;\n",
    "p = 7;\n",
    "f = 0.1 * mod(t,p) ^ 3"
   ]
  },
  {
   "cell_type": "markdown",
   "metadata": {},
   "source": [
    "### Resim 15"
   ]
  },
  {
   "cell_type": "markdown",
   "metadata": {
    "solution": "shown",
    "solution_first": true
   },
   "source": [
    "Consider $F(\\omega)$, a complex function of a real variable $\\omega$\n",
    "\n",
    "$F(\\omega) = \\frac{208 + j\\omega}{4+j8\\omega}$\n",
    "\n",
    "If $\\omega$ = 8, find <u>magnitude</u> of $F(\\omega)$"
   ]
  },
  {
   "cell_type": "code",
   "execution_count": 17,
   "metadata": {
    "ExecuteTime": {
     "end_time": "2020-12-17T23:58:16.522523Z",
     "start_time": "2020-12-17T23:58:16.429529Z"
    },
    "solution": "shown"
   },
   "outputs": [
    {
     "name": "stdout",
     "output_type": "stream",
     "text": [
      "Sonuç: 3.2461\n",
      "\n"
     ]
    }
   ],
   "source": [
    "clc; clear;\n",
    "syms f(w)\n",
    "\n",
    "numerator = (208 + 1 * j * w); % pay\n",
    "denominator = 4 + (1 * j * 8 * w); % payda\n",
    "\n",
    "f(w) = numerator / denominator;\n",
    "w = 8;\n",
    "result = eval(f);\n",
    "fprintf('Sonuç: %.4f\\n', abs(result))"
   ]
  },
  {
   "cell_type": "markdown",
   "metadata": {},
   "source": [
    "### Resim 16"
   ]
  },
  {
   "cell_type": "markdown",
   "metadata": {
    "solution": "shown",
    "solution_first": true
   },
   "source": [
    "A system has an impulse response $h(t)=[-4e^{1t} + 13e^{-0.9t}]u(t)$. Find the system response to input (zero-state response) at t=2, $y(2)$, if the input is $x(t)=u(t-1)-u(t-2)$"
   ]
  },
  {
   "cell_type": "code",
   "execution_count": 18,
   "metadata": {
    "ExecuteTime": {
     "end_time": "2020-12-17T23:58:18.221523Z",
     "start_time": "2020-12-17T23:58:16.524526Z"
    },
    "solution": "shown"
   },
   "outputs": [
    {
     "name": "stdout",
     "output_type": "stream",
     "text": [
      "\n",
      "ans =\n",
      "\n",
      "    6.0433\n",
      "\n",
      "\n"
     ]
    }
   ],
   "source": [
    "clc; clear; close all;\n",
    "syms t tau h(t) x(t)\n",
    "\n",
    "% Input Signal\n",
    "x(t) = heaviside(t - 1) - heaviside(t - 2);\n",
    "\n",
    "% Impulse Response\n",
    "h(t) = ((-4 * exp(-1 * t)) + (13 * exp(-0.9 * t))) * heaviside(t);\n",
    "\n",
    "h(t) = simplify(eval(h(t)));\n",
    "\n",
    "% Obtain x(tau) * h(t-tau)\n",
    "m = subs(x, tau) * subs(h, t - tau); \n",
    "y = int(m, tau, -inf, +inf);\n",
    "\n",
    "t = 2;\n",
    "eval(y)"
   ]
  },
  {
   "cell_type": "markdown",
   "metadata": {},
   "source": [
    "### Resim 17"
   ]
  },
  {
   "cell_type": "markdown",
   "metadata": {
    "solution": "hidden",
    "solution_first": true
   },
   "source": [
    "$x(t)$ is a **periodic signal** and $0.3t^2[u(t)-u(t-7)]$ describes its **one period**.\n",
    "\n",
    "What is the value of $x(t)$ at time $t=441$?\n",
    "\n",
    "Hint: Determine one period of the signal and find its values."
   ]
  },
  {
   "cell_type": "code",
   "execution_count": 19,
   "metadata": {
    "ExecuteTime": {
     "end_time": "2020-12-17T23:58:18.427538Z",
     "start_time": "2020-12-17T23:58:18.223530Z"
    },
    "solution": "hidden"
   },
   "outputs": [
    {
     "name": "stdout",
     "output_type": "stream",
     "text": [
      " \n",
      "ans =\n",
      " \n",
      "0\n",
      " \n",
      "\n"
     ]
    }
   ],
   "source": [
    "syms f(t)\n",
    "f(t) = 0.3 * t^2;\n",
    "totalPeriod = 7;\n",
    "target = 441;\n",
    "\n",
    "f(mod(target, totalPeriod))"
   ]
  },
  {
   "cell_type": "markdown",
   "metadata": {},
   "source": [
    "### Resim 18"
   ]
  },
  {
   "cell_type": "markdown",
   "metadata": {
    "solution": "hidden",
    "solution_first": true
   },
   "source": [
    "$x(t)$ is a **periodic signal** and $0.3t^3[u(t)-u(t-6)]$ describes its **one period**.\n",
    "\n",
    "What is the value of $x(t)$ at time $t=407$?\n",
    "\n",
    "Hint: Determine one period of the signal and find its values."
   ]
  },
  {
   "cell_type": "code",
   "execution_count": 20,
   "metadata": {
    "ExecuteTime": {
     "end_time": "2020-12-17T23:58:18.520526Z",
     "start_time": "2020-12-17T23:58:18.429524Z"
    },
    "solution": "hidden"
   },
   "outputs": [
    {
     "name": "stdout",
     "output_type": "stream",
     "text": [
      "\n",
      "ans =\n",
      "\n",
      "   37.5000\n",
      "\n",
      "\n"
     ]
    }
   ],
   "source": [
    "syms f(t)\n",
    "f(t) = 0.3 * t^3;\n",
    "totalPeriod = 6;\n",
    "target = 407;\n",
    "\n",
    "eval(f(mod(target, totalPeriod)))"
   ]
  },
  {
   "cell_type": "markdown",
   "metadata": {
    "solution": "hidden"
   },
   "source": [
    "### Resim 19"
   ]
  },
  {
   "cell_type": "markdown",
   "metadata": {
    "solution": "shown",
    "solution_first": true
   },
   "source": [
    "We want to sample $x(t)=12e^{-0.5t}sin(2\\pi2t)u(t)$ continuous signal. Sampling will start at time $0$. If the sampling frequency is $Fs=10$, which one of the following is <u>not one</u> of the sample values?"
   ]
  },
  {
   "cell_type": "code",
   "execution_count": 93,
   "metadata": {
    "ExecuteTime": {
     "end_time": "2020-12-18T05:03:40.815964Z",
     "start_time": "2020-12-18T05:03:40.642970Z"
    },
    "solution": "shown"
   },
   "outputs": [
    {
     "name": "stdout",
     "output_type": "stream",
     "text": [
      "[ 0.00 ][ 10.86 ][ 6.38 ][ -6.07 ][ -9.34 ][ 0.00 ][ 8.45 ][ 4.97 ][ -4.73 ][ -7.28 ][ 0.00 ]\n"
     ]
    }
   ],
   "source": [
    "clc; clear;\n",
    "syms x(t)\n",
    "\n",
    "x(t) = 12 * exp(-0.5 * t) * sin(2 * pi * 2 * t) * heaviside(t);\n",
    "\n",
    "samplingStart = 0; % Sampling Start\n",
    "samplingEnd = 10; % Sampling Frequency\n",
    "period = 1; % default\n",
    "\n",
    "results = [];\n",
    "\n",
    "for value = samplingStart:period:samplingEnd\n",
    "    results(value + 1) = eval(x(value/samplingEnd));\n",
    "end\n",
    "\n",
    "fprintf(\"[ %.2f ]\", results)"
   ]
  },
  {
   "cell_type": "markdown",
   "metadata": {},
   "source": [
    "### Resim 20"
   ]
  },
  {
   "cell_type": "markdown",
   "metadata": {
    "solution": "hidden",
    "solution_first": true
   },
   "source": [
    "We want to sample $x(t)=15e^{-0.7t}cos(2\\pi3t)u(t)$ continuous signal. Sampling will start at time $0$. If the sampling frequency is $Fs=15$, which one of the following is <u>not one</u> of the sample values?"
   ]
  },
  {
   "cell_type": "code",
   "execution_count": 22,
   "metadata": {
    "ExecuteTime": {
     "end_time": "2020-12-17T23:58:19.012524Z",
     "start_time": "2020-12-17T23:58:18.761525Z"
    },
    "solution": "hidden"
   },
   "outputs": [
    {
     "name": "stdout",
     "output_type": "stream",
     "text": [
      "[ 7.50 ][ 4.42 ][ -11.05 ][ -10.55 ][ 3.85 ][ 11.88 ][ 3.50 ][ -8.75 ][ -8.35 ][ 3.05 ][ 9.41 ][ 2.77 ][ -6.93 ][ -6.62 ][ 2.41 ][ 7.45 ]\n"
     ]
    }
   ],
   "source": [
    "clc; clear;\n",
    "syms x(t)\n",
    "\n",
    "x(t) = 15 * exp(-0.7 * t) * cos(2 * pi * 3 * t) * heaviside(t);\n",
    "\n",
    "samplingStart = 0; % Sampling Start\n",
    "samplingEnd = 15; % Sampling Frequency\n",
    "period = 1; % default\n",
    "\n",
    "results = [];\n",
    "\n",
    "for value = samplingStart:period:samplingEnd\n",
    "    results(value + 1) = eval(x(value/samplingEnd));\n",
    "end\n",
    "\n",
    "fprintf(\"[ %.2f ]\", results)"
   ]
  },
  {
   "cell_type": "markdown",
   "metadata": {},
   "source": [
    "### Resim 21"
   ]
  },
  {
   "cell_type": "markdown",
   "metadata": {
    "solution": "shown",
    "solution_first": true
   },
   "source": [
    "A system has an impulse response $h(t)=[-6e^{-0.9t}+17e^{-1t}]u(t)$. Find the system response to input (zero-state response) at t=2.2, $y(2.2)$, if the input is $x(t)=u(t-1)-u(t-2)$"
   ]
  },
  {
   "cell_type": "code",
   "execution_count": 38,
   "metadata": {
    "ExecuteTime": {
     "end_time": "2020-12-18T02:50:57.977515Z",
     "start_time": "2020-12-18T02:50:57.475524Z"
    },
    "solution": "shown"
   },
   "outputs": [
    {
     "name": "stdout",
     "output_type": "stream",
     "text": [
      "\n",
      "ans =\n",
      "\n",
      "    5.4936\n",
      "\n",
      "\n"
     ]
    }
   ],
   "source": [
    "clc; clear; close all;\n",
    "syms t tau h(t) x(t)\n",
    "\n",
    "% Input Signal\n",
    "x(t) = heaviside(t - 1) - heaviside(t - 2);\n",
    "\n",
    "% Impulse Response\n",
    "h(t) = (-6 * exp(-0.9 * t) + 17 * exp(-1 * t)) * heaviside(t);\n",
    "h(t) = simplify(eval(h(t)));\n",
    "\n",
    "% Obtain x(tau) * h(t-tau)\n",
    "m = subs(x, tau) * subs(h, t - tau); \n",
    "y = int(m, tau, -inf, +inf);\n",
    "\n",
    "t = 2.2;\n",
    "eval(y)"
   ]
  },
  {
   "cell_type": "markdown",
   "metadata": {},
   "source": [
    "### Resim 22"
   ]
  },
  {
   "cell_type": "markdown",
   "metadata": {
    "solution": "hidden",
    "solution_first": true
   },
   "source": [
    "$x(t)$ is a **periodic signal** and $0.6t^3[u(t)-u(t-9)]$ describes its **one period**.\n",
    "\n",
    "What is the value of $x(t)$ at time $t=493$?\n",
    "\n",
    "Hint: Determine one period of the signal and find its values."
   ]
  },
  {
   "cell_type": "code",
   "execution_count": 24,
   "metadata": {
    "ExecuteTime": {
     "end_time": "2020-12-17T23:58:19.982525Z",
     "start_time": "2020-12-17T23:58:19.888524Z"
    },
    "solution": "hidden"
   },
   "outputs": [
    {
     "name": "stdout",
     "output_type": "stream",
     "text": [
      "\n",
      "ans =\n",
      "\n",
      "  205.8000\n",
      "\n",
      "\n"
     ]
    }
   ],
   "source": [
    "syms f(t)\n",
    "f(t) = 0.6 * t^3;\n",
    "totalPeriod = 9;\n",
    "target = 493;\n",
    "\n",
    "eval(f(mod(target, totalPeriod)))"
   ]
  },
  {
   "cell_type": "markdown",
   "metadata": {},
   "source": [
    "### Resim 23"
   ]
  },
  {
   "cell_type": "markdown",
   "metadata": {
    "solution": "shown",
    "solution_first": true
   },
   "source": [
    "If the system output is $y(t) = 8.8e^{-0.7t} + 6e^{-0.5t} + 24cos(2pi3t-16°)$, find $y(3)$"
   ]
  },
  {
   "cell_type": "code",
   "execution_count": 121,
   "metadata": {
    "ExecuteTime": {
     "end_time": "2020-12-18T06:49:22.898103Z",
     "start_time": "2020-12-18T06:49:22.812102Z"
    },
    "scrolled": true,
    "solution": "shown"
   },
   "outputs": [
    {
     "name": "stdout",
     "output_type": "stream",
     "text": [
      "\n",
      "ans =\n",
      "\n",
      "    6.4048\n",
      "\n",
      "\n"
     ]
    }
   ],
   "source": [
    "syms y(t)\n",
    "\n",
    "y(t) = 8.8 * exp(-0.7 * t) + 6 * exp(-0.5 * t) + 24 * cos(2*pi*3*t - deg2rad(16));\n",
    "\n",
    "eval(y(1.6))"
   ]
  },
  {
   "cell_type": "markdown",
   "metadata": {
    "solution": "shown"
   },
   "source": [
    "### Resim 24"
   ]
  },
  {
   "cell_type": "markdown",
   "metadata": {
    "solution": "shown",
    "solution_first": true
   },
   "source": [
    "We want to sample $x(t)=14e^{-0.6t}cos(2\\pi5t)u(t)$ continuous signal. Sampling will start at time $0$. If the sampling frequency is $Fs=25$, which one of the following is <u>not one</u> of the sample values?"
   ]
  },
  {
   "cell_type": "code",
   "execution_count": 120,
   "metadata": {
    "ExecuteTime": {
     "end_time": "2020-12-18T06:48:47.758156Z",
     "start_time": "2020-12-18T06:48:47.483180Z"
    },
    "solution": "shown"
   },
   "outputs": [
    {
     "name": "stdout",
     "output_type": "stream",
     "text": [
      "[ 7.00 ][ 4.22 ][ -10.80 ][ -10.54 ][ 3.93 ][ 12.42 ][ 3.75 ][ -9.57 ][ -9.35 ][ 3.49 ][ 11.01 ][ 3.32 ][ -8.49 ][ -8.29 ][ 3.09 ][ 9.77 ][ 2.95 ][ -7.53 ][ -7.35 ][ 2.74 ][ 8.66 ][ 2.61 ][ -6.68 ][ -6.52 ][ 2.43 ][ 7.68 ]\n"
     ]
    }
   ],
   "source": [
    "clc; clear;\n",
    "syms x(t)\n",
    "\n",
    "x(t) = 14 * exp(-0.6 * t) * cos(2 * pi * 5 * t) * heaviside(t);\n",
    "\n",
    "samplingStart = 0; % Sampling Start\n",
    "samplingEnd = 25; % Sampling Frequency\n",
    "period = 1; % default\n",
    "\n",
    "results = [];\n",
    "\n",
    "for value = samplingStart:period:samplingEnd\n",
    "    results(value + 1) = eval(x(value/samplingEnd));\n",
    "end\n",
    "\n",
    "fprintf(\"[ %.2f ]\", results)"
   ]
  },
  {
   "cell_type": "markdown",
   "metadata": {},
   "source": [
    "### Resim 25"
   ]
  },
  {
   "cell_type": "markdown",
   "metadata": {
    "solution": "shown",
    "solution_first": true
   },
   "source": [
    "We want to sample $x(t)=12e^{-0.5t}cos(2\\pi2t)u(t)$ continuous signal. Sampling will start at time $0$. If the sampling frequency is $Fs=10$, which one of the following is <u>not one</u> of the sample values?"
   ]
  },
  {
   "cell_type": "code",
   "execution_count": 27,
   "metadata": {
    "ExecuteTime": {
     "end_time": "2020-12-17T23:58:21.353617Z",
     "start_time": "2020-12-17T23:58:21.151525Z"
    },
    "solution": "shown"
   },
   "outputs": [
    {
     "name": "stdout",
     "output_type": "stream",
     "text": [
      "[ 0.00 ][ 10.86 ][ 6.38 ][ -6.07 ][ -9.34 ][ 0.00 ][ 8.45 ][ 4.97 ][ -4.73 ][ -7.28 ][ 0.00 ]\n"
     ]
    }
   ],
   "source": [
    "clc; clear;\n",
    "syms x(t)\n",
    "\n",
    "x(t) = 12 * exp(-0.5 * t) * sin(2 * pi * 2 * t) * heaviside(t);\n",
    "\n",
    "samplingStart = 0; % Sampling Start\n",
    "samplingEnd = 10; % Sampling Frequency\n",
    "period = 1; % default\n",
    "\n",
    "results = [];\n",
    "\n",
    "for value = samplingStart:period:samplingEnd\n",
    "    results(value + 1) = eval(x(value/samplingEnd));\n",
    "end\n",
    "\n",
    "fprintf(\"[ %.2f ]\", results)"
   ]
  },
  {
   "cell_type": "markdown",
   "metadata": {},
   "source": [
    "### Resim 26"
   ]
  },
  {
   "cell_type": "markdown",
   "metadata": {},
   "source": [
    "We want to sample $x(t)=2.8e^{-0.7t}sin(2\\pi1t)u(t)$ continuous signal. Sampling will start at time $0$. If the sampling frequency is $Fs=5$, which one of the following is <u>not one</u> of the sample values?"
   ]
  },
  {
   "cell_type": "code",
   "execution_count": 28,
   "metadata": {
    "ExecuteTime": {
     "end_time": "2020-12-17T23:58:21.511616Z",
     "start_time": "2020-12-17T23:58:21.355618Z"
    },
    "solution": "hidden"
   },
   "outputs": [
    {
     "name": "stdout",
     "output_type": "stream",
     "text": [
      "[ 0.00 ][ 2.32 ][ 1.24 ][ -1.08 ][ -1.52 ][ 0.00 ]\n"
     ]
    }
   ],
   "source": [
    "clc; clear;\n",
    "syms x(t)\n",
    "\n",
    "x(t) = 2.8 * exp(-0.7 * t) * sin(2 * pi * 1 * t) * heaviside(t);\n",
    "\n",
    "samplingStart = 0; % Sampling Start\n",
    "samplingEnd = 5; % Sampling Frequency\n",
    "period = 1; % default\n",
    "\n",
    "results = [];\n",
    "\n",
    "for value = samplingStart:period:samplingEnd\n",
    "    results(value + 1) = eval(x(value/samplingEnd));\n",
    "end\n",
    "\n",
    "fprintf(\"[ %.2f ]\", results)"
   ]
  },
  {
   "cell_type": "markdown",
   "metadata": {},
   "source": [
    "### Resim 27"
   ]
  },
  {
   "cell_type": "markdown",
   "metadata": {
    "solution": "hidden"
   },
   "source": [
    "Consider $F(\\omega)$, a complex function of a real variable $\\omega$\n",
    "\n",
    "$F(\\omega) = \\frac{5.1 + j\\omega}{7.1+j6.3\\omega}$\n",
    "\n",
    "If $\\omega$ = 8.4, find <u>imaginary part</u> of $F(\\omega)$"
   ]
  },
  {
   "cell_type": "code",
   "execution_count": 29,
   "metadata": {
    "ExecuteTime": {
     "end_time": "2020-12-17T23:58:21.606638Z",
     "start_time": "2020-12-17T23:58:21.514624Z"
    }
   },
   "outputs": [
    {
     "name": "stdout",
     "output_type": "stream",
     "text": [
      "Sonuç: -0.074\n",
      "\n"
     ]
    }
   ],
   "source": [
    "clc; clear;\n",
    "syms f(w)\n",
    "\n",
    "numerator = (5.1 + 1 * j * w); % pay\n",
    "denominator = 7.1 + (1 * j * 6.3 * w); % payda\n",
    "\n",
    "f(w) = numerator / denominator;\n",
    "w = 8.4;\n",
    "result = eval(f);\n",
    "fprintf('Sonuç: %.3f\\n', imag(result))"
   ]
  },
  {
   "cell_type": "markdown",
   "metadata": {},
   "source": [
    "### Resim 28"
   ]
  },
  {
   "cell_type": "markdown",
   "metadata": {},
   "source": [
    "If the system output is $y(t) = 3.2e^{-0.2t} + 3.9e^{-0.6t} + 11cos(2pi3t-99°)$, find $y(3.5)$"
   ]
  },
  {
   "cell_type": "code",
   "execution_count": 30,
   "metadata": {
    "ExecuteTime": {
     "end_time": "2020-12-17T23:58:21.716646Z",
     "start_time": "2020-12-17T23:58:21.608619Z"
    },
    "solution": "hidden"
   },
   "outputs": [
    {
     "name": "stdout",
     "output_type": "stream",
     "text": [
      "\n",
      "ans =\n",
      "\n",
      "    3.7874\n",
      "\n",
      "\n"
     ]
    }
   ],
   "source": [
    "syms y(t)\n",
    "\n",
    "y(t) = 3.2 * exp(-0.2 * t) + 3.9 * exp(-0.6 * t) + 11 * cos(2*pi*3*t - deg2rad(99));\n",
    "\n",
    "eval(y(3.5))"
   ]
  },
  {
   "cell_type": "markdown",
   "metadata": {},
   "source": [
    "### Resim 29"
   ]
  },
  {
   "cell_type": "markdown",
   "metadata": {},
   "source": [
    "Consider $F(\\omega)$, a complex function of a real variable $\\omega$\n",
    "\n",
    "$F(\\omega) = \\frac{7.3 + j\\omega}{3.3+j5.5\\omega}$\n",
    "\n",
    "If $\\omega$ = 5.8, find <u>angle</u> of $F(\\omega)$ in <u>radian</u>"
   ]
  },
  {
   "cell_type": "code",
   "execution_count": 1,
   "metadata": {
    "ExecuteTime": {
     "end_time": "2020-12-18T02:20:55.493908Z",
     "start_time": "2020-12-18T02:20:41.741151Z"
    }
   },
   "outputs": [
    {
     "name": "stdout",
     "output_type": "stream",
     "text": [
      "Sonuç: -0.80 Radian\n",
      "\n"
     ]
    }
   ],
   "source": [
    "clc; clear;\n",
    "syms f(w)\n",
    "\n",
    "numerator = (7.3 + 1 * j * w); % pay\n",
    "denominator = 3.3 + (1 * j * 5.5 * w); % payda\n",
    "\n",
    "f(w) = numerator / denominator;\n",
    "w = 5.8;\n",
    "result = eval(f);\n",
    "fprintf('Sonuç: %.2f Radian\\n', angle(result))"
   ]
  },
  {
   "cell_type": "markdown",
   "metadata": {},
   "source": [
    "### Resim 30"
   ]
  },
  {
   "cell_type": "markdown",
   "metadata": {},
   "source": [
    "A system has an impulse response $h(t)=1\\delta(t)-9e^{-0.5t}u(t)$. Find the system response to input (zero-state response) at t=0.6, $y(0.6)$, if the input is $x(t)=u(t)-u(t-1)$"
   ]
  },
  {
   "cell_type": "code",
   "execution_count": 40,
   "metadata": {
    "ExecuteTime": {
     "end_time": "2020-12-18T02:51:54.766061Z",
     "start_time": "2020-12-18T02:51:54.475068Z"
    }
   },
   "outputs": [
    {
     "name": "stdout",
     "output_type": "stream",
     "text": [
      "Sonuç: -3.67\n",
      "\n"
     ]
    }
   ],
   "source": [
    "clc; clear; close all;\n",
    "syms t tau h(t) x(t)\n",
    "\n",
    "% Input Signal\n",
    "x(t) = heaviside(t) - heaviside(t - 1);\n",
    "\n",
    "% Impulse Response\n",
    "h(t) = (1 * dirac(t)) - (9 * exp(-0.5 * t) * heaviside(t));\n",
    "h(t) = simplify(eval(h(t)));\n",
    "\n",
    "% Obtain x(tau) * h(t-tau)\n",
    "m = subs(x, tau) * subs(h, t - tau); \n",
    "y = int(m, tau, -inf, +inf);\n",
    "\n",
    "t = 0.6;\n",
    "fprintf('Sonuç: %.2f\\n', eval(y))"
   ]
  },
  {
   "cell_type": "markdown",
   "metadata": {},
   "source": [
    "### Resim 31"
   ]
  },
  {
   "cell_type": "markdown",
   "metadata": {},
   "source": [
    "A system has an impulse response $h(t)=6\\delta(t)-8e^{-0.9t}u(t)$. Find the system response to input (zero-state response) at t=1.3, $y(1.3)$, if the input is $x(t)=u(t)-u(t-1)$"
   ]
  },
  {
   "cell_type": "code",
   "execution_count": 41,
   "metadata": {
    "ExecuteTime": {
     "end_time": "2020-12-18T02:52:09.020044Z",
     "start_time": "2020-12-18T02:52:08.738027Z"
    }
   },
   "outputs": [
    {
     "name": "stdout",
     "output_type": "stream",
     "text": [
      "Sonuç: -4.03\n",
      "\n"
     ]
    }
   ],
   "source": [
    "clc; clear; close all;\n",
    "syms t tau h(t) x(t)\n",
    "\n",
    "% Input Signal\n",
    "x(t) = heaviside(t) - heaviside(t - 1);\n",
    "\n",
    "% Impulse Response\n",
    "h(t) = (6 * dirac(t)) - (8 * exp(-0.9 * t) * heaviside(t));\n",
    "h(t) = simplify(eval(h(t)));\n",
    "\n",
    "% Obtain x(tau) * h(t-tau)\n",
    "m = subs(x, tau) * subs(h, t - tau); \n",
    "y = int(m, tau, -inf, +inf);\n",
    "\n",
    "t = 1.3;\n",
    "fprintf('Sonuç: %.2f\\n', eval(y))"
   ]
  },
  {
   "cell_type": "markdown",
   "metadata": {},
   "source": [
    "### Resim 32"
   ]
  },
  {
   "cell_type": "markdown",
   "metadata": {},
   "source": [
    "A system has an impulse response $h(t)=[-5e^{-0.8t} + 14e^{-0.8t}]u(t)$. Find the system response to input (zero-state response) at t=2.2, $y(2.2)$, if the input is $x(t)=u(t-1)-u(t-2)$"
   ]
  },
  {
   "cell_type": "code",
   "execution_count": 43,
   "metadata": {
    "ExecuteTime": {
     "end_time": "2020-12-18T03:09:03.546331Z",
     "start_time": "2020-12-18T03:09:03.270332Z"
    }
   },
   "outputs": [
    {
     "name": "stdout",
     "output_type": "stream",
     "text": [
      "Sonuç: 5.28\n",
      "\n"
     ]
    }
   ],
   "source": [
    "clc; clear; close all;\n",
    "syms t tau h(t) x(t)\n",
    "\n",
    "% Input Signal\n",
    "x(t) = heaviside(t - 1) - heaviside(t - 2);\n",
    "\n",
    "% Impulse Response\n",
    "h(t) = (-5 * exp(-0.8 * t) + 14 * exp(-0.8 * t)) * heaviside(t);\n",
    "h(t) = simplify(eval(h(t)));\n",
    "\n",
    "% Obtain x(tau) * h(t-tau)\n",
    "m = subs(x, tau) * subs(h, t - tau); \n",
    "y = int(m, tau, -inf, +inf);\n",
    "\n",
    "t = 2.2;\n",
    "fprintf('Sonuç: %.2f\\n', eval(y))"
   ]
  },
  {
   "cell_type": "markdown",
   "metadata": {},
   "source": [
    "### Resim 33"
   ]
  },
  {
   "cell_type": "markdown",
   "metadata": {},
   "source": [
    "We have $x(t)=\\color{magenta}{54}e^{-\\color{magenta}{0.7}t}u(t)$ and $z(t)=e^{j\\color{magenta}{38}t}x(t)$ signals. Find amplitude response of $z(t)$ at $\\omega=\\color{magenta}{41}, |Z(41)|$\n",
    "\n",
    "**Some Hints:**\n",
    "\n",
    "$x(t) \\leftrightarrow X(\\omega)$\n",
    "\n",
    "$ax(t) \\leftrightarrow aX(\\omega)$\n",
    "\n",
    "User Fourier transform table to find $|X(\\omega)|$\n",
    "\n",
    "Then use the <u>frequency shifting property</u>"
   ]
  },
  {
   "cell_type": "code",
   "execution_count": 54,
   "metadata": {
    "ExecuteTime": {
     "end_time": "2020-12-18T03:28:26.973608Z",
     "start_time": "2020-12-18T03:28:26.944626Z"
    }
   },
   "outputs": [
    {
     "name": "stdout",
     "output_type": "stream",
     "text": [
      "\n",
      "ans =\n",
      "\n",
      "   17.5291\n",
      "\n",
      "\n"
     ]
    }
   ],
   "source": [
    "abs(54 / (0.7 + j * (41 - 38)))"
   ]
  },
  {
   "cell_type": "markdown",
   "metadata": {},
   "source": [
    "### Resim 34"
   ]
  },
  {
   "cell_type": "markdown",
   "metadata": {},
   "source": [
    "We have $x(t)=\\color{magenta}{74}e^{-\\color{magenta}{0.9}t}u(t)$ and $z(t)=e^{j\\color{magenta}{34}t}x(t)$ signals. Find amplitude response of $z(t)$ at $\\omega=\\color{magenta}{46}, |Z(46)|$\n",
    "\n",
    "**Some Hints:**\n",
    "\n",
    "$x(t) \\leftrightarrow X(\\omega)$\n",
    "\n",
    "$ax(t) \\leftrightarrow aX(\\omega)$\n",
    "\n",
    "User Fourier transform table to find $|X(\\omega)|$\n",
    "\n",
    "Then use the <u>frequency shifting property</u>"
   ]
  },
  {
   "cell_type": "code",
   "execution_count": 58,
   "metadata": {
    "ExecuteTime": {
     "end_time": "2020-12-18T03:53:05.862655Z",
     "start_time": "2020-12-18T03:53:05.839653Z"
    }
   },
   "outputs": [
    {
     "name": "stdout",
     "output_type": "stream",
     "text": [
      "\n",
      "ans =\n",
      "\n",
      "    6.1494\n",
      "\n",
      "\n"
     ]
    }
   ],
   "source": [
    "abs(74 / (0.9 + j * (46 - 34)))"
   ]
  },
  {
   "cell_type": "markdown",
   "metadata": {
    "ExecuteTime": {
     "end_time": "2020-12-18T03:36:45.269252Z",
     "start_time": "2020-12-18T03:36:40.042998Z"
    }
   },
   "source": [
    "### Resim 35"
   ]
  },
  {
   "cell_type": "markdown",
   "metadata": {},
   "source": [
    "<center>Slayt 11 - Sayfa 19 - Highpass Filter</center>\n",
    "\n",
    "![image.jpg](./Resimler/35.jpg)\n",
    "\n",
    "The figure shows the frequency response of a system. If input is $x(t)=5.5sin(2\\pi200t)+1.4sin(2\\pi500t)$ find the output $y(t)$"
   ]
  },
  {
   "cell_type": "code",
   "execution_count": 99,
   "metadata": {
    "ExecuteTime": {
     "end_time": "2020-12-18T05:27:11.246210Z",
     "start_time": "2020-12-18T05:27:11.215231Z"
    }
   },
   "outputs": [
    {
     "name": "stdout",
     "output_type": "stream",
     "text": [
      "Değerler Yaklaşık Çıkabilir, En Yakın Olan Doğru Cevap Olacak\n",
      "\n",
      "Sonuç: 2.09(sin(2pi200t + (68)) + 0.98(sin(2pi500t + (45))\n"
     ]
    }
   ],
   "source": [
    "clc; clear;\n",
    "syms t\n",
    "%--------------------------------------------------------------------------------------------%\n",
    "% 5.5 * sin(2 * pi * 200 * t)\n",
    "x_coeff_1_m = 5.5; % 1. Çarpan\n",
    "x_coeff_1_t = 200; % 200 Hz\n",
    "\n",
    "% Frekansın Kestiği Noktalar\n",
    "x_coeff_1_a_resp = 0.38; % Sürekli Çizgi, Sol Taraf, Gerilim Değeri (Volt Cinsinden)\n",
    "x_coeff_1_p_resp = 68; % Noktalı Çizgi, Sağ Taraf, Açısal Değeri/Fazı (Derece Cinsinden)\n",
    "%--------------------------------------------------------------------------------------------%\n",
    "%--------------------------------------------------------------------------------------------%\n",
    "% 1.4 * sin(2 * pi * 500 * t)\n",
    "x_coeff_2_m = 1.4; % 2. Çarpan\n",
    "x_coeff_2_t = 500; % 500 Hz\n",
    "\n",
    "% Frekansın Kestiği Noktalar\n",
    "x_coeff_2_a_resp = 0.7; % Sürekli Çizgi, Sol Taraf, Gerilim Değeri (Volt Cinsinden)\n",
    "x_coeff_2_p_resp = 45; % Noktalı Çizgi, Sağ Taraf, Açısal Değeri/Fazı (Derece Cinsinden)\n",
    "%--------------------------------------------------------------------------------------------%\n",
    "fprintf(\"Değerler Yaklaşık Çıkabilir, En Yakın Olan Doğru Cevap Olacak\\n\\n\")\n",
    "fprintf(\"Sonuç: %.2f(sin(2pi%it + (%i)) + \", x_coeff_1_m * x_coeff_1_a_resp,x_coeff_1_t, x_coeff_1_p_resp)\n",
    "fprintf(\"%.2f(sin(2pi%it + (%i))\", x_coeff_2_m * x_coeff_2_a_resp,x_coeff_2_t, x_coeff_2_p_resp)"
   ]
  },
  {
   "cell_type": "markdown",
   "metadata": {},
   "source": [
    "### Resim 36"
   ]
  },
  {
   "cell_type": "markdown",
   "metadata": {},
   "source": [
    "<center>Slayt 11 - Sayfa 18 - Lowpass Filter</center>\n",
    "\n",
    "![image.jpg](./Resimler/36.jpg)\n",
    "\n",
    "The figure shows the frequency response of a system. If input is $x(t)=8.8sin(2\\pi500t)+8.9sin(2\\pi900t)$ find the output $y(t)$"
   ]
  },
  {
   "cell_type": "code",
   "execution_count": 101,
   "metadata": {
    "ExecuteTime": {
     "end_time": "2020-12-18T05:39:09.289225Z",
     "start_time": "2020-12-18T05:39:09.252232Z"
    }
   },
   "outputs": [
    {
     "name": "stdout",
     "output_type": "stream",
     "text": [
      "Değerler Yaklaşık Çıkabilir, En Yakın Olan Doğru Cevap Olacak\n",
      "\n",
      "Sonuç: 6.16(sin(2pi500t + (-45)) + 4.27(sin(2pi900t + (-61))\n"
     ]
    }
   ],
   "source": [
    "clc; clear;\n",
    "syms t\n",
    "%--------------------------------------------------------------------------------------------%\n",
    "% 8.8 * sin(2 * pi * 500 * t)\n",
    "x_coeff_1_m = 8.8; % 1. Çarpan\n",
    "x_coeff_1_t = 500; % 500 Hz\n",
    "\n",
    "% Frekansın Kestiği Noktalar\n",
    "x_coeff_1_a_resp = 0.7; % Sürekli Çizgi, Sol Taraf, Gerilim Değeri (Volt Cinsinden)\n",
    "x_coeff_1_p_resp = -45; % Noktalı Çizgi, Sağ Taraf, Açısal Değeri/Fazı (Derece Cinsinden)\n",
    "%--------------------------------------------------------------------------------------------%\n",
    "%--------------------------------------------------------------------------------------------%\n",
    "% 8.9 * sin(2 * pi * 900 * t)\n",
    "x_coeff_2_m = 8.9; % 2. Çarpan\n",
    "x_coeff_2_t = 900; % 500 Hz\n",
    "\n",
    "% Frekansın Kestiği Noktalar\n",
    "x_coeff_2_a_resp = 0.48; % Sürekli Çizgi, Sol Taraf, Gerilim Değeri (Volt Cinsinden)\n",
    "x_coeff_2_p_resp = -61; % Noktalı Çizgi, Sağ Taraf, Açısal Değeri/Fazı (Derece Cinsinden)\n",
    "%--------------------------------------------------------------------------------------------%\n",
    "fprintf(\"Değerler Yaklaşık Çıkabilir, En Yakın Olan Doğru Cevap Olacak\\n\\n\")\n",
    "fprintf(\"Sonuç: %.2f(sin(2pi%it + (%i)) + \", x_coeff_1_m * x_coeff_1_a_resp,x_coeff_1_t, x_coeff_1_p_resp)\n",
    "fprintf(\"%.2f(sin(2pi%it + (%i))\", x_coeff_2_m * x_coeff_2_a_resp,x_coeff_2_t, x_coeff_2_p_resp)"
   ]
  },
  {
   "cell_type": "markdown",
   "metadata": {},
   "source": [
    "### Resim 37"
   ]
  },
  {
   "cell_type": "markdown",
   "metadata": {},
   "source": [
    "<center>Slayt 11 - Sayfa 18 - Lowpass Filter</center>\n",
    "\n",
    "![image.jpg](./Resimler/36.jpg)\n",
    "\n",
    "The figure shows the frequency response of a system. If input is $x(t)=1.2sin(2\\pi100t)+6.5sin(2\\pi900t)$ find the output $y(t)$"
   ]
  },
  {
   "cell_type": "code",
   "execution_count": 105,
   "metadata": {
    "ExecuteTime": {
     "end_time": "2020-12-18T06:09:58.624034Z",
     "start_time": "2020-12-18T06:09:58.582034Z"
    }
   },
   "outputs": [
    {
     "name": "stdout",
     "output_type": "stream",
     "text": [
      "Değerler Yaklaşık Çıkabilir, En Yakın Olan Doğru Cevap Olacak\n",
      "\n",
      "Sonuç: 1.18(sin(2pi100t + (-11)) + 3.12(sin(2pi900t + (-60))\n"
     ]
    }
   ],
   "source": [
    "clc; clear;\n",
    "syms t\n",
    "%--------------------------------------------------------------------------------------------%\n",
    "% 1.2 * sin(2 * pi * 100 * t)\n",
    "x_coeff_1_m = 1.2; % 1. Çarpan\n",
    "x_coeff_1_t = 100; % 100 Hz\n",
    "\n",
    "% Frekansın Kestiği Noktalar\n",
    "x_coeff_1_a_resp = 0.98; % Sürekli Çizgi, Sol Taraf, Gerilim Değeri (Volt Cinsinden)\n",
    "x_coeff_1_p_resp = -11; % Noktalı Çizgi, Sağ Taraf, Açısal Değeri/Fazı (Derece Cinsinden)\n",
    "%--------------------------------------------------------------------------------------------%\n",
    "%--------------------------------------------------------------------------------------------%\n",
    "% 6.5 * sin(2 * pi * 900 * t)\n",
    "x_coeff_2_m = 6.5; % 2. Çarpan\n",
    "x_coeff_2_t = 900; % 900 Hz\n",
    "\n",
    "% Frekansın Kestiği Noktalar\n",
    "x_coeff_2_a_resp = 0.48; % Sürekli Çizgi, Sol Taraf, Gerilim Değeri (Volt Cinsinden)\n",
    "x_coeff_2_p_resp = -60; % Noktalı Çizgi, Sağ Taraf, Açısal Değeri/Fazı (Derece Cinsinden)\n",
    "%--------------------------------------------------------------------------------------------%\n",
    "fprintf(\"Değerler Yaklaşık Çıkabilir, En Yakın Olan Doğru Cevap Olacak\\n\\n\")\n",
    "fprintf(\"Sonuç: %.2f(sin(2pi%it + (%i)) + \", x_coeff_1_m * x_coeff_1_a_resp,x_coeff_1_t, x_coeff_1_p_resp)\n",
    "fprintf(\"%.2f(sin(2pi%it + (%i))\", x_coeff_2_m * x_coeff_2_a_resp,x_coeff_2_t, x_coeff_2_p_resp)"
   ]
  },
  {
   "cell_type": "markdown",
   "metadata": {
    "ExecuteTime": {
     "end_time": "2020-12-18T06:12:56.643905Z",
     "start_time": "2020-12-18T06:12:56.267928Z"
    }
   },
   "source": [
    "### Resim 38"
   ]
  },
  {
   "cell_type": "markdown",
   "metadata": {},
   "source": [
    "Find the amplitude of $\\frac{5}{3}\\text{Hz}$ frequency component of the waveform if $A=80.8$"
   ]
  },
  {
   "cell_type": "code",
   "execution_count": 119,
   "metadata": {
    "ExecuteTime": {
     "end_time": "2020-12-18T06:40:46.867179Z",
     "start_time": "2020-12-18T06:40:45.243154Z"
    }
   },
   "outputs": [
    {
     "name": "stdout",
     "output_type": "stream",
     "text": [
      "\n"
     ]
    },
    {
     "data": {
      "image/png": "[encoded data removed]",
      "text/plain": [
       "<IPython.core.display.Image object>"
      ]
     },
     "metadata": {},
     "output_type": "display_data"
    }
   ],
   "source": [
    "% You have first to construct the original signal \"Square(t)\" so as to compare it with Fourier approximation :\n",
    " clear , close all;\n",
    " Fs=60;\n",
    " t=0:1/Fs:20-1/Fs;\n",
    " y=square(t,50);\n",
    " y(y>0)=2;\n",
    " y(y<0)=-12;\n",
    " figure, plot(t,y);\n",
    " axis ([0 20 -20 10])\n",
    " % Fourier Series \n",
    " a0=0;\n",
    " Fy=zeros(size(t));\n",
    " N=10;\n",
    " for n=1:2:N\n",
    "      Fy=Fy+(4/n*pi)*sin(2*pi*n*t/(2*pi));\n",
    " end\n",
    " hold on,\n",
    " plot(t,Fy,'r')\n",
    " legend(' Square ','Fourier Approx');"
   ]
  }
 ],
 "metadata": {
  "kernelspec": {
   "display_name": "Matlab",
   "language": "matlab",
   "name": "matlab"
  },
  "language_info": {
   "codemirror_mode": "octave",
   "file_extension": ".m",
   "help_links": [
    {
     "text": "MetaKernel Magics",
     "url": "https://metakernel.readthedocs.io/en/latest/source/README.html"
    }
   ],
   "mimetype": "text/x-octave",
   "name": "matlab",
   "version": "0.16.11"
  },
  "toc": {
   "base_numbering": 1,
   "nav_menu": {},
   "number_sections": true,
   "sideBar": true,
   "skip_h1_title": false,
   "title_cell": "Table of Contents",
   "title_sidebar": "Contents",
   "toc_cell": false,
   "toc_position": {
    "height": "595.2px",
    "left": "122px",
    "top": "141.6px",
    "width": "245.2px"
   },
   "toc_section_display": true,
   "toc_window_display": true
  }
 },
 "nbformat": 4,
 "nbformat_minor": 4
}
