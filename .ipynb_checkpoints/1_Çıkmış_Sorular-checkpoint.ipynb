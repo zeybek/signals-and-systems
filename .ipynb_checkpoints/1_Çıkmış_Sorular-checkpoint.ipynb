{
 "cells": [
  {
   "cell_type": "markdown",
   "metadata": {},
   "source": [
    "### Resim 1"
   ]
  },
  {
   "cell_type": "markdown",
   "metadata": {},
   "source": [
    "If the system output is $y(t) = 9e^{-0.5t} + 9.2e^{-0.3t} + 98cos(2pi3t-82°)$, find $y(3)$"
   ]
  },
  {
   "cell_type": "code",
   "execution_count": 1,
   "metadata": {
    "ExecuteTime": {
     "end_time": "2021-01-25T07:58:59.874427Z",
     "start_time": "2021-01-25T07:58:25.579465Z"
    }
   },
   "outputs": [
    {
     "name": "stdout",
     "output_type": "stream",
     "text": [
      "\n",
      "ans =\n",
      "\n",
      "   19.3876\n",
      "\n",
      "\n"
     ]
    }
   ],
   "source": [
    ">matlab\n",
    "syms y(t)\n",
    "\n",
    "y(t) = 9 * exp(-0.5 * t) + 9.2 * exp(-0.3 * t) + 98 * cos(2*pi*3*t - deg2rad(82));\n",
    "\n",
    "eval(y(3))"
   ]
  },
  {
   "cell_type": "markdown",
   "metadata": {},
   "source": [
    "### Resim 2"
   ]
  },
  {
   "cell_type": "markdown",
   "metadata": {},
   "source": [
    "Consider $F(\\omega)$, a complex function of a real variable $\\omega$\n",
    "\n",
    "$F(\\omega) = \\frac{5.1 + j\\omega}{7.1+j6.3\\omega}$\n",
    "\n",
    "If $\\omega$ = 8.4, find <u>real part</u> of $F(\\omega)$"
   ]
  },
  {
   "cell_type": "code",
   "execution_count": 2,
   "metadata": {
    "ExecuteTime": {
     "end_time": "2021-01-25T07:59:17.455656Z",
     "start_time": "2021-01-25T07:59:17.311640Z"
    }
   },
   "outputs": [
    {
     "name": "stdout",
     "output_type": "stream",
     "text": [
      "Sonuç: 0.17\n",
      "\n"
     ]
    }
   ],
   "source": [
    ">matlab\n",
    "clc; clear;\n",
    "syms f(w)\n",
    "\n",
    "numerator = (5.1 + 1 * j * w); % pay\n",
    "denominator = 7.1 + (1 * j * 6.3 * w); % payda\n",
    "\n",
    "f(w) = numerator / denominator;\n",
    "w = 8.4;\n",
    "result = eval(f);\n",
    "fprintf('Sonuç: %.2f\\n', real(result))"
   ]
  },
  {
   "cell_type": "markdown",
   "metadata": {},
   "source": [
    "### Resim 3"
   ]
  },
  {
   "cell_type": "markdown",
   "metadata": {},
   "source": [
    "Consider $F(\\omega)$, a complex function of a real variable $\\omega$\n",
    "\n",
    "$F(\\omega) = \\frac{2.7 + j\\omega}{5.7+j9.3\\omega}$\n",
    "\n",
    "If $\\omega$ = 5, find <u>angle</u> of $F(\\omega)$ in <u>radian</u>"
   ]
  },
  {
   "cell_type": "code",
   "execution_count": 3,
   "metadata": {
    "ExecuteTime": {
     "end_time": "2021-01-19T22:48:40.700040Z",
     "start_time": "2021-01-19T22:48:40.546021Z"
    }
   },
   "outputs": [
    {
     "name": "stdout",
     "output_type": "stream",
     "text": [
      "\n",
      "ans =\n",
      "\n",
      "   -0.3732\n",
      "\n",
      "\n"
     ]
    }
   ],
   "source": [
    ">matlab\n",
    "clc;clear;\n",
    "syms f(w)\n",
    "\n",
    "numerator = (2.7 + 1 * j * w); % pay\n",
    "denominator = 5.7 + (1 * j * 9.3 * w); % payda\n",
    "\n",
    "f(w) = numerator / denominator;\n",
    "w = 5;\n",
    "result = eval(f);\n",
    "angle(result)"
   ]
  },
  {
   "cell_type": "markdown",
   "metadata": {},
   "source": [
    "### Resim 4"
   ]
  },
  {
   "cell_type": "markdown",
   "metadata": {},
   "source": [
    "#### Soru 1"
   ]
  },
  {
   "cell_type": "markdown",
   "metadata": {
    "tags": [
     "sinusoid"
    ]
   },
   "source": [
    "Express $7.1cos(\\omega t) + 8.5sin(\\omega t)$ as a single sinusoid"
   ]
  },
  {
   "cell_type": "code",
   "execution_count": 9,
   "metadata": {
    "ExecuteTime": {
     "end_time": "2021-01-24T19:46:40.749759Z",
     "start_time": "2021-01-24T19:46:40.723743Z"
    }
   },
   "outputs": [
    {
     "name": "stdout",
     "output_type": "stream",
     "text": [
      "Sonuç: 11.08cos(wₒt + 50.13°)\n"
     ]
    }
   ],
   "source": [
    ">matlab\n",
    "clc; clear;\n",
    "% Express x(t) as single sinusoid\n",
    "\n",
    "% x(t) = cos(wₒt) - √3sin(wₒt)\n",
    "complexNumber = 7.1 + j *- (-8.5);\n",
    "\n",
    "if rad2deg(angle(complexNumber)) < 0\n",
    "  signature = \"-\";\n",
    "else\n",
    "  signature = \"+\";\n",
    "end\n",
    "\n",
    "fprintf(\"Sonuç: %.2fcos(wₒt %s %.2f°)\", sqrt(real(complexNumber)^2 + imag(complexNumber)^2), signature, abs(rad2deg(angle(complexNumber))))"
   ]
  },
  {
   "cell_type": "markdown",
   "metadata": {},
   "source": [
    "#### Soru 2"
   ]
  },
  {
   "cell_type": "markdown",
   "metadata": {},
   "source": [
    "If $g(t)=14.9je^{j31°}e^{j2t} - 14.9je^{-j31°}e^{-j2t}$ write out and simplify"
   ]
  },
  {
   "cell_type": "code",
   "execution_count": null,
   "metadata": {
    "ExecuteTime": {
     "start_time": "2021-01-19T23:04:44.687Z"
    }
   },
   "outputs": [
    {
     "data": {
      "text/html": [
       "<div>&#36;&#36;&#45;&#50;&#57;&#46;&#56;&#32;&#92;&#115;&#105;&#110;&#32;&#40;&#50;&#32;&#116;&#43;&#123;&#125;&#94;&#123;&#92;&#99;&#105;&#114;&#99;&#125;&#40;&#51;&#49;&#41;&#41;&#36;&#36;</div>"
      ],
      "text/plain": [
       "-29.8 \\sin (2 t+{}^{\\circ}(31))"
      ]
     },
     "execution_count": 12,
     "metadata": {
      "text/html": [],
      "text/plain": []
     },
     "output_type": "execute_result"
    }
   ],
   "source": [
    ">wolframlanguage12.1\n",
    "\n",
    "A = 14.9 * I * Exp[I*Degree[31]]*Exp[I* 2 t];\n",
    "B = 14.9 * I * Exp[-I*Degree[31]]*Exp[-I* 2 t];\n",
    "Result = TeXForm[FullSimplify[A - B]]"
   ]
  },
  {
   "cell_type": "markdown",
   "metadata": {},
   "source": [
    "### Resim 5"
   ]
  },
  {
   "cell_type": "markdown",
   "metadata": {},
   "source": [
    "#### Soru 1"
   ]
  },
  {
   "cell_type": "markdown",
   "metadata": {},
   "source": [
    "If $g(t)=5.5je^{j159°}e^{j2t} - 14.9je^{-j159°}e^{-j2t}$ write out and simplify"
   ]
  },
  {
   "cell_type": "code",
   "execution_count": null,
   "metadata": {
    "ExecuteTime": {
     "start_time": "2021-01-19T23:05:19.054Z"
    }
   },
   "outputs": [
    {
     "data": {
      "text/html": [
       "<div>&#36;&#36;&#45;&#49;&#49;&#46;&#32;&#92;&#115;&#105;&#110;&#32;&#40;&#50;&#32;&#116;&#43;&#123;&#125;&#94;&#123;&#92;&#99;&#105;&#114;&#99;&#125;&#40;&#49;&#53;&#57;&#41;&#41;&#36;&#36;</div>"
      ],
      "text/plain": [
       "-11. \\sin (2 t+{}^{\\circ}(159))"
      ]
     },
     "execution_count": 17,
     "metadata": {
      "text/html": [],
      "text/plain": []
     },
     "output_type": "execute_result"
    }
   ],
   "source": [
    ">wolframlanguage12.1\n",
    "\n",
    "A = 5.5 * I * Exp[I*Degree[159]]*Exp[I* 2 t];\n",
    "B = 5.5 * I * Exp[-I*Degree[159]]*Exp[-I* 2 t];\n",
    "\n",
    "% (* Çıkan Sonuçta Dereceye 90 Ekleyerek Cos Değerini Elde Edeceğiz ve \n",
    "% Sonucun İşaretini Pozitife Çevireceğiz *)\n",
    "Result = TeXForm[FullSimplify[A - B]]"
   ]
  },
  {
   "cell_type": "markdown",
   "metadata": {},
   "source": [
    "#### Soru 2"
   ]
  },
  {
   "cell_type": "markdown",
   "metadata": {},
   "source": [
    "Express $-9.2cos(\\omega t) - 4.7sin(\\omega t)$ as a single sinusoid"
   ]
  },
  {
   "cell_type": "code",
   "execution_count": 8,
   "metadata": {
    "ExecuteTime": {
     "end_time": "2021-01-19T23:05:21.900778Z",
     "start_time": "2021-01-19T23:05:21.843777Z"
    }
   },
   "outputs": [
    {
     "name": "stdout",
     "output_type": "stream",
     "text": [
      "Sonuç: 10.33cos(wₒt - 152.94°)\n"
     ]
    }
   ],
   "source": [
    ">matlab\n",
    "clc; clear;\n",
    "% Express x(t) as single sinusoid\n",
    "\n",
    "% x(t) = cos(wₒt) - √3sin(wₒt)\n",
    "complexNumber = -9.2 + j *- (4.7);\n",
    "\n",
    "if rad2deg(angle(complexNumber)) < 0\n",
    "  signature = \"-\";\n",
    "else\n",
    "  signature = \"+\";\n",
    "end\n",
    "\n",
    "fprintf(\"Sonuç: %.2fcos(wₒt %s %.2f°)\", sqrt(real(complexNumber)^2 + imag(complexNumber)^2), signature, abs(rad2deg(angle(complexNumber))))"
   ]
  },
  {
   "cell_type": "markdown",
   "metadata": {},
   "source": [
    "#### Soru 3 [Yapılmadı]"
   ]
  },
  {
   "cell_type": "markdown",
   "metadata": {},
   "source": [
    "Express $\\frac{-6}{6.1+j4.5}$ in polar form"
   ]
  },
  {
   "cell_type": "code",
   "execution_count": 1,
   "metadata": {
    "ExecuteTime": {
     "end_time": "2021-01-19T22:47:56.996709Z",
     "start_time": "2021-01-19T22:47:56.983708Z"
    }
   },
   "outputs": [
    {
     "name": "stderr",
     "output_type": "stream",
     "text": [
      "UsageError: Line magic function `%` not found.\n"
     ]
    }
   ],
   "source": [
    "% Araştırılacak"
   ]
  },
  {
   "cell_type": "markdown",
   "metadata": {},
   "source": [
    "### Resim 6"
   ]
  },
  {
   "cell_type": "markdown",
   "metadata": {},
   "source": [
    "A system has an impulse response $h(t)=3\\delta(t)-8e^{-0.1t}u(t)$. Find the system response to input (zero-state response) at t=1, $y(1)$, if the input is $x(t)=u(t)-u(t-1)$"
   ]
  },
  {
   "cell_type": "code",
   "execution_count": 4,
   "metadata": {
    "ExecuteTime": {
     "end_time": "2021-01-23T17:35:38.419816Z",
     "start_time": "2021-01-23T17:35:35.642890Z"
    }
   },
   "outputs": [
    {
     "name": "stdout",
     "output_type": "stream",
     "text": [
      "\n",
      "ans =\n",
      "\n",
      "    3.4303\n",
      "\n",
      "\n"
     ]
    }
   ],
   "source": [
    ">matlab\n",
    "clc; clear; close all;\n",
    "syms t tau h(t) x(t)\n",
    "\n",
    "% Input Signal\n",
    "x(t) = heaviside(t) - heaviside(t - 1);\n",
    "\n",
    "% Impulse Response\n",
    "h(t) = simplify(eval((7 * dirac(t)) - (8 * exp(-1.4 * t) * heaviside(t))));\n",
    "\n",
    "% Obtain x(tau) * h(t-tau)\n",
    "m = subs(x, tau) * subs(h, t - tau); \n",
    "y = int(m, tau, -inf, +inf);\n",
    "\n",
    "t = 0;\n",
    "% y_zero = eval(-y);\n",
    "\n",
    "t = 0.7;\n",
    "eval(y)"
   ]
  },
  {
   "cell_type": "markdown",
   "metadata": {},
   "source": [
    "### Resim 7"
   ]
  },
  {
   "cell_type": "markdown",
   "metadata": {
    "deletable": false,
    "editable": false
   },
   "source": [
    "Consider $F(\\omega)$, a complex function of a real variable $\\omega$\n",
    "\n",
    "$F(\\omega) = \\frac{8.1 + j\\omega}{8.5+j5.3\\omega}$\n",
    "\n",
    "If $\\omega$ = 4.7, find <u>real part</u> of $F(\\omega)$"
   ]
  },
  {
   "cell_type": "code",
   "execution_count": 7,
   "metadata": {
    "ExecuteTime": {
     "end_time": "2021-01-19T22:48:43.697039Z",
     "start_time": "2021-01-19T22:48:43.589043Z"
    }
   },
   "outputs": [
    {
     "name": "stdout",
     "output_type": "stream",
     "text": [
      "\n",
      "ans =\n",
      "\n",
      "    0.2684\n",
      "\n",
      "\n"
     ]
    }
   ],
   "source": [
    ">matlab\n",
    "clc; clear;\n",
    "syms f(w)\n",
    "\n",
    "numerator = 8.1 + 1 * j * w; % pay\n",
    "denominator = 8.5 + (1 * j * 5.3 * w); % payda\n",
    "\n",
    "f(w) = numerator / denominator;\n",
    "w = 4.7;\n",
    "\n",
    "real(eval(f))"
   ]
  },
  {
   "cell_type": "markdown",
   "metadata": {},
   "source": [
    "### Resim 8"
   ]
  },
  {
   "cell_type": "markdown",
   "metadata": {},
   "source": [
    "$x(t)$ is a **periodic signal** and $0.6t^3[u(t)-u(t-6)]$ describes its **one period**.\n",
    "\n",
    "What is the value of $x(t)$ at time $t=437$?\n",
    "\n",
    "Hint: Determine one period of the signal and find its values."
   ]
  },
  {
   "cell_type": "code",
   "execution_count": 8,
   "metadata": {
    "ExecuteTime": {
     "end_time": "2021-01-19T22:48:43.953020Z",
     "start_time": "2021-01-19T22:48:43.700028Z"
    }
   },
   "outputs": [
    {
     "name": "stdout",
     "output_type": "stream",
     "text": [
      " \n",
      "ans =\n",
      " \n",
      "75\n",
      " \n",
      "\n"
     ]
    }
   ],
   "source": [
    ">matlab\n",
    "syms f(t)\n",
    "f(t) = 0.6 * t^3;\n",
    "totalPeriod = 6;\n",
    "target = 437;\n",
    "\n",
    "f(mod(target, totalPeriod))"
   ]
  },
  {
   "cell_type": "markdown",
   "metadata": {},
   "source": [
    "### Resim 9"
   ]
  },
  {
   "cell_type": "markdown",
   "metadata": {},
   "source": [
    "If the system output is $y(t)=3.4e^{-0.8t} + 3.7e^{-0.4t} + 6cos(2pi3t - 21^o)$, find $y(4.3)$"
   ]
  },
  {
   "cell_type": "code",
   "execution_count": 9,
   "metadata": {
    "ExecuteTime": {
     "end_time": "2021-01-19T22:48:44.097025Z",
     "start_time": "2021-01-19T22:48:43.957023Z"
    }
   },
   "outputs": [
    {
     "name": "stdout",
     "output_type": "stream",
     "text": [
      "\n",
      "ans =\n",
      "\n",
      "    4.0394\n",
      "\n",
      "\n"
     ]
    }
   ],
   "source": [
    ">matlab\n",
    "clc; clear; close all;\n",
    "syms y(t)\n",
    "\n",
    "y(t) = 3.4 * exp(-0.8 * t) + 3.7 * exp(-0.4 * t) + 6 * cos(2 * pi * 3 * t - deg2rad(21));\n",
    "eval(y(4.3))"
   ]
  },
  {
   "cell_type": "markdown",
   "metadata": {},
   "source": [
    "### Resim 10"
   ]
  },
  {
   "cell_type": "markdown",
   "metadata": {},
   "source": [
    "#### Soru 1 [Yapılmadı]"
   ]
  },
  {
   "cell_type": "markdown",
   "metadata": {},
   "source": [
    "An LTIC system is specified by the equation $\\ddot{y} + 2\\dot{y} = \\dot{x} + 4x$. \n",
    "\n",
    "Find natural response, forced response and total response to input $x(t)=1e^{-2t}u(t)$ when  $y(0^+)=7.3$ and $\\dot{y}(0^+)=-9$"
   ]
  },
  {
   "cell_type": "code",
   "execution_count": 10,
   "metadata": {
    "ExecuteTime": {
     "end_time": "2021-01-19T22:48:45.549020Z",
     "start_time": "2021-01-19T22:48:44.100021Z"
    }
   },
   "outputs": [
    {
     "name": "stdout",
     "output_type": "stream",
     "text": [
      " \n",
      "sol =\n",
      " \n",
      "t + 4*exp(-t) - 3*exp(-2*t) + 1\n",
      " \n",
      "\n"
     ]
    }
   ],
   "source": [
    ">matlab\n",
    "clc; clear;\n",
    "syms x(t) y(t) s\n",
    "\n",
    "x(t) = t^2 + 5*t + 3; % X Fonksiyonu\n",
    "y_eqn = diff(y,t,2) + 3*diff(y,t) + 2*y(t); % Y Fonksiyonu\n",
    "\n",
    "% Sabit Sayılar\n",
    "x_coeffs = double(subs(flip(coeffs(x(t)))));\n",
    "y_coeffs = double(subs(flip(coeffs(y_eqn))));\n",
    "delta = y_coeffs(2)^2 - 4 * y_coeffs(1) * y_coeffs(3);\n",
    "s1 = (-y_coeffs(2) + sqrt(delta)) / 2 * y_coeffs(1);\n",
    "s2 = (-y_coeffs(2) - sqrt(delta)) / 2 * y_coeffs(1);\n",
    "\n",
    "\n",
    "dx(t) = diff(x,t);\n",
    "eqn =  y_eqn == dx(t);\n",
    "Dy = diff(y,t);\n",
    "cond = [y(0)==2, Dy(0)==3];\n",
    "sol = dsolve(eqn,cond)"
   ]
  },
  {
   "cell_type": "markdown",
   "metadata": {},
   "source": [
    "#### Soru 2"
   ]
  },
  {
   "cell_type": "markdown",
   "metadata": {},
   "source": [
    "If $g(t)=14.9je^{j31^o}e^{j2t} - 14.9je^{-j31^o}e^{-j2t}$ write out and simplify"
   ]
  },
  {
   "cell_type": "code",
   "execution_count": null,
   "metadata": {
    "ExecuteTime": {
     "start_time": "2021-01-23T07:58:14.226Z"
    }
   },
   "outputs": [
    {
     "data": {
      "text/html": [
       "<div>&#36;&#36;&#45;&#50;&#57;&#46;&#56;&#32;&#92;&#115;&#105;&#110;&#32;&#40;&#50;&#32;&#116;&#43;&#123;&#125;&#94;&#123;&#92;&#99;&#105;&#114;&#99;&#125;&#40;&#51;&#49;&#41;&#41;&#36;&#36;</div>"
      ],
      "text/plain": [
       "-29.8 \\sin (2 t+{}^{\\circ}(31))"
      ]
     },
     "execution_count": 5,
     "metadata": {
      "text/html": [],
      "text/plain": []
     },
     "output_type": "execute_result"
    }
   ],
   "source": [
    ">wolframlanguage12.1\n",
    "\n",
    "A = 14.9 * I * Exp[ I * Degree[31] ] * Exp[ I * 2 t];\n",
    "B = 14.9 * I * Exp[-I * Degree[31] ] * Exp[-I * 2 t];\n",
    "\n",
    "% (* Çıkan Sonuçta Dereceye 90 Ekleyerek Cos Değerini Elde Edeceğiz ve \n",
    "% Sonucun İşaretini Pozitife Çevireceğiz *)\n",
    "Result = TeXForm[FullSimplify[A - B]]"
   ]
  },
  {
   "cell_type": "markdown",
   "metadata": {},
   "source": [
    "### Resim 11"
   ]
  },
  {
   "cell_type": "markdown",
   "metadata": {},
   "source": [
    "#### Soru 1"
   ]
  },
  {
   "cell_type": "markdown",
   "metadata": {},
   "source": [
    "A system has an impulse response $h(t)=3\\delta(t)-e^{-3t}u(t)$. Find the response to input (zero state response) if the input is $x(t)=2e^{-2t}u(t)$."
   ]
  },
  {
   "cell_type": "code",
   "execution_count": 26,
   "metadata": {
    "ExecuteTime": {
     "end_time": "2021-01-23T08:01:26.837324Z",
     "start_time": "2021-01-23T08:01:26.433326Z"
    },
    "scrolled": true
   },
   "outputs": [
    {
     "name": "stdout",
     "output_type": "stream",
     "text": [
      " \n",
      "ans =\n",
      " \n",
      "3*exp(-2*t)*(sign(t) + 1) - (20*exp(-2*t)*heaviside(t)*(exp((17*t)/10) - 1))/17\n",
      " \n",
      "\n"
     ]
    }
   ],
   "source": [
    ">matlab\n",
    "clc; clear; close all;\n",
    "syms t tau h(t) x(t)\n",
    "\n",
    "% Input Signal\n",
    "x(t) = 2 * exp(-2 * t) * heaviside(t);\n",
    "\n",
    "% Impulse Response\n",
    "h(t) = (3 * dirac(t)) - (exp(-0.3 * t) * heaviside(t));\n",
    "\n",
    "h(t) = simplify(eval(h(t)));\n",
    "\n",
    "% Obtain x(tau) * h(t-tau)\n",
    "m = subs(x, tau) * subs(h, t - tau); \n",
    "y = int(m, tau, -inf, +inf);\n",
    "\n",
    "% t = 2;\n",
    "eval(y)"
   ]
  },
  {
   "cell_type": "markdown",
   "metadata": {},
   "source": [
    "#### Soru 2"
   ]
  },
  {
   "cell_type": "markdown",
   "metadata": {},
   "source": [
    "Express $3.4cos(\\omega t) + 7.2sin(\\omega t)$ as a single sinusoid"
   ]
  },
  {
   "cell_type": "code",
   "execution_count": 27,
   "metadata": {
    "ExecuteTime": {
     "end_time": "2021-01-23T08:01:31.066340Z",
     "start_time": "2021-01-23T08:01:31.041342Z"
    }
   },
   "outputs": [
    {
     "name": "stdout",
     "output_type": "stream",
     "text": [
      "Sonuç: 7.96cos(wₒt - 64.72°)\n"
     ]
    }
   ],
   "source": [
    ">matlab\n",
    "clc; clear;\n",
    "\n",
    "complexNumber = 3.4 + j *- (7.2);\n",
    "\n",
    "if rad2deg(angle(complexNumber)) < 0\n",
    "  signature = \"-\";\n",
    "else\n",
    "  signature = \"+\";\n",
    "end\n",
    "\n",
    "fprintf(\"Sonuç: %.2fcos(wₒt %s %.2f°)\", sqrt(real(complexNumber)^2 + imag(complexNumber)^2), signature, abs(rad2deg(angle(complexNumber))))"
   ]
  },
  {
   "cell_type": "markdown",
   "metadata": {},
   "source": [
    "### Resim 12"
   ]
  },
  {
   "cell_type": "markdown",
   "metadata": {},
   "source": [
    "#### Soru 1"
   ]
  },
  {
   "cell_type": "markdown",
   "metadata": {},
   "source": [
    "Define a 2 Hz cosine signal with an amplitude of 3.9 **between second 2 and second 4**.\n",
    "\n",
    "Draw the signal. (IMPORTANT: Pay attention to the **frequency** of the signal when drawing. Write values of amplitude and time axis)"
   ]
  },
  {
   "cell_type": "code",
   "execution_count": 28,
   "metadata": {
    "ExecuteTime": {
     "end_time": "2021-01-23T08:01:41.686105Z",
     "start_time": "2021-01-23T08:01:35.359170Z"
    }
   },
   "outputs": [
    {
     "name": "stdout",
     "output_type": "stream",
     "text": [
      "\n"
     ]
    },
    {
     "data": {
      "image/png": "[encoded data removed]",
      "text/plain": [
       "<IPython.core.display.Image object>"
      ]
     },
     "metadata": {},
     "output_type": "display_data"
    }
   ],
   "source": [
    ">matlab\n",
    "frequency=2;\n",
    "amplitude=3.9;\n",
    "startTime=2;\n",
    "endTime=4;\n",
    "% samplingFrequency = 1/8000 % 8 KHz\n",
    "samplingFrequency = 0.0001; % Değer Verilmemişse\n",
    "\n",
    "t=startTime:samplingFrequency:endTime;\n",
    "y=amplitude * cos(2*pi*frequency*t);\n",
    "plot(t,y)\n",
    "xlabel(\"Time\")\n",
    "ylabel(\"Amplitude\")\n",
    "ylim([-6 6])\n",
    "grid on"
   ]
  },
  {
   "cell_type": "markdown",
   "metadata": {},
   "source": [
    "#### Soru 2"
   ]
  },
  {
   "cell_type": "markdown",
   "metadata": {},
   "source": [
    "Express $-6.8cos(\\omega t) + 5.2sin(\\omega t)$ as a single sinusoid"
   ]
  },
  {
   "cell_type": "code",
   "execution_count": 14,
   "metadata": {
    "ExecuteTime": {
     "end_time": "2021-01-19T22:48:52.611412Z",
     "start_time": "2021-01-19T22:48:52.583396Z"
    }
   },
   "outputs": [
    {
     "name": "stdout",
     "output_type": "stream",
     "text": [
      "Sonuç: 8.56cos(wₒt - 142.59°)\n"
     ]
    }
   ],
   "source": [
    ">matlab\n",
    "clc; clear;\n",
    "\n",
    "complexNumber = -6.8 + j *- (5.2);\n",
    "\n",
    "if rad2deg(angle(complexNumber)) < 0\n",
    "  signature = \"-\";\n",
    "else\n",
    "  signature = \"+\";\n",
    "end\n",
    "\n",
    "fprintf(\"Sonuç: %.2fcos(wₒt %s %.2f°)\", sqrt(real(complexNumber)^2 + imag(complexNumber)^2), signature, abs(rad2deg(angle(complexNumber))))"
   ]
  },
  {
   "cell_type": "markdown",
   "metadata": {},
   "source": [
    "#### Soru 3"
   ]
  },
  {
   "cell_type": "markdown",
   "metadata": {},
   "source": [
    "If $g(t)=3.6je^{j77^o}e^{j10t} - 3.6je^{-j77^o}e^{-j10t}$ write out and simplify"
   ]
  },
  {
   "cell_type": "code",
   "execution_count": null,
   "metadata": {
    "ExecuteTime": {
     "start_time": "2021-01-23T08:02:01.552Z"
    }
   },
   "outputs": [
    {
     "data": {
      "text/html": [
       "<div>&#36;&#36;&#45;&#55;&#46;&#50;&#32;&#92;&#115;&#105;&#110;&#32;&#40;&#49;&#48;&#32;&#116;&#43;&#123;&#125;&#94;&#123;&#92;&#99;&#105;&#114;&#99;&#125;&#40;&#55;&#55;&#41;&#41;&#36;&#36;</div>"
      ],
      "text/plain": [
       "-7.2 \\sin (10 t+{}^{\\circ}(77))"
      ]
     },
     "execution_count": 9,
     "metadata": {
      "text/html": [],
      "text/plain": []
     },
     "output_type": "execute_result"
    }
   ],
   "source": [
    ">wolframlanguage12.1\n",
    "\n",
    "A = 3.6 * I * Exp[ I * Degree[77] ] * Exp[ I * 10t ];\n",
    "B = 3.6 * I * Exp[-I * Degree[77] ] * Exp[ -I * 10t ];\n",
    "Result = TeXForm[FullSimplify[A - B]]"
   ]
  },
  {
   "cell_type": "markdown",
   "metadata": {},
   "source": [
    "###  Resim 13"
   ]
  },
  {
   "cell_type": "markdown",
   "metadata": {},
   "source": [
    "If $g(t)=14.9je^{j31^o}e^{j2t} - 14.9je^{-j31^o}e^{-j2t}$ write out and simplify"
   ]
  },
  {
   "cell_type": "code",
   "execution_count": null,
   "metadata": {
    "ExecuteTime": {
     "start_time": "2021-01-23T08:02:05.791Z"
    }
   },
   "outputs": [
    {
     "data": {
      "text/html": [
       "<div>&#36;&#36;&#45;&#50;&#57;&#46;&#56;&#32;&#92;&#115;&#105;&#110;&#32;&#40;&#50;&#32;&#116;&#43;&#123;&#125;&#94;&#123;&#92;&#99;&#105;&#114;&#99;&#125;&#40;&#51;&#49;&#41;&#41;&#36;&#36;</div>"
      ],
      "text/plain": [
       "-29.8 \\sin (2 t+{}^{\\circ}(31))"
      ]
     },
     "execution_count": 13,
     "metadata": {
      "text/html": [],
      "text/plain": []
     },
     "output_type": "execute_result"
    }
   ],
   "source": [
    ">wolframlanguage12.1\n",
    "\n",
    "A = 14.9 * I * Exp[ I * Degree[31] ] * Exp[ I * 2t ];\n",
    "B = 14.9 * I * Exp[-I * Degree[31] ] * Exp[ -I * 2t ];\n",
    "Result = TeXForm[FullSimplify[A - B]]"
   ]
  },
  {
   "cell_type": "markdown",
   "metadata": {},
   "source": [
    "### Resim 14"
   ]
  },
  {
   "cell_type": "markdown",
   "metadata": {},
   "source": [
    "$x(t)$ is a **periodic signal** and $0.1t^3[u(t)-u(t-7)]$ describes its **one period**.\n",
    "\n",
    "What is the value of $x(t)$ at time $t = 317$?\n",
    "\n",
    "**Hint:** Determine one period of the signal and find its values."
   ]
  },
  {
   "cell_type": "code",
   "execution_count": 29,
   "metadata": {
    "ExecuteTime": {
     "end_time": "2021-01-23T08:02:08.735287Z",
     "start_time": "2021-01-23T08:02:08.701289Z"
    }
   },
   "outputs": [
    {
     "name": "stdout",
     "output_type": "stream",
     "text": [
      "\n",
      "f =\n",
      "\n",
      "    0.8000\n",
      "\n",
      "\n"
     ]
    }
   ],
   "source": [
    ">matlab\n",
    "t = 317;\n",
    "p = 7;\n",
    "f = 0.1 * mod(t,p) ^ 3"
   ]
  },
  {
   "cell_type": "markdown",
   "metadata": {},
   "source": [
    "### Resim 15"
   ]
  },
  {
   "cell_type": "markdown",
   "metadata": {},
   "source": [
    "Consider $F(\\omega)$, a complex function of a real variable $\\omega$\n",
    "\n",
    "$F(\\omega) = \\frac{208 + j\\omega}{4+j8\\omega}$\n",
    "\n",
    "If $\\omega$ = 8, find <u>magnitude</u> of $F(\\omega)$"
   ]
  },
  {
   "cell_type": "code",
   "execution_count": 30,
   "metadata": {
    "ExecuteTime": {
     "end_time": "2021-01-23T08:02:31.505761Z",
     "start_time": "2021-01-23T08:02:31.364742Z"
    }
   },
   "outputs": [
    {
     "name": "stdout",
     "output_type": "stream",
     "text": [
      "Sonuç: 3.2461\n",
      "\n"
     ]
    }
   ],
   "source": [
    ">matlab\n",
    "clc; clear;\n",
    "syms f(w)\n",
    "\n",
    "numerator = (208 + 1 * j * w); % pay\n",
    "denominator = 4 + (1 * j * 8 * w); % payda\n",
    "\n",
    "f(w) = numerator / denominator;\n",
    "w = 8;\n",
    "result = eval(f);\n",
    "fprintf('Sonuç: %.4f\\n', abs(result))"
   ]
  },
  {
   "cell_type": "markdown",
   "metadata": {},
   "source": [
    "### Resim 16"
   ]
  },
  {
   "cell_type": "markdown",
   "metadata": {},
   "source": [
    "A system has an impulse response $h(t)=[-4e^{1t} + 13e^{-0.9t}]u(t)$. Find the system response to input (zero-state response) at t=2, $y(2)$, if the input is $x(t)=u(t-1)-u(t-2)$"
   ]
  },
  {
   "cell_type": "code",
   "execution_count": 31,
   "metadata": {
    "ExecuteTime": {
     "end_time": "2021-01-23T08:02:37.492269Z",
     "start_time": "2021-01-23T08:02:36.117270Z"
    }
   },
   "outputs": [
    {
     "name": "stdout",
     "output_type": "stream",
     "text": [
      "\n",
      "ans =\n",
      "\n",
      "    6.0433\n",
      "\n",
      "\n"
     ]
    }
   ],
   "source": [
    ">matlab\n",
    "clc; clear; close all;\n",
    "syms t tau h(t) x(t)\n",
    "\n",
    "% Input Signal\n",
    "x(t) = heaviside(t - 1) - heaviside(t - 2);\n",
    "\n",
    "% Impulse Response\n",
    "h(t) = ((-4 * exp(-1 * t)) + (13 * exp(-0.9 * t))) * heaviside(t);\n",
    "\n",
    "h(t) = simplify(eval(h(t)));\n",
    "\n",
    "% Obtain x(tau) * h(t-tau)\n",
    "m = subs(x, tau) * subs(h, t - tau); \n",
    "y = int(m, tau, -inf, +inf);\n",
    "\n",
    "t = 2;\n",
    "eval(y)"
   ]
  },
  {
   "cell_type": "markdown",
   "metadata": {},
   "source": [
    "### Resim 17"
   ]
  },
  {
   "cell_type": "markdown",
   "metadata": {},
   "source": [
    "$x(t)$ is a **periodic signal** and $0.3t^2[u(t)-u(t-7)]$ describes its **one period**.\n",
    "\n",
    "What is the value of $x(t)$ at time $t=441$?\n",
    "\n",
    "Hint: Determine one period of the signal and find its values."
   ]
  },
  {
   "cell_type": "code",
   "execution_count": 34,
   "metadata": {
    "ExecuteTime": {
     "end_time": "2021-01-23T08:02:51.980257Z",
     "start_time": "2021-01-23T08:02:51.909259Z"
    }
   },
   "outputs": [
    {
     "name": "stdout",
     "output_type": "stream",
     "text": [
      "\n",
      "ans =\n",
      "\n",
      "     0\n",
      "\n",
      "\n"
     ]
    }
   ],
   "source": [
    ">matlab\n",
    "syms f(t)\n",
    "f(t) = 0.3 * t^2;\n",
    "totalPeriod = 7;\n",
    "target = 441;\n",
    "\n",
    "eval(f(mod(target, totalPeriod)))"
   ]
  },
  {
   "cell_type": "markdown",
   "metadata": {},
   "source": [
    "### Resim 18"
   ]
  },
  {
   "cell_type": "markdown",
   "metadata": {},
   "source": [
    "$x(t)$ is a **periodic signal** and $0.3t^3[u(t)-u(t-6)]$ describes its **one period**.\n",
    "\n",
    "What is the value of $x(t)$ at time $t=407$?\n",
    "\n",
    "Hint: Determine one period of the signal and find its values."
   ]
  },
  {
   "cell_type": "code",
   "execution_count": 35,
   "metadata": {
    "ExecuteTime": {
     "end_time": "2021-01-23T08:02:54.815094Z",
     "start_time": "2021-01-23T08:02:54.749094Z"
    }
   },
   "outputs": [
    {
     "name": "stdout",
     "output_type": "stream",
     "text": [
      "\n",
      "ans =\n",
      "\n",
      "   37.5000\n",
      "\n",
      "\n"
     ]
    }
   ],
   "source": [
    ">matlab\n",
    "syms f(t)\n",
    "f(t) = 0.3 * t^3;\n",
    "totalPeriod = 6;\n",
    "target = 407;\n",
    "\n",
    "eval(f(mod(target, totalPeriod)))"
   ]
  },
  {
   "cell_type": "markdown",
   "metadata": {},
   "source": [
    "### Resim 19"
   ]
  },
  {
   "cell_type": "markdown",
   "metadata": {},
   "source": [
    "We want to sample $x(t)=12e^{-0.5t}sin(2\\pi2t)u(t)$ continuous signal. Sampling will start at time $0$. If the sampling frequency is $Fs=10$, which one of the following is <u>not one</u> of the sample values?"
   ]
  },
  {
   "cell_type": "code",
   "execution_count": 37,
   "metadata": {
    "ExecuteTime": {
     "end_time": "2021-01-23T08:03:05.735252Z",
     "start_time": "2021-01-23T08:03:05.598249Z"
    }
   },
   "outputs": [
    {
     "name": "stdout",
     "output_type": "stream",
     "text": [
      "[ 0.00 ][ 10.86 ][ 6.38 ][ -6.07 ][ -9.34 ][ 0.00 ][ 8.45 ][ 4.97 ][ -4.73 ][ -7.28 ][ 0.00 ]\n"
     ]
    }
   ],
   "source": [
    ">matlab\n",
    "clc; clear;\n",
    "syms x(t)\n",
    "\n",
    "x(t) = 12 * exp(-0.5 * t) * sin(2 * pi * 2 * t) * heaviside(t);\n",
    "\n",
    "samplingStart = 0; % Sampling Start\n",
    "samplingEnd = 10; % Sampling Frequency\n",
    "period = 1; % default\n",
    "\n",
    "results = [];\n",
    "\n",
    "for value = samplingStart:period:samplingEnd\n",
    "    results(value + 1) = eval(x(value/samplingEnd));\n",
    "end\n",
    "\n",
    "fprintf(\"[ %.2f ]\", results)"
   ]
  },
  {
   "cell_type": "markdown",
   "metadata": {},
   "source": [
    "### Resim 20"
   ]
  },
  {
   "cell_type": "markdown",
   "metadata": {},
   "source": [
    "We want to sample $x(t)=15e^{-0.7t}cos(2\\pi3t)u(t)$ continuous signal. Sampling will start at time $0$. If the sampling frequency is $Fs=15$, which one of the following is <u>not one</u> of the sample values?"
   ]
  },
  {
   "cell_type": "code",
   "execution_count": 38,
   "metadata": {
    "ExecuteTime": {
     "end_time": "2021-01-23T08:03:08.237960Z",
     "start_time": "2021-01-23T08:03:08.051959Z"
    }
   },
   "outputs": [
    {
     "name": "stdout",
     "output_type": "stream",
     "text": [
      "[ 7.50 ][ 4.42 ][ -11.05 ][ -10.55 ][ 3.85 ][ 11.88 ][ 3.50 ][ -8.75 ][ -8.35 ][ 3.05 ][ 9.41 ][ 2.77 ][ -6.93 ][ -6.62 ][ 2.41 ][ 7.45 ]\n"
     ]
    }
   ],
   "source": [
    ">matlab\n",
    "clc; clear;\n",
    "syms x(t)\n",
    "\n",
    "x(t) = 15 * exp(-0.7 * t) * cos(2 * pi * 3 * t) * heaviside(t);\n",
    "\n",
    "samplingStart = 0; % Sampling Start\n",
    "samplingEnd = 15; % Sampling Frequency\n",
    "period = 1; % default\n",
    "\n",
    "results = [];\n",
    "\n",
    "for value = samplingStart:period:samplingEnd\n",
    "    results(value + 1) = eval(x(value/samplingEnd));\n",
    "end\n",
    "\n",
    "fprintf(\"[ %.2f ]\", results)"
   ]
  },
  {
   "cell_type": "markdown",
   "metadata": {},
   "source": [
    "### Resim 21"
   ]
  },
  {
   "cell_type": "markdown",
   "metadata": {},
   "source": [
    "A system has an impulse response $h(t)=[-6e^{-0.9t}+17e^{-1t}]u(t)$. Find the system response to input (zero-state response) at t=2.2, $y(2.2)$, if the input is $x(t)=u(t-1)-u(t-2)$"
   ]
  },
  {
   "cell_type": "code",
   "execution_count": 39,
   "metadata": {
    "ExecuteTime": {
     "end_time": "2021-01-23T08:03:11.280098Z",
     "start_time": "2021-01-23T08:03:10.654204Z"
    }
   },
   "outputs": [
    {
     "name": "stdout",
     "output_type": "stream",
     "text": [
      "\n",
      "ans =\n",
      "\n",
      "    5.4936\n",
      "\n",
      "\n"
     ]
    }
   ],
   "source": [
    ">matlab\n",
    "clc; clear; close all;\n",
    "syms t tau h(t) x(t)\n",
    "\n",
    "% Input Signal\n",
    "x(t) = heaviside(t - 1) - heaviside(t - 2);\n",
    "\n",
    "% Impulse Response\n",
    "h(t) = (-6 * exp(-0.9 * t) + 17 * exp(-1 * t)) * heaviside(t);\n",
    "h(t) = simplify(eval(h(t)));\n",
    "\n",
    "% Obtain x(tau) * h(t-tau)\n",
    "m = subs(x, tau) * subs(h, t - tau); \n",
    "y = int(m, tau, -inf, +inf);\n",
    "\n",
    "t = 2.2;\n",
    "eval(y)"
   ]
  },
  {
   "cell_type": "markdown",
   "metadata": {},
   "source": [
    "### Resim 22"
   ]
  },
  {
   "cell_type": "markdown",
   "metadata": {},
   "source": [
    "$x(t)$ is a **periodic signal** and $0.6t^3[u(t)-u(t-9)]$ describes its **one period**.\n",
    "\n",
    "What is the value of $x(t)$ at time $t=493$?\n",
    "\n",
    "Hint: Determine one period of the signal and find its values."
   ]
  },
  {
   "cell_type": "code",
   "execution_count": 40,
   "metadata": {
    "ExecuteTime": {
     "end_time": "2021-01-23T08:03:15.168247Z",
     "start_time": "2021-01-23T08:03:15.099230Z"
    }
   },
   "outputs": [
    {
     "name": "stdout",
     "output_type": "stream",
     "text": [
      "\n",
      "ans =\n",
      "\n",
      "  205.8000\n",
      "\n",
      "\n"
     ]
    }
   ],
   "source": [
    ">matlab\n",
    "syms f(t)\n",
    "f(t) = 0.6 * t^3;\n",
    "totalPeriod = 9;\n",
    "target = 493;\n",
    "\n",
    "eval(f(mod(target, totalPeriod)))"
   ]
  },
  {
   "cell_type": "markdown",
   "metadata": {},
   "source": [
    "### Resim 23"
   ]
  },
  {
   "cell_type": "markdown",
   "metadata": {},
   "source": [
    "If the system output is $y(t) = 8.8e^{-0.7t} + 6e^{-0.5t} + 24cos(2pi3t-16°)$, find $y(3)$"
   ]
  },
  {
   "cell_type": "code",
   "execution_count": 41,
   "metadata": {
    "ExecuteTime": {
     "end_time": "2021-01-23T08:03:17.617383Z",
     "start_time": "2021-01-23T08:03:17.516382Z"
    },
    "scrolled": true
   },
   "outputs": [
    {
     "name": "stdout",
     "output_type": "stream",
     "text": [
      "\n",
      "ans =\n",
      "\n",
      "    6.4048\n",
      "\n",
      "\n"
     ]
    }
   ],
   "source": [
    ">matlab\n",
    "syms y(t)\n",
    "\n",
    "y(t) = 8.8 * exp(-0.7 * t) + 6 * exp(-0.5 * t) + 24 * cos(2*pi*3*t - deg2rad(16));\n",
    "\n",
    "eval(y(1.6))"
   ]
  },
  {
   "cell_type": "markdown",
   "metadata": {},
   "source": [
    "### Resim 24"
   ]
  },
  {
   "cell_type": "markdown",
   "metadata": {},
   "source": [
    "We want to sample $x(t)=14e^{-0.6t}cos(2\\pi5t)u(t)$ continuous signal. Sampling will start at time $0$. If the sampling frequency is $Fs=25$, which one of the following is <u>not one</u> of the sample values?"
   ]
  },
  {
   "cell_type": "code",
   "execution_count": 42,
   "metadata": {
    "ExecuteTime": {
     "end_time": "2021-01-23T08:03:25.994255Z",
     "start_time": "2021-01-23T08:03:25.718238Z"
    },
    "scrolled": true
   },
   "outputs": [
    {
     "name": "stdout",
     "output_type": "stream",
     "text": [
      "[ 7.00 ][ 4.22 ][ -10.80 ][ -10.54 ][ 3.93 ][ 12.42 ][ 3.75 ][ -9.57 ][ -9.35 ][ 3.49 ][ 11.01 ][ 3.32 ][ -8.49 ][ -8.29 ][ 3.09 ][ 9.77 ][ 2.95 ][ -7.53 ][ -7.35 ][ 2.74 ][ 8.66 ][ 2.61 ][ -6.68 ][ -6.52 ][ 2.43 ][ 7.68 ]\n"
     ]
    }
   ],
   "source": [
    ">matlab\n",
    "clc; clear;\n",
    "syms x(t)\n",
    "\n",
    "x(t) = 14 * exp(-0.6 * t) * cos(2 * pi * 5 * t) * heaviside(t);\n",
    "\n",
    "samplingStart = 0; % Sampling Start\n",
    "samplingEnd = 25; % Sampling Frequency\n",
    "period = 1; % default\n",
    "\n",
    "results = [];\n",
    "\n",
    "for value = samplingStart:period:samplingEnd\n",
    "    results(value + 1) = eval(x(value/samplingEnd));\n",
    "end\n",
    "\n",
    "fprintf(\"[ %.2f ]\", results)"
   ]
  },
  {
   "cell_type": "markdown",
   "metadata": {},
   "source": [
    "### Resim 25"
   ]
  },
  {
   "cell_type": "markdown",
   "metadata": {},
   "source": [
    "We want to sample $x(t)=12e^{-0.5t}cos(2\\pi2t)u(t)$ continuous signal. Sampling will start at time $0$. If the sampling frequency is $Fs=10$, which one of the following is <u>not one</u> of the sample values?"
   ]
  },
  {
   "cell_type": "code",
   "execution_count": 43,
   "metadata": {
    "ExecuteTime": {
     "end_time": "2021-01-23T08:03:28.515231Z",
     "start_time": "2021-01-23T08:03:28.373236Z"
    }
   },
   "outputs": [
    {
     "name": "stdout",
     "output_type": "stream",
     "text": [
      "[ 0.00 ][ 10.86 ][ 6.38 ][ -6.07 ][ -9.34 ][ 0.00 ][ 8.45 ][ 4.97 ][ -4.73 ][ -7.28 ][ 0.00 ]\n"
     ]
    }
   ],
   "source": [
    ">matlab\n",
    "clc; clear;\n",
    "syms x(t)\n",
    "\n",
    "x(t) = 12 * exp(-0.5 * t) * sin(2 * pi * 2 * t) * heaviside(t);\n",
    "\n",
    "samplingStart = 0; % Sampling Start\n",
    "samplingEnd = 10; % Sampling Frequency\n",
    "period = 1; % default\n",
    "\n",
    "results = [];\n",
    "\n",
    "for value = samplingStart:period:samplingEnd\n",
    "    results(value + 1) = eval(x(value/samplingEnd));\n",
    "end\n",
    "\n",
    "fprintf(\"[ %.2f ]\", results)"
   ]
  },
  {
   "cell_type": "markdown",
   "metadata": {},
   "source": [
    "### Resim 26"
   ]
  },
  {
   "cell_type": "markdown",
   "metadata": {},
   "source": [
    "We want to sample $x(t)=2.8e^{-0.7t}sin(2\\pi1t)u(t)$ continuous signal. Sampling will start at time $0$. If the sampling frequency is $Fs=5$, which one of the following is <u>not one</u> of the sample values?"
   ]
  },
  {
   "cell_type": "code",
   "execution_count": 44,
   "metadata": {
    "ExecuteTime": {
     "end_time": "2021-01-23T08:03:30.544842Z",
     "start_time": "2021-01-23T08:03:30.429840Z"
    }
   },
   "outputs": [
    {
     "name": "stdout",
     "output_type": "stream",
     "text": [
      "[ 0.00 ][ 2.32 ][ 1.24 ][ -1.08 ][ -1.52 ][ 0.00 ]\n"
     ]
    }
   ],
   "source": [
    ">matlab\n",
    "clc; clear;\n",
    "syms x(t)\n",
    "\n",
    "x(t) = 2.8 * exp(-0.7 * t) * sin(2 * pi * 1 * t) * heaviside(t);\n",
    "\n",
    "samplingStart = 0; % Sampling Start\n",
    "samplingEnd = 5; % Sampling Frequency\n",
    "period = 1; % default\n",
    "\n",
    "results = [];\n",
    "\n",
    "for value = samplingStart:period:samplingEnd\n",
    "    results(value + 1) = eval(x(value/samplingEnd));\n",
    "end\n",
    "\n",
    "fprintf(\"[ %.2f ]\", results)"
   ]
  },
  {
   "cell_type": "markdown",
   "metadata": {},
   "source": [
    "### Resim 27"
   ]
  },
  {
   "cell_type": "markdown",
   "metadata": {},
   "source": [
    "Consider $F(\\omega)$, a complex function of a real variable $\\omega$\n",
    "\n",
    "$F(\\omega) = \\frac{5.1 + j\\omega}{7.1+j6.3\\omega}$\n",
    "\n",
    "If $\\omega$ = 8.4, find <u>imaginary part</u> of $F(\\omega)$"
   ]
  },
  {
   "cell_type": "code",
   "execution_count": 45,
   "metadata": {
    "ExecuteTime": {
     "end_time": "2021-01-23T08:03:33.453811Z",
     "start_time": "2021-01-23T08:03:33.380227Z"
    }
   },
   "outputs": [
    {
     "name": "stdout",
     "output_type": "stream",
     "text": [
      "Sonuç: -0.074\n",
      "\n"
     ]
    }
   ],
   "source": [
    ">matlab\n",
    "clc; clear;\n",
    "syms f(w)\n",
    "\n",
    "numerator = (5.1 + 1 * j * w); % pay\n",
    "denominator = 7.1 + (1 * j * 6.3 * w); % payda\n",
    "\n",
    "f(w) = numerator / denominator;\n",
    "w = 8.4;\n",
    "result = eval(f);\n",
    "fprintf('Sonuç: %.3f\\n', imag(result))"
   ]
  },
  {
   "cell_type": "markdown",
   "metadata": {},
   "source": [
    "### Resim 28"
   ]
  },
  {
   "cell_type": "markdown",
   "metadata": {},
   "source": [
    "If the system output is $y(t) = 3.2e^{-0.2t} + 3.9e^{-0.6t} + 11cos(2pi3t-99°)$, find $y(3.5)$"
   ]
  },
  {
   "cell_type": "code",
   "execution_count": 46,
   "metadata": {
    "ExecuteTime": {
     "end_time": "2021-01-23T08:03:35.564875Z",
     "start_time": "2021-01-23T08:03:35.478879Z"
    }
   },
   "outputs": [
    {
     "name": "stdout",
     "output_type": "stream",
     "text": [
      "\n",
      "ans =\n",
      "\n",
      "    3.7874\n",
      "\n",
      "\n"
     ]
    }
   ],
   "source": [
    ">matlab\n",
    "syms y(t)\n",
    "\n",
    "y(t) = 3.2 * exp(-0.2 * t) + 3.9 * exp(-0.6 * t) + 11 * cos(2*pi*3*t - deg2rad(99));\n",
    "\n",
    "eval(y(3.5))"
   ]
  },
  {
   "cell_type": "markdown",
   "metadata": {},
   "source": [
    "### Resim 29"
   ]
  },
  {
   "cell_type": "markdown",
   "metadata": {},
   "source": [
    "Consider $F(\\omega)$, a complex function of a real variable $\\omega$\n",
    "\n",
    "$F(\\omega) = \\frac{7.3 + j\\omega}{3.3+j5.5\\omega}$\n",
    "\n",
    "If $\\omega$ = 5.8, find <u>angle</u> of $F(\\omega)$ in <u>radian</u>"
   ]
  },
  {
   "cell_type": "code",
   "execution_count": 47,
   "metadata": {
    "ExecuteTime": {
     "end_time": "2021-01-23T08:03:37.900411Z",
     "start_time": "2021-01-23T08:03:37.837410Z"
    }
   },
   "outputs": [
    {
     "name": "stdout",
     "output_type": "stream",
     "text": [
      "Sonuç: -0.80 Radian\n",
      "\n"
     ]
    }
   ],
   "source": [
    ">matlab\n",
    "clc; clear;\n",
    "syms f(w)\n",
    "\n",
    "numerator = (7.3 + 1 * j * w); % pay\n",
    "denominator = 3.3 + (1 * j * 5.5 * w); % payda\n",
    "\n",
    "f(w) = numerator / denominator;\n",
    "w = 5.8;\n",
    "result = eval(f);\n",
    "fprintf('Sonuç: %.2f Radian\\n', angle(result))"
   ]
  },
  {
   "cell_type": "markdown",
   "metadata": {},
   "source": [
    "### Resim 30"
   ]
  },
  {
   "cell_type": "markdown",
   "metadata": {},
   "source": [
    "A system has an impulse response $h(t)=1\\delta(t)-9e^{-0.5t}u(t)$. Find the system response to input (zero-state response) at t=0.6, $y(0.6)$, if the input is $x(t)=u(t)-u(t-1)$"
   ]
  },
  {
   "cell_type": "code",
   "execution_count": 48,
   "metadata": {
    "ExecuteTime": {
     "end_time": "2021-01-23T08:03:42.411243Z",
     "start_time": "2021-01-23T08:03:41.445223Z"
    }
   },
   "outputs": [
    {
     "name": "stdout",
     "output_type": "stream",
     "text": [
      "Sonuç: -3.67\n",
      "\n"
     ]
    }
   ],
   "source": [
    ">matlab\n",
    "clc; clear; close all;\n",
    "syms t tau h(t) x(t)\n",
    "\n",
    "% Input Signal\n",
    "x(t) = heaviside(t) - heaviside(t - 1);\n",
    "\n",
    "% Impulse Response\n",
    "h(t) = (1 * dirac(t)) - (9 * exp(-0.5 * t) * heaviside(t));\n",
    "h(t) = simplify(eval(h(t)));\n",
    "\n",
    "% Obtain x(tau) * h(t-tau)\n",
    "m = subs(x, tau) * subs(h, t - tau); \n",
    "y = int(m, tau, -inf, +inf);\n",
    "\n",
    "t = 0.6;\n",
    "fprintf('Sonuç: %.2f\\n', eval(y))"
   ]
  },
  {
   "cell_type": "markdown",
   "metadata": {},
   "source": [
    "### Resim 31"
   ]
  },
  {
   "cell_type": "markdown",
   "metadata": {},
   "source": [
    "A system has an impulse response $h(t)=6\\delta(t)-8e^{-0.9t}u(t)$. Find the system response to input (zero-state response) at t=1.3, $y(1.3)$, if the input is $x(t)=u(t)-u(t-1)$"
   ]
  },
  {
   "cell_type": "code",
   "execution_count": 49,
   "metadata": {
    "ExecuteTime": {
     "end_time": "2021-01-23T08:03:45.641677Z",
     "start_time": "2021-01-23T08:03:44.824658Z"
    }
   },
   "outputs": [
    {
     "name": "stdout",
     "output_type": "stream",
     "text": [
      "Sonuç: -4.03\n",
      "\n"
     ]
    }
   ],
   "source": [
    ">matlab\n",
    "clc; clear; close all;\n",
    "syms t tau h(t) x(t)\n",
    "\n",
    "% Input Signal\n",
    "x(t) = heaviside(t) - heaviside(t - 1);\n",
    "\n",
    "% Impulse Response\n",
    "h(t) = (6 * dirac(t)) - (8 * exp(-0.9 * t) * heaviside(t));\n",
    "h(t) = simplify(eval(h(t)));\n",
    "\n",
    "% Obtain x(tau) * h(t-tau)\n",
    "m = subs(x, tau) * subs(h, t - tau); \n",
    "y = int(m, tau, -inf, +inf);\n",
    "\n",
    "t = 1.3;\n",
    "fprintf('Sonuç: %.2f\\n', eval(y))"
   ]
  },
  {
   "cell_type": "markdown",
   "metadata": {},
   "source": [
    "### Resim 32"
   ]
  },
  {
   "cell_type": "markdown",
   "metadata": {},
   "source": [
    "A system has an impulse response $h(t)=[-5e^{-0.8t} + 14e^{-0.8t}]u(t)$. Find the system response to input (zero-state response) at t=2.2, $y(2.2)$, if the input is $x(t)=u(t-1)-u(t-2)$"
   ]
  },
  {
   "cell_type": "code",
   "execution_count": 50,
   "metadata": {
    "ExecuteTime": {
     "end_time": "2021-01-23T08:03:50.771877Z",
     "start_time": "2021-01-23T08:03:50.013863Z"
    }
   },
   "outputs": [
    {
     "name": "stdout",
     "output_type": "stream",
     "text": [
      "Sonuç: 5.28\n",
      "\n"
     ]
    }
   ],
   "source": [
    ">matlab\n",
    "clc; clear; close all;\n",
    "syms t tau h(t) x(t)\n",
    "\n",
    "% Input Signal\n",
    "x(t) = heaviside(t - 1) - heaviside(t - 2);\n",
    "\n",
    "% Impulse Response\n",
    "h(t) = (-5 * exp(-0.8 * t) + 14 * exp(-0.8 * t)) * heaviside(t);\n",
    "h(t) = simplify(eval(h(t)));\n",
    "\n",
    "% Obtain x(tau) * h(t-tau)\n",
    "m = subs(x, tau) * subs(h, t - tau); \n",
    "y = int(m, tau, -inf, +inf);\n",
    "\n",
    "t = 2.2;\n",
    "fprintf('Sonuç: %.2f\\n', eval(y))"
   ]
  },
  {
   "cell_type": "markdown",
   "metadata": {},
   "source": [
    "### Resim 33"
   ]
  },
  {
   "cell_type": "markdown",
   "metadata": {},
   "source": [
    "We have $x(t)=\\color{magenta}{54}e^{-\\color{magenta}{0.7}t}u(t)$ and $z(t)=e^{j\\color{magenta}{38}t}x(t)$ signals. Find amplitude response of $z(t)$ at $\\omega=\\color{magenta}{41}, |Z(41)|$\n",
    "\n",
    "**Some Hints:**\n",
    "\n",
    "$x(t) \\leftrightarrow X(\\omega)$\n",
    "\n",
    "$ax(t) \\leftrightarrow aX(\\omega)$\n",
    "\n",
    "User Fourier transform table to find $|X(\\omega)|$\n",
    "\n",
    "Then use the <u>frequency shifting property</u>"
   ]
  },
  {
   "cell_type": "code",
   "execution_count": 51,
   "metadata": {
    "ExecuteTime": {
     "end_time": "2021-01-23T08:03:53.424094Z",
     "start_time": "2021-01-23T08:03:53.405096Z"
    }
   },
   "outputs": [
    {
     "name": "stdout",
     "output_type": "stream",
     "text": [
      "\n",
      "ans =\n",
      "\n",
      "   17.5291\n",
      "\n",
      "\n"
     ]
    }
   ],
   "source": [
    ">matlab\n",
    "abs(54 / (0.7 + j * (41 - 38)))"
   ]
  },
  {
   "cell_type": "markdown",
   "metadata": {},
   "source": [
    "### Resim 34"
   ]
  },
  {
   "cell_type": "markdown",
   "metadata": {},
   "source": [
    "We have $x(t)=\\color{magenta}{74}e^{-\\color{magenta}{0.9}t}u(t)$ and $z(t)=e^{j\\color{magenta}{34}t}x(t)$ signals. Find amplitude response of $z(t)$ at $\\omega=\\color{magenta}{46}, |Z(46)|$\n",
    "\n",
    "**Some Hints:**\n",
    "\n",
    "$x(t) \\leftrightarrow X(\\omega)$\n",
    "\n",
    "$ax(t) \\leftrightarrow aX(\\omega)$\n",
    "\n",
    "User Fourier transform table to find $|X(\\omega)|$\n",
    "\n",
    "Then use the <u>frequency shifting property</u>"
   ]
  },
  {
   "cell_type": "code",
   "execution_count": 52,
   "metadata": {
    "ExecuteTime": {
     "end_time": "2021-01-23T08:03:56.763499Z",
     "start_time": "2021-01-23T08:03:56.744501Z"
    }
   },
   "outputs": [
    {
     "name": "stdout",
     "output_type": "stream",
     "text": [
      "\n",
      "ans =\n",
      "\n",
      "    6.1494\n",
      "\n",
      "\n"
     ]
    }
   ],
   "source": [
    ">matlab\n",
    "abs(74 / (0.9 + j * (46 - 34)))"
   ]
  },
  {
   "cell_type": "markdown",
   "metadata": {},
   "source": [
    "### Resim 35 (Highpass Filter)"
   ]
  },
  {
   "cell_type": "markdown",
   "metadata": {},
   "source": [
    "<center>Slayt 11 - Sayfa 19 - Highpass Filter</center>\n",
    "\n",
    "![image.jpg](./Resimler/35.jpg)\n",
    "\n",
    "The figure shows the frequency response of a system. If input is $x(t)=5.5sin(2\\pi200t)+1.4sin(2\\pi500t)$ find the output $y(t)$"
   ]
  },
  {
   "cell_type": "code",
   "execution_count": 53,
   "metadata": {
    "ExecuteTime": {
     "end_time": "2021-01-23T08:04:10.540222Z",
     "start_time": "2021-01-23T08:04:10.504202Z"
    }
   },
   "outputs": [
    {
     "name": "stdout",
     "output_type": "stream",
     "text": [
      "Değerler Yaklaşık Çıkabilir, En Yakın Olan Doğru Cevap Olacak\n",
      "\n",
      "Sonuç: 2.09(sin(2pi200t + (68)) + 0.98(sin(2pi500t + (45))\n"
     ]
    }
   ],
   "source": [
    ">matlab\n",
    "clc; clear;\n",
    "syms t\n",
    "%--------------------------------------------------------------------------------------------%\n",
    "% 5.5 * sin(2 * pi * 200 * t)\n",
    "x_coeff_1_m = 5.5; % 1. Çarpan\n",
    "x_coeff_1_t = 200; % 200 Hz\n",
    "\n",
    "% Frekansın Kestiği Noktalar\n",
    "x_coeff_1_a_resp = 0.38; % Sürekli Çizgi, Sol Taraf, Gerilim Değeri (Volt Cinsinden)\n",
    "x_coeff_1_p_resp = 68; % Noktalı Çizgi, Sağ Taraf, Açısal Değeri/Fazı (Derece Cinsinden)\n",
    "%--------------------------------------------------------------------------------------------%\n",
    "%--------------------------------------------------------------------------------------------%\n",
    "% 1.4 * sin(2 * pi * 500 * t)\n",
    "x_coeff_2_m = 1.4; % 2. Çarpan\n",
    "x_coeff_2_t = 500; % 500 Hz\n",
    "\n",
    "% Frekansın Kestiği Noktalar\n",
    "x_coeff_2_a_resp = 0.7; % Sürekli Çizgi, Sol Taraf, Gerilim Değeri (Volt Cinsinden)\n",
    "x_coeff_2_p_resp = 45; % Noktalı Çizgi, Sağ Taraf, Açısal Değeri/Fazı (Derece Cinsinden)\n",
    "%--------------------------------------------------------------------------------------------%\n",
    "fprintf(\"Değerler Yaklaşık Çıkabilir, En Yakın Olan Doğru Cevap Olacak\\n\\n\")\n",
    "fprintf(\"Sonuç: %.2f(sin(2pi%it + (%i)) + \", x_coeff_1_m * x_coeff_1_a_resp,x_coeff_1_t, x_coeff_1_p_resp)\n",
    "fprintf(\"%.2f(sin(2pi%it + (%i))\", x_coeff_2_m * x_coeff_2_a_resp,x_coeff_2_t, x_coeff_2_p_resp)"
   ]
  },
  {
   "cell_type": "markdown",
   "metadata": {},
   "source": [
    "### Resim 36 (Lowpass Filter)"
   ]
  },
  {
   "cell_type": "markdown",
   "metadata": {},
   "source": [
    "<center>Slayt 11 - Sayfa 18 - Lowpass Filter</center>\n",
    "\n",
    "![image.jpg](./Resimler/36.jpg)\n",
    "\n",
    "The figure shows the frequency response of a system. If input is $x(t)=8.8sin(2\\pi500t)+8.9sin(2\\pi900t)$ find the output $y(t)$"
   ]
  },
  {
   "cell_type": "code",
   "execution_count": 9,
   "metadata": {
    "ExecuteTime": {
     "end_time": "2021-01-25T10:04:53.552990Z",
     "start_time": "2021-01-25T10:04:53.498993Z"
    }
   },
   "outputs": [
    {
     "name": "stdout",
     "output_type": "stream",
     "text": [
      "Değerler Yaklaşık Çıkabilir, En Yakın Olan Doğru Cevap Olacak\n",
      "\n",
      "Sonuç: 3.23(sin(2pi300t + (-31)) + 4.90(sin(2pi500t + (-45))\n"
     ]
    }
   ],
   "source": [
    ">matlab\n",
    "% 3,8sin(2π300t)+7sin(2π500t)\n",
    "clc; clear;\n",
    "syms t\n",
    "%--------------------------------------------------------------------------------------------%\n",
    "% 8.8 * sin(2 * pi * 500 * t)\n",
    "x_coeff_1_m = 3.8; % 1. Çarpan\n",
    "x_coeff_1_t = 300; % 500 Hz\n",
    "\n",
    "% Frekansın Kestiği Noktalar\n",
    "x_coeff_1_a_resp = 0.85; % Sürekli Çizgi, Sol Taraf, Gerilim Değeri (Volt Cinsinden)\n",
    "x_coeff_1_p_resp = -31; % Noktalı Çizgi, Sağ Taraf, Açısal Değeri/Fazı (Derece Cinsinden)\n",
    "%--------------------------------------------------------------------------------------------%\n",
    "%--------------------------------------------------------------------------------------------%\n",
    "% 8.9 * sin(2 * pi * 900 * t)\n",
    "x_coeff_2_m = 7; % 2. Çarpan\n",
    "x_coeff_2_t = 500; % 500 Hz\n",
    "\n",
    "% Frekansın Kestiği Noktalar\n",
    "x_coeff_2_a_resp = 0.7; % Sürekli Çizgi, Sol Taraf, Gerilim Değeri (Volt Cinsinden)\n",
    "x_coeff_2_p_resp = -45; % Noktalı Çizgi, Sağ Taraf, Açısal Değeri/Fazı (Derece Cinsinden)\n",
    "%--------------------------------------------------------------------------------------------%\n",
    "fprintf(\"Değerler Yaklaşık Çıkabilir, En Yakın Olan Doğru Cevap Olacak\\n\\n\")\n",
    "fprintf(\"Sonuç: %.2f(sin(2pi%it + (%i)) + \", x_coeff_1_m * x_coeff_1_a_resp,x_coeff_1_t, x_coeff_1_p_resp)\n",
    "fprintf(\"%.2f(sin(2pi%it + (%i))\", x_coeff_2_m * x_coeff_2_a_resp,x_coeff_2_t, x_coeff_2_p_resp)"
   ]
  },
  {
   "cell_type": "markdown",
   "metadata": {},
   "source": [
    "### Resim 37 (Lowpass Filter)"
   ]
  },
  {
   "cell_type": "markdown",
   "metadata": {},
   "source": [
    "<center>Slayt 11 - Sayfa 18 - Lowpass Filter</center>\n",
    "\n",
    "![image.jpg](./Resimler/36.jpg)\n",
    "\n",
    "The figure shows the frequency response of a system. If input is $x(t)=1.2sin(2\\pi100t)+6.5sin(2\\pi900t)$ find the output $y(t)$"
   ]
  },
  {
   "cell_type": "code",
   "execution_count": 38,
   "metadata": {
    "ExecuteTime": {
     "end_time": "2021-01-19T22:49:00.950391Z",
     "start_time": "2021-01-19T22:49:00.904393Z"
    }
   },
   "outputs": [
    {
     "name": "stdout",
     "output_type": "stream",
     "text": [
      "Değerler Yaklaşık Çıkabilir, En Yakın Olan Doğru Cevap Olacak\n",
      "\n",
      "Sonuç: 1.18(sin(2pi100t + (-11)) + 3.12(sin(2pi900t + (-60))\n"
     ]
    }
   ],
   "source": [
    ">matlab\n",
    "clc; clear;\n",
    "syms t\n",
    "%--------------------------------------------------------------------------------------------%\n",
    "% 1.2 * sin(2 * pi * 100 * t)\n",
    "x_coeff_1_m = 1.2; % 1. Çarpan\n",
    "x_coeff_1_t = 100; % 100 Hz\n",
    "\n",
    "% Frekansın Kestiği Noktalar\n",
    "x_coeff_1_a_resp = 0.98; % Sürekli Çizgi, Sol Taraf, Gerilim Değeri (Volt Cinsinden)\n",
    "x_coeff_1_p_resp = -11; % Noktalı Çizgi, Sağ Taraf, Açısal Değeri/Fazı (Derece Cinsinden)\n",
    "%--------------------------------------------------------------------------------------------%\n",
    "%--------------------------------------------------------------------------------------------%\n",
    "% 6.5 * sin(2 * pi * 900 * t)\n",
    "x_coeff_2_m = 6.5; % 2. Çarpan\n",
    "x_coeff_2_t = 900; % 900 Hz\n",
    "\n",
    "% Frekansın Kestiği Noktalar\n",
    "x_coeff_2_a_resp = 0.48; % Sürekli Çizgi, Sol Taraf, Gerilim Değeri (Volt Cinsinden)\n",
    "x_coeff_2_p_resp = -60; % Noktalı Çizgi, Sağ Taraf, Açısal Değeri/Fazı (Derece Cinsinden)\n",
    "%--------------------------------------------------------------------------------------------%\n",
    "fprintf(\"Değerler Yaklaşık Çıkabilir, En Yakın Olan Doğru Cevap Olacak\\n\\n\")\n",
    "fprintf(\"Sonuç: %.2f(sin(2pi%it + (%i)) + \", x_coeff_1_m * x_coeff_1_a_resp,x_coeff_1_t, x_coeff_1_p_resp)\n",
    "fprintf(\"%.2f(sin(2pi%it + (%i))\", x_coeff_2_m * x_coeff_2_a_resp,x_coeff_2_t, x_coeff_2_p_resp)"
   ]
  },
  {
   "cell_type": "markdown",
   "metadata": {},
   "source": [
    "### Resim 38"
   ]
  },
  {
   "cell_type": "markdown",
   "metadata": {},
   "source": [
    "The differential equation $\\ddot{y}+6\\dot{y}+y(t) = x(t)$ describes a system. Let the system be initially at rest, $y(0^+)=\\dot{y}(0^+)=0$, and let the input signal $x(t)=5u(t)$. What are the system outputs at $t=1.8, y(1.8)$?\n",
    "\n",
    "**Hint:** Find natural respnse. Find forced response (We have constant input. Its value is 3). Then using initial conditin, you can find coefficients of natural response. Then you can find $y(1.8)$"
   ]
  },
  {
   "cell_type": "code",
   "execution_count": 39,
   "metadata": {
    "ExecuteTime": {
     "end_time": "2021-01-19T22:49:03.087411Z",
     "start_time": "2021-01-19T22:49:00.953397Z"
    }
   },
   "outputs": [
    {
     "name": "stdout",
     "output_type": "stream",
     "text": [
      "1.22\n"
     ]
    }
   ],
   "source": [
    ">matlab\n",
    "clc; clear;\n",
    "syms x(t) y(t)\n",
    "x(t) = 5 * heaviside(t);\n",
    "\n",
    "% Differential Equation\n",
    "equation = diff(y, t, 2) + 6 * diff(y, t) + y(t) == x(t);\n",
    "\n",
    "% Initial Condition\n",
    "Dy = diff(y, t);\n",
    "condition = [y(0) == 0, Dy(0) == 0];\n",
    "\n",
    "% Time\n",
    "t = 1.8;\n",
    "\n",
    "solution = dsolve(equation, condition);\n",
    "fprintf(\"%.2f\", eval(solution))"
   ]
  },
  {
   "cell_type": "markdown",
   "metadata": {},
   "source": [
    "### Resim 39"
   ]
  },
  {
   "cell_type": "markdown",
   "metadata": {},
   "source": [
    "The differential equation $\\ddot{y}+6\\dot{y}+y(t) = x(t)$ describes a system. Let the system be initially at rest, $y(0^+)=\\dot{y}(0^+)=0$, and let the input signal $x(t)=2u(t)$. What are the system outputs at $t=1.7, y(1.7)$?\n",
    "\n",
    "**Hint:** Find natural respnse. Find forced response (We have constant input. Its value is 3). Then using initial conditin, you can find coefficients of natural response. Then you can find $y(1.7)$"
   ]
  },
  {
   "cell_type": "code",
   "execution_count": 40,
   "metadata": {
    "ExecuteTime": {
     "end_time": "2021-01-19T22:49:04.775960Z",
     "start_time": "2021-01-19T22:49:03.089396Z"
    }
   },
   "outputs": [
    {
     "name": "stdout",
     "output_type": "stream",
     "text": [
      "0.46\n"
     ]
    }
   ],
   "source": [
    ">matlab\n",
    "clc; clear;\n",
    "syms x(t) y(t)\n",
    "x(t) = 2 * heaviside(t);\n",
    "\n",
    "% Differential Equation\n",
    "equation = diff(y, t, 2) + 6 * diff(y, t) + y(t) == x(t);\n",
    "\n",
    "% Initial Condition\n",
    "Dy = diff(y, t);\n",
    "condition = [y(0) == 0, Dy(0) == 0];\n",
    "\n",
    "% Time\n",
    "t = 1.7;\n",
    "\n",
    "solution = dsolve(equation, condition);\n",
    "fprintf(\"%.2f\", eval(solution))"
   ]
  },
  {
   "cell_type": "markdown",
   "metadata": {},
   "source": [
    "### Resim 40"
   ]
  },
  {
   "cell_type": "markdown",
   "metadata": {},
   "source": [
    "The differential equation $\\ddot{y}+6\\dot{y}+y(t) = x(t)$ describes a system. Let the system be initially at rest, $y(0^+)=\\dot{y}(0^+)=0$, and let the input signal $x(t)=5u(t)$. What are the system outputs at $t=1.8, y(1.8)$?\n",
    "\n",
    "**Hint:** Find natural respnse. Find forced response (We have constant input. Its value is 3). Then using initial conditin, you can find coefficients of natural response. Then you can find $y(1.8)$"
   ]
  },
  {
   "cell_type": "code",
   "execution_count": 41,
   "metadata": {
    "ExecuteTime": {
     "end_time": "2021-01-19T22:49:05.398961Z",
     "start_time": "2021-01-19T22:49:04.777946Z"
    }
   },
   "outputs": [
    {
     "name": "stdout",
     "output_type": "stream",
     "text": [
      "1.22\n"
     ]
    }
   ],
   "source": [
    ">matlab\n",
    "clc; clear;\n",
    "syms x(t) y(t)\n",
    "x(t) = 5 * heaviside(t);\n",
    "\n",
    "% Differential Equation\n",
    "equation = diff(y, t, 2) + 6 * diff(y, t) + y(t) == x(t);\n",
    "\n",
    "% Initial Condition\n",
    "Dy = diff(y, t);\n",
    "condition = [y(0) == 0, Dy(0) == 0];\n",
    "\n",
    "% Time\n",
    "t = 1.8;\n",
    "\n",
    "solution = dsolve(equation, condition);\n",
    "fprintf(\"%.2f\", eval(solution))"
   ]
  },
  {
   "cell_type": "markdown",
   "metadata": {},
   "source": [
    "### Resim 41"
   ]
  },
  {
   "cell_type": "markdown",
   "metadata": {},
   "source": [
    "The differential equation $\\ddot{y}+4\\dot{y}+y(t) = x(t)$ describes a system. Let the system be initially at rest, $y(0^+)=\\dot{y}(0^+)=0$, and let the input signal $x(t)=2u(t)$. What are the system outputs at $t=1.7, y(1.7)$?\n",
    "\n",
    "**Hint:** Find natural respnse. Find forced response (We have constant input. Its value is 3). Then using initial conditin, you can find coefficients of natural response. Then you can find $y(1.7)$"
   ]
  },
  {
   "cell_type": "code",
   "execution_count": 42,
   "metadata": {
    "ExecuteTime": {
     "end_time": "2021-01-19T22:49:07.328941Z",
     "start_time": "2021-01-19T22:49:05.401941Z"
    }
   },
   "outputs": [
    {
     "name": "stdout",
     "output_type": "stream",
     "text": [
      "0.63\n"
     ]
    }
   ],
   "source": [
    ">matlab\n",
    "clc; clear;\n",
    "syms x(t) y(t)\n",
    "x(t) = 2 * heaviside(t);\n",
    "\n",
    "% Differential Equation\n",
    "equation = diff(y, t, 2) + 4 * diff(y, t) + y(t) == x(t);\n",
    "\n",
    "% Initial Condition\n",
    "Dy = diff(y, t);\n",
    "condition = [y(0) == 0, Dy(0) == 0];\n",
    "\n",
    "% Time\n",
    "t = 1.7;\n",
    "\n",
    "solution = dsolve(equation, condition);\n",
    "fprintf(\"%.2f\", eval(solution))"
   ]
  },
  {
   "cell_type": "markdown",
   "metadata": {},
   "source": [
    "### Resim 42"
   ]
  },
  {
   "cell_type": "markdown",
   "metadata": {},
   "source": [
    "The differential equation $\\ddot{y}+7\\dot{y}+y(t) = x(t)$ describes a system. Let the system be initially at rest, $y(0^+)=\\dot{y}(0^+)=0$, and let the input signal $x(t)=3u(t)$. What are the system outputs at $t=2.6, y(2.6)$?\n",
    "\n",
    "**Hint:** Find natural respnse. Find forced response (We have constant input. Its value is 3). Then using initial conditin, you can find coefficients of natural response. Then you can find $y(2.6)$"
   ]
  },
  {
   "cell_type": "code",
   "execution_count": 43,
   "metadata": {
    "ExecuteTime": {
     "end_time": "2021-01-19T22:49:09.337960Z",
     "start_time": "2021-01-19T22:49:07.331948Z"
    }
   },
   "outputs": [
    {
     "name": "stdout",
     "output_type": "stream",
     "text": [
      "0.90\n"
     ]
    }
   ],
   "source": [
    ">matlab\n",
    "clc; clear;\n",
    "syms x(t) y(t)\n",
    "x(t) = 3 * heaviside(t);\n",
    "\n",
    "% Differential Equation\n",
    "equation = diff(y, t, 2) + 7 * diff(y, t) + y(t) == x(t);\n",
    "\n",
    "% Initial Condition\n",
    "Dy = diff(y, t);\n",
    "condition = [y(0) == 0, Dy(0) == 0];\n",
    "\n",
    "% Time\n",
    "t = 2.6;\n",
    "\n",
    "solution = dsolve(equation, condition);\n",
    "fprintf(\"%.2f\", eval(solution))"
   ]
  },
  {
   "cell_type": "markdown",
   "metadata": {},
   "source": [
    "### Resim 43 (Bandpass Filter)"
   ]
  },
  {
   "cell_type": "markdown",
   "metadata": {},
   "source": [
    "<center>Slayt 11 - Sayfa 20 - Bandpass Filter</center>\n",
    "\n",
    "![image.jpg](./Resimler/43.jpg)\n",
    "\n",
    "The figure shows the frequency response of a system. If input is $x(t)=9.6sin(2\\pi500t)+4.7sin(2\\pi700t)$ find the output $y(t)$"
   ]
  },
  {
   "cell_type": "code",
   "execution_count": 44,
   "metadata": {
    "ExecuteTime": {
     "end_time": "2021-01-19T22:49:09.385959Z",
     "start_time": "2021-01-19T22:49:09.340949Z"
    }
   },
   "outputs": [
    {
     "name": "stdout",
     "output_type": "stream",
     "text": [
      "Değerler Yaklaşık Çıkabilir, En Yakın Olan Doğru Cevap Olacak\n",
      "\n",
      "Sonuç: 4.75(sin(2pi500t + (-1)) + 2.23(sin(2pi700t + (-20))\n"
     ]
    }
   ],
   "source": [
    ">matlab\n",
    "clc; clear;\n",
    "syms t\n",
    "%--------------------------------------------------------------------------------------------%\n",
    "% 9.6 * sin(2 * pi * 500 * t)\n",
    "x_coeff_1_m = 9.6; % 1. Çarpan\n",
    "x_coeff_1_t = 500; % 500 Hz\n",
    "\n",
    "% Frekansın Kestiği Noktalar\n",
    "x_coeff_1_a_resp = 0.495; % Sürekli Çizgi, Sol Taraf, Gerilim Değeri (Volt Cinsinden)\n",
    "x_coeff_1_p_resp = -1; % Noktalı Çizgi, Sağ Taraf, Açısal Değeri/Fazı (Derece Cinsinden)\n",
    "%--------------------------------------------------------------------------------------------%\n",
    "%--------------------------------------------------------------------------------------------%\n",
    "% 4.7 * sin(2 * pi * 700 * t)\n",
    "x_coeff_2_m = 4.7; % 2. Çarpan\n",
    "x_coeff_2_t = 700; % 500 Hz\n",
    "\n",
    "% Frekansın Kestiği Noktalar\n",
    "x_coeff_2_a_resp = 0.475; % Sürekli Çizgi, Sol Taraf, Gerilim Değeri (Volt Cinsinden)\n",
    "x_coeff_2_p_resp = -20; % Noktalı Çizgi, Sağ Taraf, Açısal Değeri/Fazı (Derece Cinsinden)\n",
    "%--------------------------------------------------------------------------------------------%\n",
    "fprintf(\"Değerler Yaklaşık Çıkabilir, En Yakın Olan Doğru Cevap Olacak\\n\\n\")\n",
    "fprintf(\"Sonuç: %.2f(sin(2pi%it + (%i)) + \", x_coeff_1_m * x_coeff_1_a_resp,x_coeff_1_t, x_coeff_1_p_resp)\n",
    "fprintf(\"%.2f(sin(2pi%it + (%i))\", x_coeff_2_m * x_coeff_2_a_resp,x_coeff_2_t, x_coeff_2_p_resp)"
   ]
  },
  {
   "cell_type": "markdown",
   "metadata": {},
   "source": [
    "### Resim 44 (Düz Tarak Şekli)"
   ]
  },
  {
   "cell_type": "markdown",
   "metadata": {},
   "source": [
    "Find the amplitude of $270$ Hz frequency component of the waveform if $A=69.7$ and $T_0=\\frac{1}{90}$"
   ]
  },
  {
   "cell_type": "code",
   "execution_count": 6,
   "metadata": {
    "ExecuteTime": {
     "end_time": "2021-01-25T10:01:26.051069Z",
     "start_time": "2021-01-25T10:01:22.088401Z"
    }
   },
   "outputs": [
    {
     "name": "stdout",
     "output_type": "stream",
     "text": [
      "\n",
      "ans =\n",
      "\n",
      "   10.1732\n",
      "\n",
      "\n"
     ]
    }
   ],
   "source": [
    "> matlab\n",
    "clear all;\n",
    "syms x(t) T A n\n",
    "x(t) = A;\n",
    "Dc_comp = (1 / T) * int(x, [0, T / 2]);\n",
    "a_n = (2 / T) * int(x * cos(n * 2 * pi * (1 / T) * t), [0, T / 2]);\n",
    "b_n = (2 / T) * int(x * sin(n * 2 * pi * (1 / T) * t), [0, T / 2]);\n",
    "A = 79.9;\n",
    "n = 5;\n",
    "eval(sqrt(a_n^2 + b_n^2))"
   ]
  },
  {
   "cell_type": "markdown",
   "metadata": {},
   "source": [
    "### Resim 45 (Tırtıklı Soru)"
   ]
  },
  {
   "cell_type": "markdown",
   "metadata": {},
   "source": [
    "![45.jpg](./Resimler/45.jpg)\n",
    "\n",
    "Find the amplitute of $\\frac{5}{3}$ Hz frequency component of the waveform if A=80.8"
   ]
  },
  {
   "cell_type": "code",
   "execution_count": 12,
   "metadata": {
    "ExecuteTime": {
     "end_time": "2021-01-24T19:51:18.330552Z",
     "start_time": "2021-01-24T19:51:18.306544Z"
    }
   },
   "outputs": [
    {
     "name": "stdout",
     "output_type": "stream",
     "text": [
      "Sonuç: 9.89\n"
     ]
    }
   ],
   "source": [
    ">matlab\n",
    "n = 5; % 4/3 Hz pay kısmı\n",
    "omega = 2 * pi / 3;\n",
    "A = 80.8;\n",
    "\n",
    "a_n = (A / (3 * n * omega)) * (4 * sin(n * omega));\n",
    "b_n = ((-A / (3 * n * omega)) * (4 * cos(n * omega))) + ((A / (3 * (n * omega)^2)) * (4 * sin(n * omega)));\n",
    "\n",
    "fprintf(\"Sonuç: %.2f\", sqrt(a_n^2 + b_n^2))"
   ]
  },
  {
   "cell_type": "markdown",
   "metadata": {},
   "source": [
    "### Resim 46"
   ]
  },
  {
   "cell_type": "markdown",
   "metadata": {},
   "source": [
    "![S6_27.jpg](./Resimler/S6_27.jpg)"
   ]
  },
  {
   "cell_type": "code",
   "execution_count": 9,
   "metadata": {
    "ExecuteTime": {
     "end_time": "2021-01-23T07:03:15.544294Z",
     "start_time": "2021-01-23T07:03:13.594291Z"
    }
   },
   "outputs": [
    {
     "name": "stdout",
     "output_type": "stream",
     "text": [
      "aₒ: 0.504\n",
      "\n",
      "Amplitudes: [ 0.245 ][ 0.125 ][ 0.084 ][ 0.063 ][ 0.050 ][ 0.042 ][ 0.036 ]\n",
      "\n",
      "Phases: [ -75.96 ][ -82.87 ][ -85.24 ][ -86.42 ][ -87.14 ][ -87.61 ][ -87.95 ]\n"
     ]
    }
   ],
   "source": [
    ">matlab\n",
    "clc; clear;\n",
    "syms x(t) T0 n\n",
    "x(t) = exp(-t / 2);\n",
    "\n",
    "a_0 = (1 / T0) * int(x(t), t, [0, T0]);\n",
    "a_n = (2 / T0) * int(x(t) * cos(2 * n * t), [0, T0]);\n",
    "b_n = (2 / T0) * int(x(t) * sin(2 * n * t), [0, T0]);\n",
    "\n",
    "T0 = pi;\n",
    "n = 1:7;\n",
    "\n",
    "fprintf(\"aₒ: %.3f\\n\\n\",eval(a_0))\n",
    "fprintf(\"Amplitudes: \")\n",
    "fprintf(\"[ %.3f ]\", eval(sqrt(a_n^2 + b_n^2)))\n",
    "% stem(eval(sqrt(a_n^2 + b_n^2)))\n",
    "% title(\"Amplitudes\")\n",
    "fprintf(\"\\n\\nPhases: \")\n",
    "fprintf(\"[ %.2f ]\", eval(rad2deg(atan(-b_n / a_n))))"
   ]
  },
  {
   "cell_type": "markdown",
   "metadata": {},
   "source": [
    "### Resim 47"
   ]
  },
  {
   "cell_type": "markdown",
   "metadata": {},
   "source": [
    "We want to sample $x(t)=11.2e^{-0.4t}cos(2\\pi3t)u(t)$ continuous signal. Sampling will start at time $0$. If the sampling frequency is $Fs=15$, which one of the following is <u>not one</u> of the sample values?"
   ]
  },
  {
   "cell_type": "code",
   "execution_count": 48,
   "metadata": {
    "ExecuteTime": {
     "end_time": "2021-01-19T22:49:14.535738Z",
     "start_time": "2021-01-19T22:49:14.267718Z"
    }
   },
   "outputs": [
    {
     "name": "stdout",
     "output_type": "stream",
     "text": [
      "[ 5.60 ][ 3.37 ][ -8.59 ][ -8.36 ][ 3.11 ][ 9.80 ][ 2.95 ][ -7.52 ][ -7.32 ][ 2.72 ][ 8.58 ][ 2.58 ][ -6.58 ][ -6.41 ][ 2.38 ][ 7.51 ]\n"
     ]
    }
   ],
   "source": [
    ">matlab\n",
    "clc; clear;\n",
    "syms x(t)\n",
    "\n",
    "x(t) = 11.2 * exp(-0.4 * t) * cos(2 * pi * 3 * t) * heaviside(t);\n",
    "\n",
    "samplingStart = 0; % Sampling Start\n",
    "samplingEnd = 15; % Sampling Frequency\n",
    "period = 1; % default\n",
    "\n",
    "results = [];\n",
    "\n",
    "for value = samplingStart:period:samplingEnd\n",
    "    results(value + 1) = eval(x(value/samplingEnd));\n",
    "end\n",
    "\n",
    "fprintf(\"[ %.2f ]\", results)"
   ]
  },
  {
   "cell_type": "markdown",
   "metadata": {},
   "source": [
    "### Resim 48"
   ]
  },
  {
   "cell_type": "markdown",
   "metadata": {},
   "source": [
    "Consider $F(\\omega)$, a complex function of a real variable $\\omega$\n",
    "\n",
    "$F(\\omega) = \\frac{159 + j\\omega}{4+j9\\omega}$\n",
    "\n",
    "If $\\omega$ = 6, find <u>magnitude</u> of $F(\\omega)$"
   ]
  },
  {
   "cell_type": "code",
   "execution_count": 49,
   "metadata": {
    "ExecuteTime": {
     "end_time": "2021-01-19T22:49:14.630722Z",
     "start_time": "2021-01-19T22:49:14.537737Z"
    }
   },
   "outputs": [
    {
     "name": "stdout",
     "output_type": "stream",
     "text": [
      "Sonuç: 2.9385\n",
      "\n"
     ]
    }
   ],
   "source": [
    ">matlab\n",
    "clc; clear;\n",
    "syms f(w)\n",
    "\n",
    "numerator = (159 + 1 * j * w); % pay\n",
    "denominator = 4 + (1 * j * 9 * w); % payda\n",
    "\n",
    "f(w) = numerator / denominator;\n",
    "w = 6;\n",
    "result = eval(f);\n",
    "fprintf('Sonuç: %.4f\\n', abs(result))"
   ]
  },
  {
   "cell_type": "markdown",
   "metadata": {},
   "source": [
    "### Resim 49 (Eğimli Sinyal(Exponential))"
   ]
  },
  {
   "cell_type": "markdown",
   "metadata": {},
   "source": [
    "<!-- ![S6_27.jpg](./Resimler/S6_27.jpg)\n",
    " -->\n",
    "![49.jpg](./Resimler/49.jpg)"
   ]
  },
  {
   "cell_type": "code",
   "execution_count": 10,
   "metadata": {
    "ExecuteTime": {
     "end_time": "2021-01-23T07:05:18.667074Z",
     "start_time": "2021-01-23T07:05:18.624062Z"
    }
   },
   "outputs": [
    {
     "name": "stdout",
     "output_type": "stream",
     "text": [
      "Amplitude: 58.5969\n",
      "Phase: -85.24\n"
     ]
    }
   ],
   "source": [
    ">matlab\n",
    "amplitude = 54;\n",
    "a_0 = 0.504 * 700;\n",
    "n = amplitude * 1 / 18;\n",
    "fprintf(\"Amplitude: %.4f\\n\", a_0 * (2 / sqrt(1 + 16 * n^2)))\n",
    "fprintf(\"Phase: %.2f\", rad2deg(-atan(4 * n)))"
   ]
  },
  {
   "cell_type": "markdown",
   "metadata": {},
   "source": [
    "### Resim 50 [ H(s) - H(3) ]"
   ]
  },
  {
   "cell_type": "markdown",
   "metadata": {},
   "source": [
    "The mathematical model of a system is $4\\ddot{y}(t)+2\\dot{y}(t)+9y(t) = 25\\dot{x}(t)+46x(t)$. Find H(3).\n",
    "\n",
    "**Hint:** Find transfer function $H(s)$ of the system. Then find $H(3)$\n",
    "\n",
    "<small>Kaynak: https://lpsa.swarthmore.edu/Representations/SysRepTransformations/TF2SDE.html<small>"
   ]
  },
  {
   "cell_type": "code",
   "execution_count": 10,
   "metadata": {
    "ExecuteTime": {
     "end_time": "2021-01-25T10:05:41.311769Z",
     "start_time": "2021-01-25T10:05:41.279751Z"
    }
   },
   "outputs": [
    {
     "name": "stdout",
     "output_type": "stream",
     "text": [
      "\n",
      "result =\n",
      "\n",
      "    1.3293\n",
      "\n",
      "\n"
     ]
    }
   ],
   "source": [
    ">matlab\n",
    "clc; clear;\n",
    "\n",
    "x_coeffs = [ 0, 20, 49]; % X kat sayıları girilecek\n",
    "y_coeffs = [ 5, 9, 10]; % Y kat sayıları girilecek\n",
    "s = 3;\n",
    "\n",
    "X = y_coeffs(1) * s^2 + y_coeffs(2) * s + y_coeffs(3);\n",
    "Y = x_coeffs(1) * s^2 + x_coeffs(2) * s + x_coeffs(3);\n",
    "\n",
    "result = Y / X"
   ]
  },
  {
   "cell_type": "markdown",
   "metadata": {},
   "source": [
    "### Son Gelen Final PDF"
   ]
  },
  {
   "cell_type": "markdown",
   "metadata": {},
   "source": [
    "#### Soru 1 (Tırtıklı Sinyal Şekli)"
   ]
  },
  {
   "cell_type": "markdown",
   "metadata": {},
   "source": [
    "Find the amplitude of $\\frac{4}{3}$ Hz frequency component of the waveform if $A=88.8$ and $T_0=\\frac{1}{3}$"
   ]
  },
  {
   "cell_type": "code",
   "execution_count": 2,
   "metadata": {
    "ExecuteTime": {
     "end_time": "2021-01-24T19:36:20.628056Z",
     "start_time": "2021-01-24T19:36:20.586055Z"
    }
   },
   "outputs": [
    {
     "name": "stdout",
     "output_type": "stream",
     "text": [
      "Sonuç: 14.92\n"
     ]
    }
   ],
   "source": [
    ">matlab\n",
    "n = 4; % 4/3 Hz pay kısmı\n",
    "omega = 2 * pi / 3;\n",
    "A = 88.8;\n",
    "\n",
    "a_n = (A / (3 * n * omega)) * (4 * sin(n * omega));\n",
    "b_n = ((-A / (3 * n * omega)) * (4 * cos(n * omega))) + ((A / (3 * (n * omega)^2)) * (4 * sin(n * omega)));\n",
    "\n",
    "fprintf(\"Sonuç: %.2f\", sqrt(a_n^2 + b_n^2))"
   ]
  },
  {
   "cell_type": "markdown",
   "metadata": {},
   "source": [
    "#### Soru 2 (Highpass Filter)"
   ]
  },
  {
   "cell_type": "markdown",
   "metadata": {},
   "source": [
    "<center>Slayt 11 - Sayfa 19 - Highpass Filter</center>\n",
    "\n",
    "![image.jpg](./Resimler/35.jpg)\n",
    "\n",
    "The figure shows the frequency response of a system. If input is $x(t)=5.7sin(2\\pi900t)+4.3sin(2\\pi300t)$ find the output $y(t)$"
   ]
  },
  {
   "cell_type": "code",
   "execution_count": 53,
   "metadata": {
    "ExecuteTime": {
     "end_time": "2021-01-19T22:49:16.015719Z",
     "start_time": "2021-01-19T22:49:15.970726Z"
    }
   },
   "outputs": [
    {
     "name": "stdout",
     "output_type": "stream",
     "text": [
      "Değerler Yaklaşık Çıkabilir, En Yakın Olan Doğru Cevap Olacak\n",
      "\n",
      "Sonuç: 5.02(sin(2pi900t + (30)) + 2.28(sin(2pi300t + (59))\n"
     ]
    }
   ],
   "source": [
    ">matlab\n",
    "clc; clear;\n",
    "syms t\n",
    "%--------------------------------------------------------------------------------------------%\n",
    "% 5.7 * sin(2 * pi * 900 * t)\n",
    "x_coeff_1_m = 5.7; % 1. Çarpan\n",
    "x_coeff_1_t = 900; % 900 Hz\n",
    "\n",
    "% Frekansın Kestiği Noktalar\n",
    "x_coeff_1_a_resp = 0.88; % Sürekli Çizgi, Sol Taraf, Gerilim Değeri (Volt Cinsinden)\n",
    "x_coeff_1_p_resp = 30; % Noktalı Çizgi, Sağ Taraf, Açısal Değeri/Fazı (Derece Cinsinden)\n",
    "%--------------------------------------------------------------------------------------------%\n",
    "%--------------------------------------------------------------------------------------------%\n",
    "% 4.3 * sin(2 * pi * 300 * t)\n",
    "x_coeff_2_m = 4.3; % 2. Çarpan\n",
    "x_coeff_2_t = 300; % 300 Hz\n",
    "\n",
    "% Frekansın Kestiği Noktalar\n",
    "x_coeff_2_a_resp = 0.53; % Sürekli Çizgi, Sol Taraf, Gerilim Değeri (Volt Cinsinden)\n",
    "x_coeff_2_p_resp = 59; % Noktalı Çizgi, Sağ Taraf, Açısal Değeri/Fazı (Derece Cinsinden)\n",
    "%--------------------------------------------------------------------------------------------%\n",
    "fprintf(\"Değerler Yaklaşık Çıkabilir, En Yakın Olan Doğru Cevap Olacak\\n\\n\")\n",
    "fprintf(\"Sonuç: %.2f(sin(2pi%it + (%i)) + \", x_coeff_1_m * x_coeff_1_a_resp,x_coeff_1_t, x_coeff_1_p_resp)\n",
    "fprintf(\"%.2f(sin(2pi%it + (%i))\", x_coeff_2_m * x_coeff_2_a_resp,x_coeff_2_t, x_coeff_2_p_resp)"
   ]
  },
  {
   "cell_type": "markdown",
   "metadata": {},
   "source": [
    "#### Soru 3 (Impulse > System Response)"
   ]
  },
  {
   "cell_type": "markdown",
   "metadata": {},
   "source": [
    "A system has an impulse response $h(t)=[4\\delta(t)-2e^{-0.8t}]u(t)$. Find the system response to input (zero-state response) at t=1.1, $y(1.1)$, if the input is $x(t)=u(t)-u(t-1)$"
   ]
  },
  {
   "cell_type": "code",
   "execution_count": 3,
   "metadata": {
    "ExecuteTime": {
     "end_time": "2021-01-25T09:30:34.950054Z",
     "start_time": "2021-01-25T09:30:31.741038Z"
    }
   },
   "outputs": [
    {
     "name": "stdout",
     "output_type": "stream",
     "text": [
      "Sonuç: -0.41\n",
      "\n"
     ]
    }
   ],
   "source": [
    ">matlab\n",
    "clc; clear; close all;\n",
    "syms t tau h(t) x(t)\n",
    "\n",
    "% Input Signal\n",
    "x(t) = heaviside(t) - heaviside(t - 1);\n",
    "\n",
    "% Impulse Response\n",
    "h(t) = (7 * dirac(t) - 8 * exp(-1.1 * t)) * heaviside(t);\n",
    "h(t) = simplify(eval(h(t)));\n",
    "\n",
    "% Obtain x(tau) * h(t-tau)\n",
    "m = subs(x, tau) * subs(h, t - tau); \n",
    "y = int(m, tau, -inf, +inf);\n",
    "\n",
    "t = 0.7;\n",
    "fprintf('Sonuç: %.2f\\n', eval(y))"
   ]
  },
  {
   "cell_type": "markdown",
   "metadata": {},
   "source": [
    "####  Soru 4 (If the system output...)"
   ]
  },
  {
   "cell_type": "markdown",
   "metadata": {},
   "source": [
    "If the system output is $y(t) = 2.2e^{-0.3t} + 8.8e^{-0.6t} + 11cos(2pi5t-237°)$, find $y(3.1)$"
   ]
  },
  {
   "cell_type": "code",
   "execution_count": 6,
   "metadata": {
    "ExecuteTime": {
     "end_time": "2021-01-24T19:38:47.785729Z",
     "start_time": "2021-01-24T19:38:47.663730Z"
    }
   },
   "outputs": [
    {
     "name": "stdout",
     "output_type": "stream",
     "text": [
      "\n",
      "ans =\n",
      "\n",
      "    8.2290\n",
      "\n",
      "\n"
     ]
    }
   ],
   "source": [
    ">matlab\n",
    "syms y(t)\n",
    "\n",
    "y(t) = 2.2 * exp(-0.3 * t) + 8.8 * exp(-0.6 * t) + 11 * cos(2*pi*5*t - deg2rad(237));\n",
    "\n",
    "eval(y(3.1))"
   ]
  },
  {
   "cell_type": "markdown",
   "metadata": {},
   "source": [
    "#### Soru 5 [Frequency Shifting Property, x(t)'de t varsa]"
   ]
  },
  {
   "cell_type": "markdown",
   "metadata": {},
   "source": [
    "We have $x(t)=\\color{magenta}{52}te^{-\\color{magenta}{0.4}t}u(t)$ and $z(t)=e^{j\\color{magenta}{35}t}x(t)$ signals. Find amplitude response of $z(t)$ at $\\omega=\\color{magenta}{59}, |Z(59)|$\n",
    "\n",
    "**Some Hints:**\n",
    "\n",
    "$x(t) \\leftrightarrow X(\\omega)$\n",
    "\n",
    "$ax(t) \\leftrightarrow aX(\\omega)$\n",
    "\n",
    "User Fourier transform table to find $|X(\\omega)|$\n",
    "\n",
    "Then use the <u>frequency shifting property</u>"
   ]
  },
  {
   "cell_type": "code",
   "execution_count": 5,
   "metadata": {
    "ExecuteTime": {
     "end_time": "2021-01-23T17:39:21.797013Z",
     "start_time": "2021-01-23T17:39:21.749013Z"
    }
   },
   "outputs": [
    {
     "name": "stdout",
     "output_type": "stream",
     "text": [
      "\n",
      "ans =\n",
      "\n",
      "    0.0903\n",
      "\n",
      "\n"
     ]
    }
   ],
   "source": [
    ">matlab\n",
    "abs(52 / (0.4 + (j * (59 - 35)))^2)"
   ]
  },
  {
   "cell_type": "markdown",
   "metadata": {},
   "source": [
    "#### Soru 6 (Lowpass Filter)"
   ]
  },
  {
   "cell_type": "markdown",
   "metadata": {},
   "source": [
    "<center>Slayt 11 - Sayfa 18 - Lowpass Filter</center>\n",
    "\n",
    "![image.jpg](./Resimler/36.jpg)\n",
    "\n",
    "The figure shows the frequency response of a system. If input is $x(t)=2.5sin(2\\pi900t)+1sin(2\\pi800t)$ find the output $y(t)$"
   ]
  },
  {
   "cell_type": "code",
   "execution_count": 57,
   "metadata": {
    "ExecuteTime": {
     "end_time": "2021-01-19T22:49:17.658715Z",
     "start_time": "2021-01-19T22:49:17.613722Z"
    }
   },
   "outputs": [
    {
     "name": "stdout",
     "output_type": "stream",
     "text": [
      "Değerler Yaklaşık Çıkabilir, En Yakın Olan Doğru Cevap Olacak\n",
      "\n",
      "Sonuç: 1.20(sin(2pi900t + (-60)) + 0.53(sin(2pi800t + (-59))\n"
     ]
    }
   ],
   "source": [
    ">matlab\n",
    "clc; clear;\n",
    "syms t\n",
    "%--------------------------------------------------------------------------------------------%\n",
    "% 2.5 * sin(2 * pi * 900 * t)\n",
    "x_coeff_1_m = 2.5; % 1. Çarpan\n",
    "x_coeff_1_t = 900; % 900 Hz\n",
    "\n",
    "% Frekansın Kestiği Noktalar\n",
    "x_coeff_1_a_resp = 0.48; % Sürekli Çizgi, Sol Taraf, Gerilim Değeri (Volt Cinsinden)\n",
    "x_coeff_1_p_resp = -60; % Noktalı Çizgi, Sağ Taraf, Açısal Değeri/Fazı (Derece Cinsinden)\n",
    "%--------------------------------------------------------------------------------------------%\n",
    "%--------------------------------------------------------------------------------------------%\n",
    "% 1 * sin(2 * pi * 800 * t)\n",
    "x_coeff_2_m = 1; % 2. Çarpan\n",
    "x_coeff_2_t = 800; % 800 Hz\n",
    "\n",
    "% Frekansın Kestiği Noktalar\n",
    "x_coeff_2_a_resp = 0.53; % Sürekli Çizgi, Sol Taraf, Gerilim Değeri (Volt Cinsinden)\n",
    "x_coeff_2_p_resp = -59; % Noktalı Çizgi, Sağ Taraf, Açısal Değeri/Fazı (Derece Cinsinden)\n",
    "%--------------------------------------------------------------------------------------------%\n",
    "fprintf(\"Değerler Yaklaşık Çıkabilir, En Yakın Olan Doğru Cevap Olacak\\n\\n\")\n",
    "fprintf(\"Sonuç: %.2f(sin(2pi%it + (%i)) + \", x_coeff_1_m * x_coeff_1_a_resp,x_coeff_1_t, x_coeff_1_p_resp)\n",
    "fprintf(\"%.2f(sin(2pi%it + (%i))\", x_coeff_2_m * x_coeff_2_a_resp,x_coeff_2_t, x_coeff_2_p_resp)"
   ]
  },
  {
   "cell_type": "markdown",
   "metadata": {},
   "source": [
    "#### Soru 7 (Sampling)"
   ]
  },
  {
   "cell_type": "markdown",
   "metadata": {},
   "source": [
    "We want to sample $x(t)=11.7e^{-0.8t}cos(2\\pi2t)u(t)$ continuous signal. Sampling will start at time $0$. If the sampling frequency is $Fs=10$, which one of the following is <u>not one</u> of the sample values?"
   ]
  },
  {
   "cell_type": "code",
   "execution_count": 58,
   "metadata": {
    "ExecuteTime": {
     "end_time": "2021-01-19T22:49:17.897722Z",
     "start_time": "2021-01-19T22:49:17.660717Z"
    }
   },
   "outputs": [
    {
     "name": "stdout",
     "output_type": "stream",
     "text": [
      "[ 5.85 ][ 3.34 ][ -8.07 ][ -7.45 ][ 2.63 ][ 7.84 ][ 2.24 ][ -5.41 ][ -4.99 ][ 1.76 ][ 5.26 ]\n"
     ]
    }
   ],
   "source": [
    ">matlab\n",
    "clc; clear;\n",
    "syms x(t)\n",
    "\n",
    "x(t) = 11.7 * exp(-0.8 * t) * cos(2 * pi * 2 * t) * heaviside(t);\n",
    "\n",
    "samplingStart = 0; % Sampling Start\n",
    "samplingEnd = 10; % Sampling Frequency\n",
    "period = 1; % default\n",
    "\n",
    "results = [];\n",
    "\n",
    "for value = samplingStart:period:samplingEnd\n",
    "    results(value + 1) = eval(x(value/samplingEnd));\n",
    "end\n",
    "\n",
    "fprintf(\"[ %.2f ]\", results)"
   ]
  },
  {
   "cell_type": "markdown",
   "metadata": {},
   "source": [
    "### Sorular (Yaz Okulu)\n",
    "<small>Klasör: 6_Sorular\\6_2_Sorular\\YazOkulu</small>"
   ]
  },
  {
   "cell_type": "markdown",
   "metadata": {},
   "source": [
    "#### Soru 1 (Eğimli Sinyal (Exponential))"
   ]
  },
  {
   "cell_type": "markdown",
   "metadata": {
    "ExecuteTime": {
     "end_time": "2021-01-20T00:22:39.591765Z",
     "start_time": "2021-01-20T00:22:39.583753Z"
    }
   },
   "source": [
    "A periodic signal $x(t) = 400e^{-t/2}$ and its amplitude spectrum are shown in the figure. If $T=\\frac{1}{16}$, what is the <b>amplitude</b> of the $48\\text{Hz}$ component?\n",
    "<hr>\n",
    "Bu soruda amplitude değerleri zaten veriliyor, frekansı periyoda bölerek $C_{n=\\text{çıkan sonuç}}$ değerini cevap olarak kabul edebiliriz. <p>Fakat çözüm şeklide aşağıda mevcut, şıklardan en yakın olan değer cevap olarak kabul edilebilir</p>"
   ]
  },
  {
   "cell_type": "code",
   "execution_count": 75,
   "metadata": {
    "ExecuteTime": {
     "end_time": "2021-01-20T00:20:38.229823Z",
     "start_time": "2021-01-20T00:20:38.198809Z"
    }
   },
   "outputs": [
    {
     "name": "stdout",
     "output_type": "stream",
     "text": [
      "Amplitude: 33.4839\n",
      "Phase: -85.24\n"
     ]
    }
   ],
   "source": [
    ">matlab\n",
    "amplitude = 48;\n",
    "a_0 = 0.504 * 400;\n",
    "n = amplitude * 1 / 16;\n",
    "fprintf(\"Amplitude: %.4f\\n\", a_0 * (2 / sqrt(1 + 16 * n^2)))\n",
    "fprintf(\"Phase: %.2f\", rad2deg(-atan(4 * n)))"
   ]
  },
  {
   "cell_type": "markdown",
   "metadata": {},
   "source": [
    "#### Soru 2 [ H(s) - H(3) ]"
   ]
  },
  {
   "cell_type": "markdown",
   "metadata": {},
   "source": [
    "The mathematical model of a system is $3\\ddot{y}(t)+6\\dot{y}(t)+3y(t) = 22\\dot{x}(t)+45x(t)$. Find H(3).\n",
    "\n",
    "**Hint:** Find transfer function $H(s)$ of the system. Then find $H(3)$\n",
    "\n",
    "<small>Kaynak: https://lpsa.swarthmore.edu/Representations/SysRepTransformations/TF2SDE.html<small>"
   ]
  },
  {
   "cell_type": "code",
   "execution_count": 4,
   "metadata": {
    "ExecuteTime": {
     "end_time": "2021-01-25T09:33:43.843606Z",
     "start_time": "2021-01-25T09:33:43.810591Z"
    }
   },
   "outputs": [
    {
     "name": "stdout",
     "output_type": "stream",
     "text": [
      "\n",
      "result =\n",
      "\n",
      "    2.1500\n",
      "\n",
      "\n"
     ]
    }
   ],
   "source": [
    ">matlab\n",
    "clc; clear;\n",
    "\n",
    "x_coeffs = [ 0, 22, 42]; % X kat sayıları girilecek\n",
    "y_coeffs = [ 5, 9, 2]; % Y kat sayıları girilecek\n",
    "s = 2;\n",
    "\n",
    "X = y_coeffs(1) * s^2 + y_coeffs(2) * s + y_coeffs(3);\n",
    "Y = x_coeffs(1) * s^2 + x_coeffs(2) * s + x_coeffs(3);\n",
    "\n",
    "result = Y / X"
   ]
  },
  {
   "cell_type": "markdown",
   "metadata": {},
   "source": [
    "#### Soru 3 (Omega Magnitude)"
   ]
  },
  {
   "cell_type": "markdown",
   "metadata": {},
   "source": [
    "Consider $F(\\omega)$, a complex function of a real variable $\\omega$\n",
    "\n",
    "$F(\\omega) = \\frac{300 + j\\omega}{4+j9\\omega}$\n",
    "\n",
    "If $\\omega$ = 9, find <u>magnitude</u> of $F(\\omega)$"
   ]
  },
  {
   "cell_type": "code",
   "execution_count": 79,
   "metadata": {
    "ExecuteTime": {
     "end_time": "2021-01-20T00:30:59.920840Z",
     "start_time": "2021-01-20T00:30:59.850844Z"
    }
   },
   "outputs": [
    {
     "name": "stdout",
     "output_type": "stream",
     "text": [
      "Sonuç: 3.7009\n",
      "\n"
     ]
    }
   ],
   "source": [
    ">matlab\n",
    "clc; clear;\n",
    "syms f(w)\n",
    "\n",
    "numerator = (300 + 1 * j * w); % pay\n",
    "denominator = 4 + (1 * j * 9 * w); % payda\n",
    "\n",
    "f(w) = numerator / denominator;\n",
    "w = 9;\n",
    "result = eval(f);\n",
    "fprintf('Sonuç: %.4f\\n', abs(result))"
   ]
  },
  {
   "cell_type": "markdown",
   "metadata": {},
   "source": [
    "#### Soru 4 (Omega Radian)"
   ]
  },
  {
   "cell_type": "markdown",
   "metadata": {},
   "source": [
    "Consider $F(\\omega)$, a complex function of a real variable $\\omega$\n",
    "\n",
    "$F(\\omega) = \\frac{8 + j\\omega}{4.5+j6.3\\omega}$\n",
    "\n",
    "If $\\omega$ = 3.4, find <u>angle</u> of $F(\\omega)$ in <u>radian</u>"
   ]
  },
  {
   "cell_type": "code",
   "execution_count": 4,
   "metadata": {
    "ExecuteTime": {
     "end_time": "2021-01-23T06:57:05.176958Z",
     "start_time": "2021-01-23T06:57:05.030962Z"
    }
   },
   "outputs": [
    {
     "name": "stdout",
     "output_type": "stream",
     "text": [
      "\n",
      "ans =\n",
      "\n",
      "   -0.9619\n",
      "\n",
      "\n"
     ]
    }
   ],
   "source": [
    ">matlab\n",
    "clc;clear;\n",
    "syms f(w)\n",
    "\n",
    "numerator = (8 + 1 * j * w); % pay\n",
    "denominator = 4.5 + (1 * j * 6.3 * w); % payda\n",
    "\n",
    "f(w) = numerator / denominator;\n",
    "w = 3.4;\n",
    "result = eval(f);\n",
    "angle(result)"
   ]
  },
  {
   "cell_type": "markdown",
   "metadata": {},
   "source": [
    "#### Soru 5 (Sampling Sorusu)"
   ]
  },
  {
   "cell_type": "markdown",
   "metadata": {},
   "source": [
    "We want to sample $x(t)=16.9e^{-0.9t}cos(2\\pi2t)u(t)$ continuous signal. Sampling will start at time $0$. If the sampling frequency is $Fs=10$, which one of the following is <u>not one</u> of the sample values?"
   ]
  },
  {
   "cell_type": "code",
   "execution_count": 7,
   "metadata": {
    "ExecuteTime": {
     "end_time": "2021-01-25T10:02:20.869393Z",
     "start_time": "2021-01-25T10:02:20.509394Z"
    }
   },
   "outputs": [
    {
     "name": "stdout",
     "output_type": "stream",
     "text": [
      "[ 0.00 ][ 7.96 ][ 4.68 ][ -4.45 ][ -6.85 ][ 0.00 ][ 6.20 ][ 3.65 ][ -3.47 ][ -5.34 ][ 0.00 ]\n"
     ]
    }
   ],
   "source": [
    ">matlab\n",
    "clc; clear;\n",
    "syms x(t)\n",
    "\n",
    "x(t) = 8.8 * exp(-0.5 * t) * sin(2 * pi * 2 * t) * heaviside(t);\n",
    "\n",
    "samplingStart = 0; % Sampling Start\n",
    "samplingEnd = 10; % Sampling Frequency\n",
    "period = 1; % default\n",
    "\n",
    "results = [];\n",
    "\n",
    "for value = samplingStart:period:samplingEnd\n",
    "    results(value + 1) = eval(x(value/samplingEnd));\n",
    "end\n",
    "\n",
    "fprintf(\"[ %.2f ]\", results)"
   ]
  },
  {
   "cell_type": "markdown",
   "metadata": {},
   "source": [
    "#### Soru 6 (Periodic Signal)"
   ]
  },
  {
   "cell_type": "markdown",
   "metadata": {},
   "source": [
    "$x(t)$ is a **periodic signal** and $0.2t^2[u(t)-u(t-9)]$ describes its **one period**.\n",
    "\n",
    "What is the value of $x(t)$ at time $t=421$?\n",
    "\n",
    "Hint: Determine one period of the signal and find its values."
   ]
  },
  {
   "cell_type": "code",
   "execution_count": 5,
   "metadata": {
    "ExecuteTime": {
     "end_time": "2021-01-25T10:00:49.223218Z",
     "start_time": "2021-01-25T10:00:49.107224Z"
    }
   },
   "outputs": [
    {
     "name": "stdout",
     "output_type": "stream",
     "text": [
      "\n",
      "ans =\n",
      "\n",
      "    0.4000\n",
      "\n",
      "\n"
     ]
    }
   ],
   "source": [
    ">matlab\n",
    "syms f(t)\n",
    "f(t) = 0.1 * t^2;\n",
    "totalPeriod = 7;\n",
    "target = 317;\n",
    "\n",
    "eval(f(mod(target, totalPeriod)))"
   ]
  },
  {
   "cell_type": "markdown",
   "metadata": {},
   "source": [
    "#### Soru 7 (Differential Equation)"
   ]
  },
  {
   "cell_type": "markdown",
   "metadata": {},
   "source": [
    "The differential equation $\\ddot{y}+3\\dot{y}+y(t) = x(t)$ describes a system. Let the system be initially at rest, $y(0^+)=\\dot{y}(0^+)=0$, and let the input signal $x(t)=1u(t)$. What are the system outputs at $t=1.7, y(1.7)$?\n",
    "<hr>\n",
    "\n",
    "**Hint:** Find natural response. Find forced response (We have constant input. Its value is 3). Then using initial conditin, you can find coefficients of natural response. Then you can find $y(1.7)$"
   ]
  },
  {
   "cell_type": "code",
   "execution_count": 84,
   "metadata": {
    "ExecuteTime": {
     "end_time": "2021-01-20T00:38:01.822383Z",
     "start_time": "2021-01-20T00:37:59.655368Z"
    }
   },
   "outputs": [
    {
     "name": "stdout",
     "output_type": "stream",
     "text": [
      "0.39\n"
     ]
    }
   ],
   "source": [
    ">matlab\n",
    "clc; clear;\n",
    "syms x(t) y(t)\n",
    "x(t) = 1 * heaviside(t);\n",
    "\n",
    "% Differential Equation\n",
    "equation = diff(y, t, 2) + 3 * diff(y, t) + y(t) == x(t);\n",
    "\n",
    "% Initial Condition\n",
    "Dy = diff(y, t);\n",
    "condition = [y(0) == 0, Dy(0) == 0];\n",
    "\n",
    "% Time\n",
    "t = 1.7;\n",
    "\n",
    "solution = dsolve(equation, condition);\n",
    "fprintf(\"%.2f\", eval(solution))"
   ]
  },
  {
   "cell_type": "markdown",
   "metadata": {},
   "source": [
    "#### Soru 8 (Impulse Response > System Response)"
   ]
  },
  {
   "cell_type": "markdown",
   "metadata": {},
   "source": [
    "A system has an impulse response $h(t)=4\\delta(t)-2e^{-0.8t}u(t)$.\n",
    "\n",
    "Find the system response to input (zero-state response) at t=1.1, $y(1.1)$, if the input is $x(t)=u(t)-u(t-1)$"
   ]
  },
  {
   "cell_type": "code",
   "execution_count": 1,
   "metadata": {
    "ExecuteTime": {
     "end_time": "2021-01-23T06:55:58.035694Z",
     "start_time": "2021-01-23T06:55:22.628079Z"
    }
   },
   "outputs": [
    {
     "name": "stdout",
     "output_type": "stream",
     "text": [
      "\n",
      "ans =\n",
      "\n",
      "   -1.2708\n",
      "\n",
      "\n"
     ]
    }
   ],
   "source": [
    ">matlab\n",
    "clc; clear; close all;\n",
    "syms t tau h(t) x(t)\n",
    "\n",
    "% Input Signal\n",
    "x(t) = heaviside(t) - heaviside(t - 1);\n",
    "\n",
    "% Impulse Response\n",
    "h(t) = simplify(eval((4 * dirac(t)) - (2 * exp(-0.8 * t) * heaviside(t))));\n",
    "\n",
    "% Obtain x(tau) * h(t-tau)\n",
    "m = subs(x, tau) * subs(h, t - tau); \n",
    "y = int(m, tau, -inf, +inf);\n",
    "\n",
    "t = 1.1;\n",
    "eval(y)"
   ]
  },
  {
   "cell_type": "markdown",
   "metadata": {},
   "source": [
    "### Muhtelif Sorular"
   ]
  },
  {
   "cell_type": "markdown",
   "metadata": {},
   "source": [
    "![image.jpg](./Resimler/tirtikli.jpg)"
   ]
  },
  {
   "cell_type": "code",
   "execution_count": null,
   "metadata": {},
   "outputs": [],
   "source": [
    ">matlab\n",
    "n = 4; % 4/3 Hz pay kısmı\n",
    "omega = 2 * pi / 3;\n",
    "A = 88.8;\n",
    "\n",
    "a_n = (A / (3 * n * omega)) * (4 * sin(n * omega));\n",
    "b_n = ((-A / (3 * n * omega)) * (4 * cos(n * omega))) + ((A / (3 * (n * omega)^2)) * (4 * sin(n * omega)));\n",
    "\n",
    "fprintf(\"Sonuç: %.2f\", sqrt(a_n^2 + b_n^2))"
   ]
  },
  {
   "cell_type": "code",
   "execution_count": 3,
   "metadata": {
    "ExecuteTime": {
     "end_time": "2021-01-23T17:23:57.610805Z",
     "start_time": "2021-01-23T17:23:56.406805Z"
    },
    "scrolled": true
   },
   "outputs": [
    {
     "name": "stdout",
     "output_type": "stream",
     "text": [
      "\n"
     ]
    },
    {
     "data": {
      "image/png": "[encoded data removed]",
      "text/plain": [
       "<IPython.core.display.Image object>"
      ]
     },
     "metadata": {},
     "output_type": "display_data"
    }
   ],
   "source": [
    ">matlab\n",
    "% syms x t\n",
    "% fplot( 5 * (heaviside(x) - heaviside(x - 1)), [-6, 6])\n",
    "% ylim([-6 6])\n",
    "% xticks(-10:1:10)\n",
    "% yticks(-10:1:10)\n",
    "% ylabel(\"V_s\")\n",
    "% xlabel(\"t\")\n",
    "% grid on\n",
    "syms x t\n",
    "fplot( 5 + 5 * heaviside(t), [-6, 6])\n",
    "ylim([-5 15])\n",
    "xticks(-10:1:10)\n",
    "yticks(-10:1:10)\n",
    "ylabel(\"V_s\")\n",
    "xlabel(\"t\")\n",
    "grid on"
   ]
  },
  {
   "cell_type": "code",
   "execution_count": 19,
   "metadata": {
    "ExecuteTime": {
     "end_time": "2021-01-23T15:43:47.377094Z",
     "start_time": "2021-01-23T15:43:47.185096Z"
    }
   },
   "outputs": [
    {
     "name": "stdout",
     "output_type": "stream",
     "text": [
      " \n",
      "ans =\n",
      " \n",
      "1 - exp(-t)\n",
      " \n",
      "\n"
     ]
    }
   ],
   "source": [
    ">matlab\n",
    "syms t\n",
    "1 + (-1 * exp(-t/1))"
   ]
  }
 ],
 "metadata": {
  "kernelspec": {
   "display_name": "All the Kernels",
   "language": "",
   "name": "atk"
  },
  "language_info": {
   "mimetype": "text/plain",
   "name": "all-of-them"
  },
  "toc": {
   "base_numbering": 1,
   "nav_menu": {},
   "number_sections": true,
   "sideBar": true,
   "skip_h1_title": false,
   "title_cell": "Table of Contents",
   "title_sidebar": "Contents",
   "toc_cell": false,
   "toc_position": {
    "height": "595.2px",
    "left": "343px",
    "top": "247.6px",
    "width": "364.2px"
   },
   "toc_section_display": true,
   "toc_window_display": true
  }
 },
 "nbformat": 4,
 "nbformat_minor": 4
}
