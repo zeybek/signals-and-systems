{
 "cells": [
  {
   "cell_type": "markdown",
   "metadata": {},
   "source": [
    "### Soru 5"
   ]
  },
  {
   "cell_type": "markdown",
   "metadata": {},
   "source": [
    "System response is $[-6e^{-0.9t} + 13e^{-0.8t}]u(t)$ when input signal is an impulse. If the input is $x(t)=u(t-1)-u(t-2)$ what is the system output to the input at t=1.5, $y(1.5)$"
   ]
  },
  {
   "cell_type": "code",
   "execution_count": 14,
   "metadata": {
    "ExecuteTime": {
     "end_time": "2020-12-13T22:04:39.989221Z",
     "start_time": "2020-12-13T22:04:39.781224Z"
    }
   },
   "outputs": [
    {
     "name": "stdout",
     "output_type": "stream",
     "text": [
      "    2.9415\n",
      "\n",
      "\n"
     ]
    }
   ],
   "source": [
    "clc; clear; close all;\n",
    "syms t tau\n",
    "x(t) = heaviside(t - 1) - heaviside(t - 2);\n",
    "h(t) = (-6 * exp(-0.9 * t) + 13 * exp(-0.8 * t)) * heaviside(t);\n",
    "m = subs(x, tau) * subs(h, t - tau);\n",
    "y = int(m, tau, -inf, inf);\n",
    "disp(eval(y(1.5)))"
   ]
  },
  {
   "cell_type": "markdown",
   "metadata": {},
   "source": [
    "### Soru 3"
   ]
  },
  {
   "cell_type": "markdown",
   "metadata": {
    "ExecuteTime": {
     "end_time": "2020-12-13T14:35:46.377619Z",
     "start_time": "2020-12-13T14:35:46.325602Z"
    }
   },
   "source": [
    "The differential equation $\\ddot{y}(t) + 4\\dot{y}(t) + y(t) = x(t)$ describes a system. Let the system be initially at rest, $y(0^+) = \\dot{y}(0^+) = 0$, and let the input signal $x(t)=1u(t)$. What are the system outputs at $t = 1.9, y(1.9)$\n",
    "\n",
    "-\n",
    "\n",
    "_Hint:_ Find natural response. Find forced response (We have constant input. Its value is 1). Then using initial condition, you can find coefficients of natural response. The you can find $y(1.9)$"
   ]
  },
  {
   "cell_type": "code",
   "execution_count": 66,
   "metadata": {
    "ExecuteTime": {
     "end_time": "2020-12-13T23:07:49.134103Z",
     "start_time": "2020-12-13T23:07:48.697082Z"
    },
    "scrolled": true
   },
   "outputs": [
    {
     "name": "stdout",
     "output_type": "stream",
     "text": [
      "Zero Input Response: 7 - 2*exp(-2*t)\n"
     ]
    }
   ],
   "source": [
    "clc; clear; close all;\n",
    "syms x(t) y(t)\n",
    "x(t) = 0;\n",
    "dx(t) = diff(x,t);\n",
    "eqn = diff(y,t,2) + 2 * diff(y,t) == 0;\n",
    "% eqn = diff(y,t,2) + 4 * diff(y,t) + 40 * y(t) == dx(t) + 2 * x(t);\n",
    "Dy = diff(y,t);\n",
    "cond = [y(0)==5, Dy(0)==4];\n",
    "% cond = [y(0)==2, Dy(0)==16.78];\n",
    "sol = dsolve(eqn,cond);\n",
    "fprintf(\"Zero Input Response: %s\", eval(sol))\n",
    "% t = 0;\n",
    "% fprintf(\"Zero Input Response - T: %g = %g\", t, eval(sol))\n",
    "% ezplot(sol, [0, 2.5])\n",
    "% ylim([-3 3])"
   ]
  },
  {
   "cell_type": "code",
   "execution_count": 24,
   "metadata": {
    "ExecuteTime": {
     "end_time": "2020-12-13T22:38:12.820728Z",
     "start_time": "2020-12-13T22:38:11.851726Z"
    }
   },
   "outputs": [
    {
     "name": "stdout",
     "output_type": "stream",
     "text": [
      "\n",
      "ans =\n",
      "\n",
      "    0.3245\n",
      "\n",
      "\n"
     ]
    },
    {
     "data": {
      "image/png": "[encoded data removed]",
      "text/plain": [
       "<IPython.core.display.Image object>"
      ]
     },
     "metadata": {},
     "output_type": "display_data"
    }
   ],
   "source": [
    "clc; clear; close all;\n",
    "\n",
    "syms x(t) y(t)\n",
    "x(t) = 5 * heaviside(t);\n",
    "dx(t) = diff(x,t);\n",
    "eqn = diff(y,t,2) + 6 * diff(y,t) + y(t) == dx(t);\n",
    "Dy = diff(y,t);\n",
    "cond = [y(0)==0, Dy(0)==0];\n",
    "sol = dsolve(eqn,cond);\n",
    "ezplot(sol, [0 5])\n",
    "ylim([0 5])\n",
    "grid on\n",
    "t = 1.8;\n",
    "eval(sol)"
   ]
  }
 ],
 "metadata": {
  "kernelspec": {
   "display_name": "Matlab",
   "language": "matlab",
   "name": "matlab"
  },
  "language_info": {
   "codemirror_mode": "octave",
   "file_extension": ".m",
   "help_links": [
    {
     "text": "MetaKernel Magics",
     "url": "https://metakernel.readthedocs.io/en/latest/source/README.html"
    }
   ],
   "mimetype": "text/x-octave",
   "name": "matlab",
   "version": "0.16.11"
  },
  "toc": {
   "base_numbering": 1,
   "nav_menu": {},
   "number_sections": true,
   "sideBar": true,
   "skip_h1_title": false,
   "title_cell": "Table of Contents",
   "title_sidebar": "Contents",
   "toc_cell": false,
   "toc_position": {
    "height": "calc(100% - 180px)",
    "left": "10px",
    "top": "150px",
    "width": "307.2px"
   },
   "toc_section_display": true,
   "toc_window_display": true
  }
 },
 "nbformat": 4,
 "nbformat_minor": 4
}
