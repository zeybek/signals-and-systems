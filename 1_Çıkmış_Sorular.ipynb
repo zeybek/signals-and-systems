{
 "cells": [
  {
   "cell_type": "markdown",
   "metadata": {},
   "source": [
    "### Resim 1"
   ]
  },
  {
   "cell_type": "markdown",
   "metadata": {},
   "source": [
    "If the system output is $y(t) = 9e^{-0.5t} + 9.2e^{-0.3t} + 98cos(2pi3t-82°)$, find $y(3)$"
   ]
  },
  {
   "cell_type": "code",
   "execution_count": 52,
   "metadata": {
    "ExecuteTime": {
     "end_time": "2020-12-18T19:10:09.228039Z",
     "start_time": "2020-12-18T19:10:09.151064Z"
    }
   },
   "outputs": [
    {
     "name": "stdout",
     "output_type": "stream",
     "text": [
      "\n",
      "ans =\n",
      "\n",
      "   19.3876\n",
      "\n",
      "\n"
     ]
    }
   ],
   "source": [
    "syms y(t)\n",
    "\n",
    "y(t) = 9 * exp(-0.5 * t) + 9.2 * exp(-0.3 * t) + 98 * cos(2*pi*3*t - deg2rad(82));\n",
    "\n",
    "eval(y(3))"
   ]
  },
  {
   "cell_type": "markdown",
   "metadata": {},
   "source": [
    "### Resim 2"
   ]
  },
  {
   "cell_type": "markdown",
   "metadata": {},
   "source": [
    "Consider $F(\\omega)$, a complex function of a real variable $\\omega$\n",
    "\n",
    "$F(\\omega) = \\frac{5.1 + j\\omega}{7.1+j6.3\\omega}$\n",
    "\n",
    "If $\\omega$ = 8.4, find <u>real part</u> of $F(\\omega)$"
   ]
  },
  {
   "cell_type": "code",
   "execution_count": 53,
   "metadata": {
    "ExecuteTime": {
     "end_time": "2020-12-18T19:10:09.292040Z",
     "start_time": "2020-12-18T19:10:09.230043Z"
    }
   },
   "outputs": [
    {
     "name": "stdout",
     "output_type": "stream",
     "text": [
      "Sonuç: 0.17\n",
      "\n"
     ]
    }
   ],
   "source": [
    "clc; clear;\n",
    "syms f(w)\n",
    "\n",
    "numerator = (5.1 + 1 * j * w); % pay\n",
    "denominator = 7.1 + (1 * j * 6.3 * w); % payda\n",
    "\n",
    "f(w) = numerator / denominator;\n",
    "w = 8.4;\n",
    "result = eval(f);\n",
    "fprintf('Sonuç: %.2f\\n', real(result))"
   ]
  },
  {
   "cell_type": "markdown",
   "metadata": {},
   "source": [
    "### Resim 3"
   ]
  },
  {
   "cell_type": "markdown",
   "metadata": {},
   "source": [
    "Consider $F(\\omega)$, a complex function of a real variable $\\omega$\n",
    "\n",
    "$F(\\omega) = \\frac{2.7 + j\\omega}{5.7+j9.3\\omega}$\n",
    "\n",
    "If $\\omega$ = 5, find <u>angle</u> of $F(\\omega)$ in <u>radian</u>"
   ]
  },
  {
   "cell_type": "code",
   "execution_count": 54,
   "metadata": {
    "ExecuteTime": {
     "end_time": "2020-12-18T19:10:09.372054Z",
     "start_time": "2020-12-18T19:10:09.294042Z"
    }
   },
   "outputs": [
    {
     "name": "stdout",
     "output_type": "stream",
     "text": [
      "\n",
      "ans =\n",
      "\n",
      "   -0.3732\n",
      "\n",
      "\n"
     ]
    }
   ],
   "source": [
    "clc;clear;\n",
    "syms f(w)\n",
    "\n",
    "numerator = (2.7 + 1 * j * w); % pay\n",
    "denominator = 5.7 + (1 * j * 9.3 * w); % payda\n",
    "\n",
    "f(w) = numerator / denominator;\n",
    "w = 5;\n",
    "result = eval(f);\n",
    "angle(result)"
   ]
  },
  {
   "cell_type": "markdown",
   "metadata": {},
   "source": [
    "### Resim 4"
   ]
  },
  {
   "cell_type": "markdown",
   "metadata": {},
   "source": [
    "#### Soru 1"
   ]
  },
  {
   "cell_type": "markdown",
   "metadata": {
    "tags": [
     "sinusoid"
    ]
   },
   "source": [
    "Express $7.1cos(\\omega t) + 8.5sin(\\omega t)$ as a single sinusoid"
   ]
  },
  {
   "cell_type": "code",
   "execution_count": 55,
   "metadata": {
    "ExecuteTime": {
     "end_time": "2020-12-18T19:10:09.404042Z",
     "start_time": "2020-12-18T19:10:09.374055Z"
    }
   },
   "outputs": [
    {
     "name": "stdout",
     "output_type": "stream",
     "text": [
      "Sonuç: 11.08cos(wₒt + 50.13°)\n"
     ]
    }
   ],
   "source": [
    "clc; clear;\n",
    "% Express x(t) as single sinusoid\n",
    "\n",
    "% x(t) = cos(wₒt) - √3sin(wₒt)\n",
    "complexNumber = 7.1 + j *- (-8.5);\n",
    "\n",
    "if rad2deg(angle(complexNumber)) < 0\n",
    "  signature = \"-\";\n",
    "else\n",
    "  signature = \"+\";\n",
    "end\n",
    "\n",
    "fprintf(\"Sonuç: %.2fcos(wₒt %s %.2f°)\", sqrt(real(complexNumber)^2 + imag(complexNumber)^2), signature, abs(rad2deg(angle(complexNumber))))"
   ]
  },
  {
   "cell_type": "markdown",
   "metadata": {},
   "source": [
    "#### Soru 2"
   ]
  },
  {
   "cell_type": "markdown",
   "metadata": {},
   "source": [
    "If $g(t)=14.9je^{j31°}e^{j2t} - 14.9je^{-j31°}e^{-j2t}$ write out and simplify"
   ]
  },
  {
   "cell_type": "markdown",
   "metadata": {},
   "source": [
    "Mathematica Solution\n",
    "```wl\n",
    "A = 14.9 * I * Exp[I*Degree[31]]*Exp[I* 2 t];\n",
    "B = 14.9 * I * Exp[-I*Degree[31]]*Exp[-I* 2 t];\n",
    "Result = FullSimplify[A - B]\n",
    "```"
   ]
  },
  {
   "cell_type": "markdown",
   "metadata": {},
   "source": [
    "### Resim 5"
   ]
  },
  {
   "cell_type": "markdown",
   "metadata": {},
   "source": [
    "#### Soru 1"
   ]
  },
  {
   "cell_type": "markdown",
   "metadata": {},
   "source": [
    "If $g(t)=5.5je^{j159°}e^{j2t} - 14.9je^{-j159°}e^{-j2t}$ write out and simplify"
   ]
  },
  {
   "cell_type": "markdown",
   "metadata": {},
   "source": [
    "Mathematica Solution\n",
    "\n",
    "```wl\n",
    "A = 5.5 * I * Exp[I*Degree[159]]*Exp[I* 2 t];\n",
    "B = 5.5 * I * Exp[-I*Degree[159]]*Exp[-I* 2 t];\n",
    "Result = FullSimplify[A - B]\n",
    "-11. Sin[2 t + \\[Degree][159]]\n",
    "```"
   ]
  },
  {
   "cell_type": "markdown",
   "metadata": {},
   "source": [
    "#### Soru 2"
   ]
  },
  {
   "cell_type": "markdown",
   "metadata": {},
   "source": [
    "Express $-9.2cos(\\omega t) - 4.7sin(\\omega t)$ as a single sinusoid"
   ]
  },
  {
   "cell_type": "code",
   "execution_count": 56,
   "metadata": {
    "ExecuteTime": {
     "end_time": "2020-12-18T19:10:09.436043Z",
     "start_time": "2020-12-18T19:10:09.405042Z"
    }
   },
   "outputs": [
    {
     "name": "stdout",
     "output_type": "stream",
     "text": [
      "Sonuç: 10.33cos(wₒt - 152.94°)\n"
     ]
    }
   ],
   "source": [
    "clc; clear;\n",
    "% Express x(t) as single sinusoid\n",
    "\n",
    "% x(t) = cos(wₒt) - √3sin(wₒt)\n",
    "complexNumber = -9.2 + j *- (4.7);\n",
    "\n",
    "if rad2deg(angle(complexNumber)) < 0\n",
    "  signature = \"-\";\n",
    "else\n",
    "  signature = \"+\";\n",
    "end\n",
    "\n",
    "fprintf(\"Sonuç: %.2fcos(wₒt %s %.2f°)\", sqrt(real(complexNumber)^2 + imag(complexNumber)^2), signature, abs(rad2deg(angle(complexNumber))))"
   ]
  },
  {
   "cell_type": "markdown",
   "metadata": {},
   "source": [
    "#### Soru 3 [Yapılmadı]"
   ]
  },
  {
   "cell_type": "markdown",
   "metadata": {},
   "source": [
    "Express $\\frac{-6}{6.1+j4.5}$ in polar form"
   ]
  },
  {
   "cell_type": "code",
   "execution_count": 57,
   "metadata": {
    "ExecuteTime": {
     "end_time": "2020-12-18T19:10:09.467041Z",
     "start_time": "2020-12-18T19:10:09.438043Z"
    }
   },
   "outputs": [
    {
     "name": "stdout",
     "output_type": "stream",
     "text": [
      "\n"
     ]
    }
   ],
   "source": [
    "% Araştırılacak"
   ]
  },
  {
   "cell_type": "markdown",
   "metadata": {},
   "source": [
    "### Resim 6"
   ]
  },
  {
   "cell_type": "markdown",
   "metadata": {},
   "source": [
    "A system has an impulse response $h(t)=3\\delta(t)-8e^{-0.1t}u(t)$. Find the system response to input (zero-state response) at t=1, $y(1)$, if the input is $x(t)=u(t)-u(t-1)$"
   ]
  },
  {
   "cell_type": "code",
   "execution_count": 58,
   "metadata": {
    "ExecuteTime": {
     "end_time": "2020-12-18T19:10:09.707063Z",
     "start_time": "2020-12-18T19:10:09.469044Z"
    }
   },
   "outputs": [
    {
     "name": "stdout",
     "output_type": "stream",
     "text": [
      "\n",
      "result =\n",
      "\n",
      "   -7.6130\n",
      "\n",
      "\n"
     ]
    }
   ],
   "source": [
    "clc; clear; close all;\n",
    "syms t tau h(t) x(t)\n",
    "\n",
    "% Input Signal\n",
    "x(t) = heaviside(t) - heaviside(t - 1);\n",
    "\n",
    "% Impulse Response\n",
    "h(t) = (3 * dirac(t)) - (8 * exp(-0.1 * t) * heaviside(t));\n",
    "\n",
    "% Obtain x(tau) * h(t-tau)\n",
    "m = subs(x, tau) * subs(h, t - tau); \n",
    "y = int(m, tau, -inf, +inf);\n",
    "\n",
    "t = 0;\n",
    "y_zero = eval(-y);\n",
    "\n",
    "t = 1;\n",
    "y_output = eval(y);\n",
    "\n",
    "result = y_zero + y_output"
   ]
  },
  {
   "cell_type": "markdown",
   "metadata": {},
   "source": [
    "### Resim 7"
   ]
  },
  {
   "cell_type": "markdown",
   "metadata": {},
   "source": [
    "Consider $F(\\omega)$, a complex function of a real variable $\\omega$\n",
    "\n",
    "$F(\\omega) = \\frac{8.1 + j\\omega}{8.5+j5.3\\omega}$\n",
    "\n",
    "If $\\omega$ = 4.7, find <u>real part</u> of $F(\\omega)$"
   ]
  },
  {
   "cell_type": "code",
   "execution_count": 59,
   "metadata": {
    "ExecuteTime": {
     "end_time": "2020-12-18T19:10:09.770039Z",
     "start_time": "2020-12-18T19:10:09.710044Z"
    }
   },
   "outputs": [
    {
     "name": "stdout",
     "output_type": "stream",
     "text": [
      "\n",
      "ans =\n",
      "\n",
      "   0.2684 - 0.2336i\n",
      "\n",
      "\n"
     ]
    }
   ],
   "source": [
    "clc; clear;\n",
    "syms f(w)\n",
    "\n",
    "numerator = 8.1 + 1 * j * w; % pay\n",
    "denominator = 8.5 + (1 * j * 5.3 * w); % payda\n",
    "\n",
    "f(w) = numerator / denominator;\n",
    "w = 4.7;\n",
    "\n",
    "eval(f)"
   ]
  },
  {
   "cell_type": "markdown",
   "metadata": {},
   "source": [
    "### Resim 8"
   ]
  },
  {
   "cell_type": "markdown",
   "metadata": {},
   "source": [
    "$x(t)$ is a **periodic signal** and $0.6t^3[u(t)-u(t-6)]$ describes its **one period**.\n",
    "\n",
    "What is the value of $x(t)$ at time $t=437$?\n",
    "\n",
    "Hint: Determine one period of the signal and find its values."
   ]
  },
  {
   "cell_type": "code",
   "execution_count": 60,
   "metadata": {
    "ExecuteTime": {
     "end_time": "2020-12-18T19:10:09.881063Z",
     "start_time": "2020-12-18T19:10:09.772042Z"
    }
   },
   "outputs": [
    {
     "name": "stdout",
     "output_type": "stream",
     "text": [
      " \n",
      "ans =\n",
      " \n",
      "75\n",
      " \n",
      "\n"
     ]
    }
   ],
   "source": [
    "syms f(t)\n",
    "f(t) = 0.6 * t^3;\n",
    "totalPeriod = 6;\n",
    "target = 437;\n",
    "\n",
    "f(mod(target, totalPeriod))\n"
   ]
  },
  {
   "cell_type": "markdown",
   "metadata": {},
   "source": [
    "### Resim 9"
   ]
  },
  {
   "cell_type": "markdown",
   "metadata": {},
   "source": [
    "If the system output is $y(t)=3.4e^{-0.8t} + 3.7e^{-0.4t} + 6cos(2pi3t - 21^o)$, find $y(4.3)$"
   ]
  },
  {
   "cell_type": "code",
   "execution_count": 61,
   "metadata": {
    "ExecuteTime": {
     "end_time": "2020-12-18T19:10:09.961040Z",
     "start_time": "2020-12-18T19:10:09.883045Z"
    }
   },
   "outputs": [
    {
     "name": "stdout",
     "output_type": "stream",
     "text": [
      "\n",
      "ans =\n",
      "\n",
      "    4.0394\n",
      "\n",
      "\n"
     ]
    }
   ],
   "source": [
    "clc; clear; close all;\n",
    "syms y(t)\n",
    "\n",
    "y(t) = 3.4 * exp(-0.8 * t) + 3.7 * exp(-0.4 * t) + 6 * cos(2 * pi * 3 * t - deg2rad(21));\n",
    "eval(y(4.3))"
   ]
  },
  {
   "cell_type": "markdown",
   "metadata": {},
   "source": [
    "### Resim 10"
   ]
  },
  {
   "cell_type": "markdown",
   "metadata": {
    "solution": "hidden"
   },
   "source": [
    "#### Soru 1 [Yapılmadı]"
   ]
  },
  {
   "cell_type": "markdown",
   "metadata": {},
   "source": [
    "An LTIC system is specified by the equation $\\ddot{y} + 2\\dot{y} = \\dot{x} + 4x$. \n",
    "\n",
    "Find natural response, forced response and total response to input $x(t)=1e^{-2t}u(t)$ when  $y(0^+)=7.3$ and $\\dot{y}(0^+)=-9$"
   ]
  },
  {
   "cell_type": "code",
   "execution_count": 62,
   "metadata": {
    "ExecuteTime": {
     "end_time": "2020-12-18T19:10:09.993042Z",
     "start_time": "2020-12-18T19:10:09.962042Z"
    }
   },
   "outputs": [
    {
     "name": "stdout",
     "output_type": "stream",
     "text": [
      "\n"
     ]
    }
   ],
   "source": [
    "% Araştırılacak"
   ]
  },
  {
   "cell_type": "markdown",
   "metadata": {},
   "source": [
    "#### Soru 2"
   ]
  },
  {
   "cell_type": "markdown",
   "metadata": {},
   "source": [
    "If $g(t)=14.9je^{j31^o}e^{j2t} - 14.9je^{-j31^o}e^{-j2t}$ write out and simplify\n",
    "\n",
    "[Mathematica Solution](./Mathematica.ipynb#Resim-10---Soru-2)"
   ]
  },
  {
   "cell_type": "markdown",
   "metadata": {},
   "source": [
    "```wl\n",
    "A = 14.9 * I * Exp[ I * Degree[31] ] * Exp[ I * 2t ];\n",
    "B = 14.9 * I * Exp[-I * Degree[31] ] * Exp[ -I * 2t ];\n",
    "Result = FullSimplify[A - B]\n",
    "```"
   ]
  },
  {
   "cell_type": "markdown",
   "metadata": {},
   "source": [
    "### Resim 11"
   ]
  },
  {
   "cell_type": "markdown",
   "metadata": {},
   "source": [
    "#### Soru 1"
   ]
  },
  {
   "cell_type": "markdown",
   "metadata": {},
   "source": [
    "A system has an impulse response $h(t)=3\\delta(t)-e^{-3t}u(t)$. Find the response to input (zero state response) if the input is $x(t)=2e^{-2t}u(t)$."
   ]
  },
  {
   "cell_type": "code",
   "execution_count": 73,
   "metadata": {
    "ExecuteTime": {
     "end_time": "2020-12-20T01:05:36.915458Z",
     "start_time": "2020-12-20T01:05:36.591444Z"
    },
    "scrolled": true
   },
   "outputs": [
    {
     "name": "stdout",
     "output_type": "stream",
     "text": [
      " \n",
      "ans =\n",
      " \n",
      "3*exp(-2*t)*(sign(t) + 1) - (20*exp(-2*t)*heaviside(t)*(exp((17*t)/10) - 1))/17\n",
      " \n",
      "\n"
     ]
    }
   ],
   "source": [
    "clc; clear; close all;\n",
    "syms t tau h(t) x(t)\n",
    "\n",
    "% Input Signal\n",
    "x(t) = 2 * exp(-2 * t) * heaviside(t);\n",
    "\n",
    "% Impulse Response\n",
    "h(t) = (3 * dirac(t)) - (exp(-0.3 * t) * heaviside(t));\n",
    "\n",
    "h(t) = simplify(eval(h(t)));\n",
    "\n",
    "% Obtain x(tau) * h(t-tau)\n",
    "m = subs(x, tau) * subs(h, t - tau); \n",
    "y = int(m, tau, -inf, +inf);\n",
    "\n",
    "% t = 2;\n",
    "eval(y)"
   ]
  },
  {
   "cell_type": "markdown",
   "metadata": {},
   "source": [
    "#### Soru 2"
   ]
  },
  {
   "cell_type": "markdown",
   "metadata": {},
   "source": [
    "Express $3.4cos(\\omega t) + 7.2sin(\\omega t)$ as a single sinusoid"
   ]
  },
  {
   "cell_type": "code",
   "execution_count": 64,
   "metadata": {
    "ExecuteTime": {
     "end_time": "2020-12-18T19:10:10.327040Z",
     "start_time": "2020-12-18T19:10:10.296041Z"
    }
   },
   "outputs": [
    {
     "name": "stdout",
     "output_type": "stream",
     "text": [
      "Sonuç: 7.96cos(wₒt - 64.72°)\n"
     ]
    }
   ],
   "source": [
    "clc; clear;\n",
    "\n",
    "complexNumber = 3.4 + j *- (7.2);\n",
    "\n",
    "if rad2deg(angle(complexNumber)) < 0\n",
    "  signature = \"-\";\n",
    "else\n",
    "  signature = \"+\";\n",
    "end\n",
    "\n",
    "fprintf(\"Sonuç: %.2fcos(wₒt %s %.2f°)\", sqrt(real(complexNumber)^2 + imag(complexNumber)^2), signature, abs(rad2deg(angle(complexNumber))))"
   ]
  },
  {
   "cell_type": "markdown",
   "metadata": {},
   "source": [
    "### Resim 12"
   ]
  },
  {
   "cell_type": "markdown",
   "metadata": {},
   "source": [
    "#### Soru 1"
   ]
  },
  {
   "cell_type": "markdown",
   "metadata": {},
   "source": [
    "Define a 2 Hz cosine signal with an amplitude of 3.9 **between second 2 and second 4**.\n",
    "\n",
    "Draw the signal. (IMPORTANT: Pay attention to the **frequency** of the signal when drawing. Write values of amplitude and time axis)"
   ]
  },
  {
   "cell_type": "code",
   "execution_count": 74,
   "metadata": {
    "ExecuteTime": {
     "end_time": "2020-12-20T01:06:58.182907Z",
     "start_time": "2020-12-20T01:06:57.735789Z"
    }
   },
   "outputs": [
    {
     "name": "stdout",
     "output_type": "stream",
     "text": [
      "\n"
     ]
    },
    {
     "data": {
      "image/png": "[encoded data removed]",
      "text/plain": [
       "<IPython.core.display.Image object>"
      ]
     },
     "metadata": {},
     "output_type": "display_data"
    }
   ],
   "source": [
    "frequency=2;\n",
    "amplitude=3.9;\n",
    "startTime=2;\n",
    "endTime=4;\n",
    "% samplingFrequency = 1/8000 % 8 KHz\n",
    "samplingFrequency = 0.0001; % Değer Verilmemişse\n",
    "\n",
    "t=startTime:samplingFrequency:endTime;\n",
    "y=amplitude * cos(2*pi*frequency*t);\n",
    "plot(t,y)\n",
    "xlabel(\"Time\")\n",
    "ylabel(\"Amplitude\")\n",
    "ylim([-6 6])\n",
    "grid on"
   ]
  },
  {
   "cell_type": "markdown",
   "metadata": {},
   "source": [
    "#### Soru 2"
   ]
  },
  {
   "cell_type": "markdown",
   "metadata": {},
   "source": [
    "Express $-6.8cos(\\omega t) + 5.2sin(\\omega t)$ as a single sinusoid"
   ]
  },
  {
   "cell_type": "code",
   "execution_count": 66,
   "metadata": {
    "ExecuteTime": {
     "end_time": "2020-12-18T19:10:10.390043Z",
     "start_time": "2020-12-18T19:10:10.361043Z"
    }
   },
   "outputs": [
    {
     "name": "stdout",
     "output_type": "stream",
     "text": [
      "Sonuç: 8.56cos(wₒt - 142.59°)\n"
     ]
    }
   ],
   "source": [
    "clc; clear;\n",
    "\n",
    "complexNumber = -6.8 + j *- (5.2);\n",
    "\n",
    "if rad2deg(angle(complexNumber)) < 0\n",
    "  signature = \"-\";\n",
    "else\n",
    "  signature = \"+\";\n",
    "end\n",
    "\n",
    "fprintf(\"Sonuç: %.2fcos(wₒt %s %.2f°)\", sqrt(real(complexNumber)^2 + imag(complexNumber)^2), signature, abs(rad2deg(angle(complexNumber))))"
   ]
  },
  {
   "cell_type": "markdown",
   "metadata": {},
   "source": [
    "#### Soru 3"
   ]
  },
  {
   "cell_type": "markdown",
   "metadata": {},
   "source": [
    "If $g(t)=3.6je^{j77^o}e^{j10t} - 3.6je^{-j77^o}e^{-j10t}$ write out and simplify"
   ]
  },
  {
   "cell_type": "markdown",
   "metadata": {},
   "source": [
    "```wl\n",
    "A = 3.6 * I * Exp[ I * Degree[77] ] * Exp[ I * 10t ];\n",
    "B = 3.6 * I * Exp[-I * Degree[77] ] * Exp[ -I * 10t ];\n",
    "Result = FullSimplify[A - B]\n",
    "```"
   ]
  },
  {
   "cell_type": "markdown",
   "metadata": {},
   "source": [
    "###  Resim 13"
   ]
  },
  {
   "cell_type": "markdown",
   "metadata": {},
   "source": [
    "If $g(t)=14.9je^{j31^o}e^{j2t} - 14.9je^{-j31^o}e^{-j2t}$ write out and simplify"
   ]
  },
  {
   "cell_type": "markdown",
   "metadata": {},
   "source": [
    "```wl\n",
    "A = 14.9 * I * Exp[ I * Degree[31] ] * Exp[ I * 2t ];\n",
    "B = 14.9 * I * Exp[-I * Degree[31] ] * Exp[ -I * 2t ];\n",
    "Result = FullSimplify[A - B]\n",
    "```"
   ]
  },
  {
   "cell_type": "markdown",
   "metadata": {},
   "source": [
    "### Resim 14"
   ]
  },
  {
   "cell_type": "markdown",
   "metadata": {},
   "source": [
    "$x(t)$ is a **periodic signal** and $0.1t^3[u(t)-u(t-7)]$ describes its **one period**.\n",
    "\n",
    "What is the value of $x(t)$ at time $t = 317$?\n",
    "\n",
    "**Hint:** Determine one period of the signal and find its values."
   ]
  },
  {
   "cell_type": "code",
   "execution_count": 67,
   "metadata": {
    "ExecuteTime": {
     "end_time": "2020-12-18T19:10:10.422043Z",
     "start_time": "2020-12-18T19:10:10.392045Z"
    }
   },
   "outputs": [
    {
     "name": "stdout",
     "output_type": "stream",
     "text": [
      "\n",
      "f =\n",
      "\n",
      "    0.8000\n",
      "\n",
      "\n"
     ]
    }
   ],
   "source": [
    "t = 317;\n",
    "p = 7;\n",
    "f = 0.1 * mod(t,p) ^ 3"
   ]
  },
  {
   "cell_type": "markdown",
   "metadata": {},
   "source": [
    "### Resim 15"
   ]
  },
  {
   "cell_type": "markdown",
   "metadata": {},
   "source": [
    "Consider $F(\\omega)$, a complex function of a real variable $\\omega$\n",
    "\n",
    "$F(\\omega) = \\frac{208 + j\\omega}{4+j8\\omega}$\n",
    "\n",
    "If $\\omega$ = 8, find <u>magnitude</u> of $F(\\omega)$"
   ]
  },
  {
   "cell_type": "code",
   "execution_count": 45,
   "metadata": {
    "ExecuteTime": {
     "end_time": "2020-12-19T23:38:49.954004Z",
     "start_time": "2020-12-19T23:38:49.885010Z"
    }
   },
   "outputs": [
    {
     "name": "stdout",
     "output_type": "stream",
     "text": [
      "Sonuç: 3.2461\n",
      "\n"
     ]
    }
   ],
   "source": [
    "clc; clear;\n",
    "syms f(w)\n",
    "\n",
    "numerator = (208 + 1 * j * w); % pay\n",
    "denominator = 4 + (1 * j * 8 * w); % payda\n",
    "\n",
    "f(w) = numerator / denominator;\n",
    "w = 8;\n",
    "result = eval(f);\n",
    "fprintf('Sonuç: %.4f\\n', abs(result))"
   ]
  },
  {
   "cell_type": "markdown",
   "metadata": {},
   "source": [
    "### Resim 16"
   ]
  },
  {
   "cell_type": "markdown",
   "metadata": {},
   "source": [
    "A system has an impulse response $h(t)=[-4e^{1t} + 13e^{-0.9t}]u(t)$. Find the system response to input (zero-state response) at t=2, $y(2)$, if the input is $x(t)=u(t-1)-u(t-2)$"
   ]
  },
  {
   "cell_type": "code",
   "execution_count": 77,
   "metadata": {
    "ExecuteTime": {
     "end_time": "2020-12-20T01:08:04.955324Z",
     "start_time": "2020-12-20T01:08:04.671314Z"
    }
   },
   "outputs": [
    {
     "name": "stdout",
     "output_type": "stream",
     "text": [
      "\n",
      "ans =\n",
      "\n",
      "    6.0433\n",
      "\n",
      "\n"
     ]
    }
   ],
   "source": [
    "clc; clear; close all;\n",
    "syms t tau h(t) x(t)\n",
    "\n",
    "% Input Signal\n",
    "x(t) = heaviside(t - 1) - heaviside(t - 2);\n",
    "\n",
    "% Impulse Response\n",
    "h(t) = ((-4 * exp(-1 * t)) + (13 * exp(-0.9 * t))) * heaviside(t);\n",
    "\n",
    "h(t) = simplify(eval(h(t)));\n",
    "\n",
    "% Obtain x(tau) * h(t-tau)\n",
    "m = subs(x, tau) * subs(h, t - tau); \n",
    "y = int(m, tau, -inf, +inf);\n",
    "\n",
    "t = 2;\n",
    "eval(y)"
   ]
  },
  {
   "cell_type": "markdown",
   "metadata": {},
   "source": [
    "### Resim 17"
   ]
  },
  {
   "cell_type": "markdown",
   "metadata": {},
   "source": [
    "$x(t)$ is a **periodic signal** and $0.3t^2[u(t)-u(t-7)]$ describes its **one period**.\n",
    "\n",
    "What is the value of $x(t)$ at time $t=441$?\n",
    "\n",
    "Hint: Determine one period of the signal and find its values."
   ]
  },
  {
   "cell_type": "code",
   "execution_count": 86,
   "metadata": {
    "ExecuteTime": {
     "end_time": "2020-12-20T01:10:04.753833Z",
     "start_time": "2020-12-20T01:10:04.679838Z"
    }
   },
   "outputs": [
    {
     "name": "stdout",
     "output_type": "stream",
     "text": [
      "\n",
      "ans =\n",
      "\n",
      "     0\n",
      "\n",
      "\n"
     ]
    }
   ],
   "source": [
    "syms f(t)\n",
    "f(t) = 0.3 * t^2;\n",
    "totalPeriod = 7;\n",
    "target = 441;\n",
    "\n",
    "eval(f(mod(target, totalPeriod)))"
   ]
  },
  {
   "cell_type": "markdown",
   "metadata": {},
   "source": [
    "### Resim 18"
   ]
  },
  {
   "cell_type": "markdown",
   "metadata": {},
   "source": [
    "$x(t)$ is a **periodic signal** and $0.3t^3[u(t)-u(t-6)]$ describes its **one period**.\n",
    "\n",
    "What is the value of $x(t)$ at time $t=407$?\n",
    "\n",
    "Hint: Determine one period of the signal and find its values."
   ]
  },
  {
   "cell_type": "code",
   "execution_count": 71,
   "metadata": {
    "ExecuteTime": {
     "end_time": "2020-12-18T19:10:11.122040Z",
     "start_time": "2020-12-18T19:10:11.028043Z"
    }
   },
   "outputs": [
    {
     "name": "stdout",
     "output_type": "stream",
     "text": [
      "\n",
      "ans =\n",
      "\n",
      "   37.5000\n",
      "\n",
      "\n"
     ]
    }
   ],
   "source": [
    "syms f(t)\n",
    "f(t) = 0.3 * t^3;\n",
    "totalPeriod = 6;\n",
    "target = 407;\n",
    "\n",
    "eval(f(mod(target, totalPeriod)))"
   ]
  },
  {
   "cell_type": "markdown",
   "metadata": {},
   "source": [
    "### Resim 19"
   ]
  },
  {
   "cell_type": "markdown",
   "metadata": {},
   "source": [
    "We want to sample $x(t)=12e^{-0.5t}sin(2\\pi2t)u(t)$ continuous signal. Sampling will start at time $0$. If the sampling frequency is $Fs=10$, which one of the following is <u>not one</u> of the sample values?"
   ]
  },
  {
   "cell_type": "code",
   "execution_count": 72,
   "metadata": {
    "ExecuteTime": {
     "end_time": "2020-12-18T19:10:11.313040Z",
     "start_time": "2020-12-18T19:10:11.124043Z"
    }
   },
   "outputs": [
    {
     "name": "stdout",
     "output_type": "stream",
     "text": [
      "[ 0.00 ][ 10.86 ][ 6.38 ][ -6.07 ][ -9.34 ][ 0.00 ][ 8.45 ][ 4.97 ][ -4.73 ][ -7.28 ][ 0.00 ]\n"
     ]
    }
   ],
   "source": [
    "clc; clear;\n",
    "syms x(t)\n",
    "\n",
    "x(t) = 12 * exp(-0.5 * t) * sin(2 * pi * 2 * t) * heaviside(t);\n",
    "\n",
    "samplingStart = 0; % Sampling Start\n",
    "samplingEnd = 10; % Sampling Frequency\n",
    "period = 1; % default\n",
    "\n",
    "results = [];\n",
    "\n",
    "for value = samplingStart:period:samplingEnd\n",
    "    results(value + 1) = eval(x(value/samplingEnd));\n",
    "end\n",
    "\n",
    "fprintf(\"[ %.2f ]\", results)"
   ]
  },
  {
   "cell_type": "markdown",
   "metadata": {},
   "source": [
    "### Resim 20"
   ]
  },
  {
   "cell_type": "markdown",
   "metadata": {},
   "source": [
    "We want to sample $x(t)=15e^{-0.7t}cos(2\\pi3t)u(t)$ continuous signal. Sampling will start at time $0$. If the sampling frequency is $Fs=15$, which one of the following is <u>not one</u> of the sample values?"
   ]
  },
  {
   "cell_type": "code",
   "execution_count": 73,
   "metadata": {
    "ExecuteTime": {
     "end_time": "2020-12-18T19:10:11.569063Z",
     "start_time": "2020-12-18T19:10:11.315044Z"
    }
   },
   "outputs": [
    {
     "name": "stdout",
     "output_type": "stream",
     "text": [
      "[ 7.50 ][ 4.42 ][ -11.05 ][ -10.55 ][ 3.85 ][ 11.88 ][ 3.50 ][ -8.75 ][ -8.35 ][ 3.05 ][ 9.41 ][ 2.77 ][ -6.93 ][ -6.62 ][ 2.41 ][ 7.45 ]\n"
     ]
    }
   ],
   "source": [
    "clc; clear;\n",
    "syms x(t)\n",
    "\n",
    "x(t) = 15 * exp(-0.7 * t) * cos(2 * pi * 3 * t) * heaviside(t);\n",
    "\n",
    "samplingStart = 0; % Sampling Start\n",
    "samplingEnd = 15; % Sampling Frequency\n",
    "period = 1; % default\n",
    "\n",
    "results = [];\n",
    "\n",
    "for value = samplingStart:period:samplingEnd\n",
    "    results(value + 1) = eval(x(value/samplingEnd));\n",
    "end\n",
    "\n",
    "fprintf(\"[ %.2f ]\", results)"
   ]
  },
  {
   "cell_type": "markdown",
   "metadata": {},
   "source": [
    "### Resim 21"
   ]
  },
  {
   "cell_type": "markdown",
   "metadata": {},
   "source": [
    "A system has an impulse response $h(t)=[-6e^{-0.9t}+17e^{-1t}]u(t)$. Find the system response to input (zero-state response) at t=2.2, $y(2.2)$, if the input is $x(t)=u(t-1)-u(t-2)$"
   ]
  },
  {
   "cell_type": "code",
   "execution_count": 74,
   "metadata": {
    "ExecuteTime": {
     "end_time": "2020-12-18T19:10:12.046042Z",
     "start_time": "2020-12-18T19:10:11.573062Z"
    }
   },
   "outputs": [
    {
     "name": "stdout",
     "output_type": "stream",
     "text": [
      "\n",
      "ans =\n",
      "\n",
      "    5.4936\n",
      "\n",
      "\n"
     ]
    }
   ],
   "source": [
    "clc; clear; close all;\n",
    "syms t tau h(t) x(t)\n",
    "\n",
    "% Input Signal\n",
    "x(t) = heaviside(t - 1) - heaviside(t - 2);\n",
    "\n",
    "% Impulse Response\n",
    "h(t) = (-6 * exp(-0.9 * t) + 17 * exp(-1 * t)) * heaviside(t);\n",
    "h(t) = simplify(eval(h(t)));\n",
    "\n",
    "% Obtain x(tau) * h(t-tau)\n",
    "m = subs(x, tau) * subs(h, t - tau); \n",
    "y = int(m, tau, -inf, +inf);\n",
    "\n",
    "t = 2.2;\n",
    "eval(y)"
   ]
  },
  {
   "cell_type": "markdown",
   "metadata": {},
   "source": [
    "### Resim 22"
   ]
  },
  {
   "cell_type": "markdown",
   "metadata": {},
   "source": [
    "$x(t)$ is a **periodic signal** and $0.6t^3[u(t)-u(t-9)]$ describes its **one period**.\n",
    "\n",
    "What is the value of $x(t)$ at time $t=493$?\n",
    "\n",
    "Hint: Determine one period of the signal and find its values."
   ]
  },
  {
   "cell_type": "code",
   "execution_count": 75,
   "metadata": {
    "ExecuteTime": {
     "end_time": "2020-12-18T19:10:12.141062Z",
     "start_time": "2020-12-18T19:10:12.049046Z"
    }
   },
   "outputs": [
    {
     "name": "stdout",
     "output_type": "stream",
     "text": [
      "\n",
      "ans =\n",
      "\n",
      "  205.8000\n",
      "\n",
      "\n"
     ]
    }
   ],
   "source": [
    "syms f(t)\n",
    "f(t) = 0.6 * t^3;\n",
    "totalPeriod = 9;\n",
    "target = 493;\n",
    "\n",
    "eval(f(mod(target, totalPeriod)))"
   ]
  },
  {
   "cell_type": "markdown",
   "metadata": {},
   "source": [
    "### Resim 23"
   ]
  },
  {
   "cell_type": "markdown",
   "metadata": {},
   "source": [
    "If the system output is $y(t) = 8.8e^{-0.7t} + 6e^{-0.5t} + 24cos(2pi3t-16°)$, find $y(3)$"
   ]
  },
  {
   "cell_type": "code",
   "execution_count": 76,
   "metadata": {
    "ExecuteTime": {
     "end_time": "2020-12-18T19:10:12.253064Z",
     "start_time": "2020-12-18T19:10:12.143042Z"
    },
    "scrolled": true
   },
   "outputs": [
    {
     "name": "stdout",
     "output_type": "stream",
     "text": [
      "\n",
      "ans =\n",
      "\n",
      "    6.4048\n",
      "\n",
      "\n"
     ]
    }
   ],
   "source": [
    "syms y(t)\n",
    "\n",
    "y(t) = 8.8 * exp(-0.7 * t) + 6 * exp(-0.5 * t) + 24 * cos(2*pi*3*t - deg2rad(16));\n",
    "\n",
    "eval(y(1.6))"
   ]
  },
  {
   "cell_type": "markdown",
   "metadata": {},
   "source": [
    "### Resim 24"
   ]
  },
  {
   "cell_type": "markdown",
   "metadata": {},
   "source": [
    "We want to sample $x(t)=14e^{-0.6t}cos(2\\pi5t)u(t)$ continuous signal. Sampling will start at time $0$. If the sampling frequency is $Fs=25$, which one of the following is <u>not one</u> of the sample values?"
   ]
  },
  {
   "cell_type": "code",
   "execution_count": 77,
   "metadata": {
    "ExecuteTime": {
     "end_time": "2020-12-18T19:10:12.589062Z",
     "start_time": "2020-12-18T19:10:12.255043Z"
    },
    "scrolled": true
   },
   "outputs": [
    {
     "name": "stdout",
     "output_type": "stream",
     "text": [
      "[ 7.00 ][ 4.22 ][ -10.80 ][ -10.54 ][ 3.93 ][ 12.42 ][ 3.75 ][ -9.57 ][ -9.35 ][ 3.49 ][ 11.01 ][ 3.32 ][ -8.49 ][ -8.29 ][ 3.09 ][ 9.77 ][ 2.95 ][ -7.53 ][ -7.35 ][ 2.74 ][ 8.66 ][ 2.61 ][ -6.68 ][ -6.52 ][ 2.43 ][ 7.68 ]\n"
     ]
    }
   ],
   "source": [
    "clc; clear;\n",
    "syms x(t)\n",
    "\n",
    "x(t) = 14 * exp(-0.6 * t) * cos(2 * pi * 5 * t) * heaviside(t);\n",
    "\n",
    "samplingStart = 0; % Sampling Start\n",
    "samplingEnd = 25; % Sampling Frequency\n",
    "period = 1; % default\n",
    "\n",
    "results = [];\n",
    "\n",
    "for value = samplingStart:period:samplingEnd\n",
    "    results(value + 1) = eval(x(value/samplingEnd));\n",
    "end\n",
    "\n",
    "fprintf(\"[ %.2f ]\", results)"
   ]
  },
  {
   "cell_type": "markdown",
   "metadata": {},
   "source": [
    "### Resim 25"
   ]
  },
  {
   "cell_type": "markdown",
   "metadata": {},
   "source": [
    "We want to sample $x(t)=12e^{-0.5t}cos(2\\pi2t)u(t)$ continuous signal. Sampling will start at time $0$. If the sampling frequency is $Fs=10$, which one of the following is <u>not one</u> of the sample values?"
   ]
  },
  {
   "cell_type": "code",
   "execution_count": 78,
   "metadata": {
    "ExecuteTime": {
     "end_time": "2020-12-18T19:10:12.780044Z",
     "start_time": "2020-12-18T19:10:12.591060Z"
    }
   },
   "outputs": [
    {
     "name": "stdout",
     "output_type": "stream",
     "text": [
      "[ 0.00 ][ 10.86 ][ 6.38 ][ -6.07 ][ -9.34 ][ 0.00 ][ 8.45 ][ 4.97 ][ -4.73 ][ -7.28 ][ 0.00 ]\n"
     ]
    }
   ],
   "source": [
    "clc; clear;\n",
    "syms x(t)\n",
    "\n",
    "x(t) = 12 * exp(-0.5 * t) * sin(2 * pi * 2 * t) * heaviside(t);\n",
    "\n",
    "samplingStart = 0; % Sampling Start\n",
    "samplingEnd = 10; % Sampling Frequency\n",
    "period = 1; % default\n",
    "\n",
    "results = [];\n",
    "\n",
    "for value = samplingStart:period:samplingEnd\n",
    "    results(value + 1) = eval(x(value/samplingEnd));\n",
    "end\n",
    "\n",
    "fprintf(\"[ %.2f ]\", results)"
   ]
  },
  {
   "cell_type": "markdown",
   "metadata": {},
   "source": [
    "### Resim 26"
   ]
  },
  {
   "cell_type": "markdown",
   "metadata": {},
   "source": [
    "We want to sample $x(t)=2.8e^{-0.7t}sin(2\\pi1t)u(t)$ continuous signal. Sampling will start at time $0$. If the sampling frequency is $Fs=5$, which one of the following is <u>not one</u> of the sample values?"
   ]
  },
  {
   "cell_type": "code",
   "execution_count": 79,
   "metadata": {
    "ExecuteTime": {
     "end_time": "2020-12-18T19:10:12.922062Z",
     "start_time": "2020-12-18T19:10:12.783044Z"
    }
   },
   "outputs": [
    {
     "name": "stdout",
     "output_type": "stream",
     "text": [
      "[ 0.00 ][ 2.32 ][ 1.24 ][ -1.08 ][ -1.52 ][ 0.00 ]\n"
     ]
    }
   ],
   "source": [
    "clc; clear;\n",
    "syms x(t)\n",
    "\n",
    "x(t) = 2.8 * exp(-0.7 * t) * sin(2 * pi * 1 * t) * heaviside(t);\n",
    "\n",
    "samplingStart = 0; % Sampling Start\n",
    "samplingEnd = 5; % Sampling Frequency\n",
    "period = 1; % default\n",
    "\n",
    "results = [];\n",
    "\n",
    "for value = samplingStart:period:samplingEnd\n",
    "    results(value + 1) = eval(x(value/samplingEnd));\n",
    "end\n",
    "\n",
    "fprintf(\"[ %.2f ]\", results)"
   ]
  },
  {
   "cell_type": "markdown",
   "metadata": {},
   "source": [
    "### Resim 27"
   ]
  },
  {
   "cell_type": "markdown",
   "metadata": {},
   "source": [
    "Consider $F(\\omega)$, a complex function of a real variable $\\omega$\n",
    "\n",
    "$F(\\omega) = \\frac{5.1 + j\\omega}{7.1+j6.3\\omega}$\n",
    "\n",
    "If $\\omega$ = 8.4, find <u>imaginary part</u> of $F(\\omega)$"
   ]
  },
  {
   "cell_type": "code",
   "execution_count": 80,
   "metadata": {
    "ExecuteTime": {
     "end_time": "2020-12-18T19:10:13.018045Z",
     "start_time": "2020-12-18T19:10:12.924062Z"
    }
   },
   "outputs": [
    {
     "name": "stdout",
     "output_type": "stream",
     "text": [
      "Sonuç: -0.074\n",
      "\n"
     ]
    }
   ],
   "source": [
    "clc; clear;\n",
    "syms f(w)\n",
    "\n",
    "numerator = (5.1 + 1 * j * w); % pay\n",
    "denominator = 7.1 + (1 * j * 6.3 * w); % payda\n",
    "\n",
    "f(w) = numerator / denominator;\n",
    "w = 8.4;\n",
    "result = eval(f);\n",
    "fprintf('Sonuç: %.3f\\n', imag(result))"
   ]
  },
  {
   "cell_type": "markdown",
   "metadata": {},
   "source": [
    "### Resim 28"
   ]
  },
  {
   "cell_type": "markdown",
   "metadata": {},
   "source": [
    "If the system output is $y(t) = 3.2e^{-0.2t} + 3.9e^{-0.6t} + 11cos(2pi3t-99°)$, find $y(3.5)$"
   ]
  },
  {
   "cell_type": "code",
   "execution_count": 81,
   "metadata": {
    "ExecuteTime": {
     "end_time": "2020-12-18T19:10:13.130044Z",
     "start_time": "2020-12-18T19:10:13.020047Z"
    }
   },
   "outputs": [
    {
     "name": "stdout",
     "output_type": "stream",
     "text": [
      "\n",
      "ans =\n",
      "\n",
      "    3.7874\n",
      "\n",
      "\n"
     ]
    }
   ],
   "source": [
    "syms y(t)\n",
    "\n",
    "y(t) = 3.2 * exp(-0.2 * t) + 3.9 * exp(-0.6 * t) + 11 * cos(2*pi*3*t - deg2rad(99));\n",
    "\n",
    "eval(y(3.5))"
   ]
  },
  {
   "cell_type": "markdown",
   "metadata": {},
   "source": [
    "### Resim 29"
   ]
  },
  {
   "cell_type": "markdown",
   "metadata": {},
   "source": [
    "Consider $F(\\omega)$, a complex function of a real variable $\\omega$\n",
    "\n",
    "$F(\\omega) = \\frac{7.3 + j\\omega}{3.3+j5.5\\omega}$\n",
    "\n",
    "If $\\omega$ = 5.8, find <u>angle</u> of $F(\\omega)$ in <u>radian</u>"
   ]
  },
  {
   "cell_type": "code",
   "execution_count": 82,
   "metadata": {
    "ExecuteTime": {
     "end_time": "2020-12-18T19:10:13.256041Z",
     "start_time": "2020-12-18T19:10:13.133045Z"
    }
   },
   "outputs": [
    {
     "name": "stdout",
     "output_type": "stream",
     "text": [
      "Sonuç: -0.80 Radian\n",
      "\n"
     ]
    }
   ],
   "source": [
    "clc; clear;\n",
    "syms f(w)\n",
    "\n",
    "numerator = (7.3 + 1 * j * w); % pay\n",
    "denominator = 3.3 + (1 * j * 5.5 * w); % payda\n",
    "\n",
    "f(w) = numerator / denominator;\n",
    "w = 5.8;\n",
    "result = eval(f);\n",
    "fprintf('Sonuç: %.2f Radian\\n', angle(result))"
   ]
  },
  {
   "cell_type": "markdown",
   "metadata": {},
   "source": [
    "### Resim 30"
   ]
  },
  {
   "cell_type": "markdown",
   "metadata": {},
   "source": [
    "A system has an impulse response $h(t)=1\\delta(t)-9e^{-0.5t}u(t)$. Find the system response to input (zero-state response) at t=0.6, $y(0.6)$, if the input is $x(t)=u(t)-u(t-1)$"
   ]
  },
  {
   "cell_type": "code",
   "execution_count": 83,
   "metadata": {
    "ExecuteTime": {
     "end_time": "2020-12-18T19:10:13.624041Z",
     "start_time": "2020-12-18T19:10:13.258044Z"
    }
   },
   "outputs": [
    {
     "name": "stdout",
     "output_type": "stream",
     "text": [
      "Sonuç: -3.67\n",
      "\n"
     ]
    }
   ],
   "source": [
    "clc; clear; close all;\n",
    "syms t tau h(t) x(t)\n",
    "\n",
    "% Input Signal\n",
    "x(t) = heaviside(t) - heaviside(t - 1);\n",
    "\n",
    "% Impulse Response\n",
    "h(t) = (1 * dirac(t)) - (9 * exp(-0.5 * t) * heaviside(t));\n",
    "h(t) = simplify(eval(h(t)));\n",
    "\n",
    "% Obtain x(tau) * h(t-tau)\n",
    "m = subs(x, tau) * subs(h, t - tau); \n",
    "y = int(m, tau, -inf, +inf);\n",
    "\n",
    "t = 0.6;\n",
    "fprintf('Sonuç: %.2f\\n', eval(y))"
   ]
  },
  {
   "cell_type": "markdown",
   "metadata": {},
   "source": [
    "### Resim 31"
   ]
  },
  {
   "cell_type": "markdown",
   "metadata": {},
   "source": [
    "A system has an impulse response $h(t)=6\\delta(t)-8e^{-0.9t}u(t)$. Find the system response to input (zero-state response) at t=1.3, $y(1.3)$, if the input is $x(t)=u(t)-u(t-1)$"
   ]
  },
  {
   "cell_type": "code",
   "execution_count": 84,
   "metadata": {
    "ExecuteTime": {
     "end_time": "2020-12-18T19:10:13.990062Z",
     "start_time": "2020-12-18T19:10:13.626042Z"
    }
   },
   "outputs": [
    {
     "name": "stdout",
     "output_type": "stream",
     "text": [
      "Sonuç: -4.03\n",
      "\n"
     ]
    }
   ],
   "source": [
    "clc; clear; close all;\n",
    "syms t tau h(t) x(t)\n",
    "\n",
    "% Input Signal\n",
    "x(t) = heaviside(t) - heaviside(t - 1);\n",
    "\n",
    "% Impulse Response\n",
    "h(t) = (6 * dirac(t)) - (8 * exp(-0.9 * t) * heaviside(t));\n",
    "h(t) = simplify(eval(h(t)));\n",
    "\n",
    "% Obtain x(tau) * h(t-tau)\n",
    "m = subs(x, tau) * subs(h, t - tau); \n",
    "y = int(m, tau, -inf, +inf);\n",
    "\n",
    "t = 1.3;\n",
    "fprintf('Sonuç: %.2f\\n', eval(y))"
   ]
  },
  {
   "cell_type": "markdown",
   "metadata": {},
   "source": [
    "### Resim 32"
   ]
  },
  {
   "cell_type": "markdown",
   "metadata": {},
   "source": [
    "A system has an impulse response $h(t)=[-5e^{-0.8t} + 14e^{-0.8t}]u(t)$. Find the system response to input (zero-state response) at t=2.2, $y(2.2)$, if the input is $x(t)=u(t-1)-u(t-2)$"
   ]
  },
  {
   "cell_type": "code",
   "execution_count": 85,
   "metadata": {
    "ExecuteTime": {
     "end_time": "2020-12-18T19:10:14.326062Z",
     "start_time": "2020-12-18T19:10:13.992062Z"
    }
   },
   "outputs": [
    {
     "name": "stdout",
     "output_type": "stream",
     "text": [
      "Sonuç: 5.28\n",
      "\n"
     ]
    }
   ],
   "source": [
    "clc; clear; close all;\n",
    "syms t tau h(t) x(t)\n",
    "\n",
    "% Input Signal\n",
    "x(t) = heaviside(t - 1) - heaviside(t - 2);\n",
    "\n",
    "% Impulse Response\n",
    "h(t) = (-5 * exp(-0.8 * t) + 14 * exp(-0.8 * t)) * heaviside(t);\n",
    "h(t) = simplify(eval(h(t)));\n",
    "\n",
    "% Obtain x(tau) * h(t-tau)\n",
    "m = subs(x, tau) * subs(h, t - tau); \n",
    "y = int(m, tau, -inf, +inf);\n",
    "\n",
    "t = 2.2;\n",
    "fprintf('Sonuç: %.2f\\n', eval(y))"
   ]
  },
  {
   "cell_type": "markdown",
   "metadata": {},
   "source": [
    "### Resim 33"
   ]
  },
  {
   "cell_type": "markdown",
   "metadata": {},
   "source": [
    "We have $x(t)=\\color{magenta}{54}e^{-\\color{magenta}{0.7}t}u(t)$ and $z(t)=e^{j\\color{magenta}{38}t}x(t)$ signals. Find amplitude response of $z(t)$ at $\\omega=\\color{magenta}{41}, |Z(41)|$\n",
    "\n",
    "**Some Hints:**\n",
    "\n",
    "$x(t) \\leftrightarrow X(\\omega)$\n",
    "\n",
    "$ax(t) \\leftrightarrow aX(\\omega)$\n",
    "\n",
    "User Fourier transform table to find $|X(\\omega)|$\n",
    "\n",
    "Then use the <u>frequency shifting property</u>"
   ]
  },
  {
   "cell_type": "code",
   "execution_count": 86,
   "metadata": {
    "ExecuteTime": {
     "end_time": "2020-12-18T19:10:14.358062Z",
     "start_time": "2020-12-18T19:10:14.328043Z"
    }
   },
   "outputs": [
    {
     "name": "stdout",
     "output_type": "stream",
     "text": [
      "\n",
      "ans =\n",
      "\n",
      "   17.5291\n",
      "\n",
      "\n"
     ]
    }
   ],
   "source": [
    "abs(54 / (0.7 + j * (41 - 38)))"
   ]
  },
  {
   "cell_type": "markdown",
   "metadata": {},
   "source": [
    "### Resim 34"
   ]
  },
  {
   "cell_type": "markdown",
   "metadata": {},
   "source": [
    "We have $x(t)=\\color{magenta}{74}e^{-\\color{magenta}{0.9}t}u(t)$ and $z(t)=e^{j\\color{magenta}{34}t}x(t)$ signals. Find amplitude response of $z(t)$ at $\\omega=\\color{magenta}{46}, |Z(46)|$\n",
    "\n",
    "**Some Hints:**\n",
    "\n",
    "$x(t) \\leftrightarrow X(\\omega)$\n",
    "\n",
    "$ax(t) \\leftrightarrow aX(\\omega)$\n",
    "\n",
    "User Fourier transform table to find $|X(\\omega)|$\n",
    "\n",
    "Then use the <u>frequency shifting property</u>"
   ]
  },
  {
   "cell_type": "code",
   "execution_count": 87,
   "metadata": {
    "ExecuteTime": {
     "end_time": "2020-12-18T19:10:14.390062Z",
     "start_time": "2020-12-18T19:10:14.360048Z"
    }
   },
   "outputs": [
    {
     "name": "stdout",
     "output_type": "stream",
     "text": [
      "\n",
      "ans =\n",
      "\n",
      "    6.1494\n",
      "\n",
      "\n"
     ]
    }
   ],
   "source": [
    "abs(74 / (0.9 + j * (46 - 34)))"
   ]
  },
  {
   "cell_type": "markdown",
   "metadata": {},
   "source": [
    "### Resim 35"
   ]
  },
  {
   "cell_type": "markdown",
   "metadata": {},
   "source": [
    "<center>Slayt 11 - Sayfa 19 - Highpass Filter</center>\n",
    "\n",
    "![image.jpg](./Resimler/35.jpg)\n",
    "\n",
    "The figure shows the frequency response of a system. If input is $x(t)=5.5sin(2\\pi200t)+1.4sin(2\\pi500t)$ find the output $y(t)$"
   ]
  },
  {
   "cell_type": "code",
   "execution_count": 88,
   "metadata": {
    "ExecuteTime": {
     "end_time": "2020-12-18T19:10:14.438062Z",
     "start_time": "2020-12-18T19:10:14.392063Z"
    }
   },
   "outputs": [
    {
     "name": "stdout",
     "output_type": "stream",
     "text": [
      "Değerler Yaklaşık Çıkabilir, En Yakın Olan Doğru Cevap Olacak\n",
      "\n",
      "Sonuç: 2.09(sin(2pi200t + (68)) + 0.98(sin(2pi500t + (45))\n"
     ]
    }
   ],
   "source": [
    "clc; clear;\n",
    "syms t\n",
    "%--------------------------------------------------------------------------------------------%\n",
    "% 5.5 * sin(2 * pi * 200 * t)\n",
    "x_coeff_1_m = 5.5; % 1. Çarpan\n",
    "x_coeff_1_t = 200; % 200 Hz\n",
    "\n",
    "% Frekansın Kestiği Noktalar\n",
    "x_coeff_1_a_resp = 0.38; % Sürekli Çizgi, Sol Taraf, Gerilim Değeri (Volt Cinsinden)\n",
    "x_coeff_1_p_resp = 68; % Noktalı Çizgi, Sağ Taraf, Açısal Değeri/Fazı (Derece Cinsinden)\n",
    "%--------------------------------------------------------------------------------------------%\n",
    "%--------------------------------------------------------------------------------------------%\n",
    "% 1.4 * sin(2 * pi * 500 * t)\n",
    "x_coeff_2_m = 1.4; % 2. Çarpan\n",
    "x_coeff_2_t = 500; % 500 Hz\n",
    "\n",
    "% Frekansın Kestiği Noktalar\n",
    "x_coeff_2_a_resp = 0.7; % Sürekli Çizgi, Sol Taraf, Gerilim Değeri (Volt Cinsinden)\n",
    "x_coeff_2_p_resp = 45; % Noktalı Çizgi, Sağ Taraf, Açısal Değeri/Fazı (Derece Cinsinden)\n",
    "%--------------------------------------------------------------------------------------------%\n",
    "fprintf(\"Değerler Yaklaşık Çıkabilir, En Yakın Olan Doğru Cevap Olacak\\n\\n\")\n",
    "fprintf(\"Sonuç: %.2f(sin(2pi%it + (%i)) + \", x_coeff_1_m * x_coeff_1_a_resp,x_coeff_1_t, x_coeff_1_p_resp)\n",
    "fprintf(\"%.2f(sin(2pi%it + (%i))\", x_coeff_2_m * x_coeff_2_a_resp,x_coeff_2_t, x_coeff_2_p_resp)"
   ]
  },
  {
   "cell_type": "markdown",
   "metadata": {},
   "source": [
    "### Resim 36"
   ]
  },
  {
   "cell_type": "markdown",
   "metadata": {},
   "source": [
    "<center>Slayt 11 - Sayfa 18 - Lowpass Filter</center>\n",
    "\n",
    "![image.jpg](./Resimler/36.jpg)\n",
    "\n",
    "The figure shows the frequency response of a system. If input is $x(t)=8.8sin(2\\pi500t)+8.9sin(2\\pi900t)$ find the output $y(t)$"
   ]
  },
  {
   "cell_type": "code",
   "execution_count": 89,
   "metadata": {
    "ExecuteTime": {
     "end_time": "2020-12-18T19:10:14.486075Z",
     "start_time": "2020-12-18T19:10:14.440064Z"
    }
   },
   "outputs": [
    {
     "name": "stdout",
     "output_type": "stream",
     "text": [
      "Değerler Yaklaşık Çıkabilir, En Yakın Olan Doğru Cevap Olacak\n",
      "\n",
      "Sonuç: 6.16(sin(2pi500t + (-45)) + 4.27(sin(2pi900t + (-61))\n"
     ]
    }
   ],
   "source": [
    "clc; clear;\n",
    "syms t\n",
    "%--------------------------------------------------------------------------------------------%\n",
    "% 8.8 * sin(2 * pi * 500 * t)\n",
    "x_coeff_1_m = 8.8; % 1. Çarpan\n",
    "x_coeff_1_t = 500; % 500 Hz\n",
    "\n",
    "% Frekansın Kestiği Noktalar\n",
    "x_coeff_1_a_resp = 0.7; % Sürekli Çizgi, Sol Taraf, Gerilim Değeri (Volt Cinsinden)\n",
    "x_coeff_1_p_resp = -45; % Noktalı Çizgi, Sağ Taraf, Açısal Değeri/Fazı (Derece Cinsinden)\n",
    "%--------------------------------------------------------------------------------------------%\n",
    "%--------------------------------------------------------------------------------------------%\n",
    "% 8.9 * sin(2 * pi * 900 * t)\n",
    "x_coeff_2_m = 8.9; % 2. Çarpan\n",
    "x_coeff_2_t = 900; % 500 Hz\n",
    "\n",
    "% Frekansın Kestiği Noktalar\n",
    "x_coeff_2_a_resp = 0.48; % Sürekli Çizgi, Sol Taraf, Gerilim Değeri (Volt Cinsinden)\n",
    "x_coeff_2_p_resp = -61; % Noktalı Çizgi, Sağ Taraf, Açısal Değeri/Fazı (Derece Cinsinden)\n",
    "%--------------------------------------------------------------------------------------------%\n",
    "fprintf(\"Değerler Yaklaşık Çıkabilir, En Yakın Olan Doğru Cevap Olacak\\n\\n\")\n",
    "fprintf(\"Sonuç: %.2f(sin(2pi%it + (%i)) + \", x_coeff_1_m * x_coeff_1_a_resp,x_coeff_1_t, x_coeff_1_p_resp)\n",
    "fprintf(\"%.2f(sin(2pi%it + (%i))\", x_coeff_2_m * x_coeff_2_a_resp,x_coeff_2_t, x_coeff_2_p_resp)"
   ]
  },
  {
   "cell_type": "markdown",
   "metadata": {},
   "source": [
    "### Resim 37"
   ]
  },
  {
   "cell_type": "markdown",
   "metadata": {},
   "source": [
    "<center>Slayt 11 - Sayfa 18 - Lowpass Filter</center>\n",
    "\n",
    "![image.jpg](./Resimler/36.jpg)\n",
    "\n",
    "The figure shows the frequency response of a system. If input is $x(t)=1.2sin(2\\pi100t)+6.5sin(2\\pi900t)$ find the output $y(t)$"
   ]
  },
  {
   "cell_type": "code",
   "execution_count": 90,
   "metadata": {
    "ExecuteTime": {
     "end_time": "2020-12-18T19:10:14.533065Z",
     "start_time": "2020-12-18T19:10:14.488042Z"
    }
   },
   "outputs": [
    {
     "name": "stdout",
     "output_type": "stream",
     "text": [
      "Değerler Yaklaşık Çıkabilir, En Yakın Olan Doğru Cevap Olacak\n",
      "\n",
      "Sonuç: 1.18(sin(2pi100t + (-11)) + 3.12(sin(2pi900t + (-60))\n"
     ]
    }
   ],
   "source": [
    "clc; clear;\n",
    "syms t\n",
    "%--------------------------------------------------------------------------------------------%\n",
    "% 1.2 * sin(2 * pi * 100 * t)\n",
    "x_coeff_1_m = 1.2; % 1. Çarpan\n",
    "x_coeff_1_t = 100; % 100 Hz\n",
    "\n",
    "% Frekansın Kestiği Noktalar\n",
    "x_coeff_1_a_resp = 0.98; % Sürekli Çizgi, Sol Taraf, Gerilim Değeri (Volt Cinsinden)\n",
    "x_coeff_1_p_resp = -11; % Noktalı Çizgi, Sağ Taraf, Açısal Değeri/Fazı (Derece Cinsinden)\n",
    "%--------------------------------------------------------------------------------------------%\n",
    "%--------------------------------------------------------------------------------------------%\n",
    "% 6.5 * sin(2 * pi * 900 * t)\n",
    "x_coeff_2_m = 6.5; % 2. Çarpan\n",
    "x_coeff_2_t = 900; % 900 Hz\n",
    "\n",
    "% Frekansın Kestiği Noktalar\n",
    "x_coeff_2_a_resp = 0.48; % Sürekli Çizgi, Sol Taraf, Gerilim Değeri (Volt Cinsinden)\n",
    "x_coeff_2_p_resp = -60; % Noktalı Çizgi, Sağ Taraf, Açısal Değeri/Fazı (Derece Cinsinden)\n",
    "%--------------------------------------------------------------------------------------------%\n",
    "fprintf(\"Değerler Yaklaşık Çıkabilir, En Yakın Olan Doğru Cevap Olacak\\n\\n\")\n",
    "fprintf(\"Sonuç: %.2f(sin(2pi%it + (%i)) + \", x_coeff_1_m * x_coeff_1_a_resp,x_coeff_1_t, x_coeff_1_p_resp)\n",
    "fprintf(\"%.2f(sin(2pi%it + (%i))\", x_coeff_2_m * x_coeff_2_a_resp,x_coeff_2_t, x_coeff_2_p_resp)"
   ]
  },
  {
   "cell_type": "markdown",
   "metadata": {},
   "source": [
    "### Resim 38"
   ]
  },
  {
   "cell_type": "markdown",
   "metadata": {
    "ExecuteTime": {
     "end_time": "2020-12-18T17:39:33.322897Z",
     "start_time": "2020-12-18T17:39:33.090581Z"
    }
   },
   "source": [
    "The differential equation $\\ddot{y}+6\\dot{y}+y(t) = x(t)$ describes a system. Let the system be initially at rest, $y(0^+)=\\dot{y}(0^+)=0$, and let the input signal $x(t)=5u(t)$. What are the system outputs at $t=1.8, y(1.8)$?\n",
    "\n",
    "**Hint:** Find natural respnse. Find forced response (We have constant input. Its value is 3). Then using initial conditin, you can find coefficients of natural response. Then you can find $y(1.8)$"
   ]
  },
  {
   "cell_type": "code",
   "execution_count": 33,
   "metadata": {
    "ExecuteTime": {
     "end_time": "2020-12-19T22:55:18.549358Z",
     "start_time": "2020-12-19T22:55:18.064377Z"
    }
   },
   "outputs": [
    {
     "name": "stdout",
     "output_type": "stream",
     "text": [
      "1.22\n"
     ]
    }
   ],
   "source": [
    "clc; clear;\n",
    "syms x(t) y(t)\n",
    "x(t) = 5 * heaviside(t);\n",
    "\n",
    "% Differential Equation\n",
    "equation = diff(y, t, 2) + 6 * diff(y, t) + y(t) == x(t);\n",
    "\n",
    "% Initial Condition\n",
    "Dy = diff(y, t);\n",
    "condition = [y(0) == 0, Dy(0) == 0];\n",
    "\n",
    "% Time\n",
    "t = 1.8;\n",
    "\n",
    "solution = dsolve(equation, condition);\n",
    "fprintf(\"%.2f\", eval(solution))"
   ]
  },
  {
   "cell_type": "markdown",
   "metadata": {},
   "source": [
    "### Resim 39"
   ]
  },
  {
   "cell_type": "markdown",
   "metadata": {},
   "source": [
    "The differential equation $\\ddot{y}+6\\dot{y}+y(t) = x(t)$ describes a system. Let the system be initially at rest, $y(0^+)=\\dot{y}(0^+)=0$, and let the input signal $x(t)=2u(t)$. What are the system outputs at $t=1.7, y(1.7)$?\n",
    "\n",
    "**Hint:** Find natural respnse. Find forced response (We have constant input. Its value is 3). Then using initial conditin, you can find coefficients of natural response. Then you can find $y(1.7)$"
   ]
  },
  {
   "cell_type": "code",
   "execution_count": 34,
   "metadata": {
    "ExecuteTime": {
     "end_time": "2020-12-19T22:56:11.926252Z",
     "start_time": "2020-12-19T22:56:11.461259Z"
    }
   },
   "outputs": [
    {
     "name": "stdout",
     "output_type": "stream",
     "text": [
      "0.46\n"
     ]
    }
   ],
   "source": [
    "clc; clear;\n",
    "syms x(t) y(t)\n",
    "x(t) = 2 * heaviside(t);\n",
    "\n",
    "% Differential Equation\n",
    "equation = diff(y, t, 2) + 6 * diff(y, t) + y(t) == x(t);\n",
    "\n",
    "% Initial Condition\n",
    "Dy = diff(y, t);\n",
    "condition = [y(0) == 0, Dy(0) == 0];\n",
    "\n",
    "% Time\n",
    "t = 1.7;\n",
    "\n",
    "solution = dsolve(equation, condition);\n",
    "fprintf(\"%.2f\", eval(solution))"
   ]
  },
  {
   "cell_type": "markdown",
   "metadata": {},
   "source": [
    "### Resim 40"
   ]
  },
  {
   "cell_type": "markdown",
   "metadata": {},
   "source": [
    "The differential equation $\\ddot{y}+6\\dot{y}+y(t) = x(t)$ describes a system. Let the system be initially at rest, $y(0^+)=\\dot{y}(0^+)=0$, and let the input signal $x(t)=5u(t)$. What are the system outputs at $t=1.8, y(1.8)$?\n",
    "\n",
    "**Hint:** Find natural respnse. Find forced response (We have constant input. Its value is 3). Then using initial conditin, you can find coefficients of natural response. Then you can find $y(1.8)$"
   ]
  },
  {
   "cell_type": "code",
   "execution_count": 35,
   "metadata": {
    "ExecuteTime": {
     "end_time": "2020-12-19T23:03:29.199146Z",
     "start_time": "2020-12-19T23:03:28.783146Z"
    }
   },
   "outputs": [
    {
     "name": "stdout",
     "output_type": "stream",
     "text": [
      "1.22\n"
     ]
    }
   ],
   "source": [
    "clc; clear;\n",
    "syms x(t) y(t)\n",
    "x(t) = 5 * heaviside(t);\n",
    "\n",
    "% Differential Equation\n",
    "equation = diff(y, t, 2) + 6 * diff(y, t) + y(t) == x(t);\n",
    "\n",
    "% Initial Condition\n",
    "Dy = diff(y, t);\n",
    "condition = [y(0) == 0, Dy(0) == 0];\n",
    "\n",
    "% Time\n",
    "t = 1.8;\n",
    "\n",
    "solution = dsolve(equation, condition);\n",
    "fprintf(\"%.2f\", eval(solution))"
   ]
  },
  {
   "cell_type": "markdown",
   "metadata": {},
   "source": [
    "### Resim 41"
   ]
  },
  {
   "cell_type": "markdown",
   "metadata": {},
   "source": [
    "The differential equation $\\ddot{y}+4\\dot{y}+y(t) = x(t)$ describes a system. Let the system be initially at rest, $y(0^+)=\\dot{y}(0^+)=0$, and let the input signal $x(t)=2u(t)$. What are the system outputs at $t=1.7, y(1.7)$?\n",
    "\n",
    "**Hint:** Find natural respnse. Find forced response (We have constant input. Its value is 3). Then using initial conditin, you can find coefficients of natural response. Then you can find $y(1.7)$"
   ]
  },
  {
   "cell_type": "code",
   "execution_count": 36,
   "metadata": {
    "ExecuteTime": {
     "end_time": "2020-12-19T23:04:42.870877Z",
     "start_time": "2020-12-19T23:04:42.437866Z"
    }
   },
   "outputs": [
    {
     "name": "stdout",
     "output_type": "stream",
     "text": [
      "0.63\n"
     ]
    }
   ],
   "source": [
    "clc; clear;\n",
    "syms x(t) y(t)\n",
    "x(t) = 2 * heaviside(t);\n",
    "\n",
    "% Differential Equation\n",
    "equation = diff(y, t, 2) + 4 * diff(y, t) + y(t) == x(t);\n",
    "\n",
    "% Initial Condition\n",
    "Dy = diff(y, t);\n",
    "condition = [y(0) == 0, Dy(0) == 0];\n",
    "\n",
    "% Time\n",
    "t = 1.7;\n",
    "\n",
    "solution = dsolve(equation, condition);\n",
    "fprintf(\"%.2f\", eval(solution))"
   ]
  },
  {
   "cell_type": "markdown",
   "metadata": {},
   "source": [
    "### Resim 42"
   ]
  },
  {
   "cell_type": "markdown",
   "metadata": {},
   "source": [
    "The differential equation $\\ddot{y}+7\\dot{y}+y(t) = x(t)$ describes a system. Let the system be initially at rest, $y(0^+)=\\dot{y}(0^+)=0$, and let the input signal $x(t)=3u(t)$. What are the system outputs at $t=2.6, y(2.6)$?\n",
    "\n",
    "**Hint:** Find natural respnse. Find forced response (We have constant input. Its value is 3). Then using initial conditin, you can find coefficients of natural response. Then you can find $y(2.6)$"
   ]
  },
  {
   "cell_type": "code",
   "execution_count": 40,
   "metadata": {
    "ExecuteTime": {
     "end_time": "2020-12-19T23:21:53.547484Z",
     "start_time": "2020-12-19T23:21:53.061484Z"
    }
   },
   "outputs": [
    {
     "name": "stdout",
     "output_type": "stream",
     "text": [
      "0.90\n"
     ]
    }
   ],
   "source": [
    "clc; clear;\n",
    "syms x(t) y(t)\n",
    "x(t) = 3 * heaviside(t);\n",
    "\n",
    "% Differential Equation\n",
    "equation = diff(y, t, 2) + 7 * diff(y, t) + y(t) == x(t);\n",
    "\n",
    "% Initial Condition\n",
    "Dy = diff(y, t);\n",
    "condition = [y(0) == 0, Dy(0) == 0];\n",
    "\n",
    "% Time\n",
    "t = 2.6;\n",
    "\n",
    "solution = dsolve(equation, condition);\n",
    "fprintf(\"%.2f\", eval(solution))"
   ]
  },
  {
   "cell_type": "markdown",
   "metadata": {
    "solution": "hidden"
   },
   "source": [
    "### Resim 43"
   ]
  },
  {
   "cell_type": "markdown",
   "metadata": {},
   "source": [
    "<center>Slayt 11 - Sayfa 20 - Bandpass Filter</center>\n",
    "\n",
    "![image.jpg](./Resimler/43.jpg)\n",
    "\n",
    "The figure shows the frequency response of a system. If input is $x(t)=9.6sin(2\\pi500t)+4.7sin(2\\pi700t)$ find the output $y(t)$"
   ]
  },
  {
   "cell_type": "code",
   "execution_count": 42,
   "metadata": {
    "ExecuteTime": {
     "end_time": "2020-12-19T23:28:13.023053Z",
     "start_time": "2020-12-19T23:28:12.981060Z"
    }
   },
   "outputs": [
    {
     "name": "stdout",
     "output_type": "stream",
     "text": [
      "Değerler Yaklaşık Çıkabilir, En Yakın Olan Doğru Cevap Olacak\n",
      "\n",
      "Sonuç: 4.75(sin(2pi500t + (-1)) + 2.23(sin(2pi700t + (-20))\n"
     ]
    }
   ],
   "source": [
    "clc; clear;\n",
    "syms t\n",
    "%--------------------------------------------------------------------------------------------%\n",
    "% 5.5 * sin(2 * pi * 200 * t)\n",
    "x_coeff_1_m = 9.6; % 1. Çarpan\n",
    "x_coeff_1_t = 500; % 500 Hz\n",
    "\n",
    "% Frekansın Kestiği Noktalar\n",
    "x_coeff_1_a_resp = 0.495; % Sürekli Çizgi, Sol Taraf, Gerilim Değeri (Volt Cinsinden)\n",
    "x_coeff_1_p_resp = -1; % Noktalı Çizgi, Sağ Taraf, Açısal Değeri/Fazı (Derece Cinsinden)\n",
    "%--------------------------------------------------------------------------------------------%\n",
    "%--------------------------------------------------------------------------------------------%\n",
    "% 1.4 * sin(2 * pi * 500 * t)\n",
    "x_coeff_2_m = 4.7; % 2. Çarpan\n",
    "x_coeff_2_t = 700; % 500 Hz\n",
    "\n",
    "% Frekansın Kestiği Noktalar\n",
    "x_coeff_2_a_resp = 0.475; % Sürekli Çizgi, Sol Taraf, Gerilim Değeri (Volt Cinsinden)\n",
    "x_coeff_2_p_resp = -20; % Noktalı Çizgi, Sağ Taraf, Açısal Değeri/Fazı (Derece Cinsinden)\n",
    "%--------------------------------------------------------------------------------------------%\n",
    "fprintf(\"Değerler Yaklaşık Çıkabilir, En Yakın Olan Doğru Cevap Olacak\\n\\n\")\n",
    "fprintf(\"Sonuç: %.2f(sin(2pi%it + (%i)) + \", x_coeff_1_m * x_coeff_1_a_resp,x_coeff_1_t, x_coeff_1_p_resp)\n",
    "fprintf(\"%.2f(sin(2pi%it + (%i))\", x_coeff_2_m * x_coeff_2_a_resp,x_coeff_2_t, x_coeff_2_p_resp)"
   ]
  }
 ],
 "metadata": {
  "kernelspec": {
   "display_name": "Matlab",
   "language": "matlab",
   "name": "matlab"
  },
  "language_info": {
   "codemirror_mode": "octave",
   "file_extension": ".m",
   "help_links": [
    {
     "text": "MetaKernel Magics",
     "url": "https://metakernel.readthedocs.io/en/latest/source/README.html"
    }
   ],
   "mimetype": "text/x-octave",
   "name": "matlab",
   "version": "0.16.11"
  },
  "toc": {
   "base_numbering": 1,
   "nav_menu": {},
   "number_sections": true,
   "sideBar": true,
   "skip_h1_title": false,
   "title_cell": "Table of Contents",
   "title_sidebar": "Contents",
   "toc_cell": false,
   "toc_position": {
    "height": "595.2px",
    "left": "122px",
    "top": "141.6px",
    "width": "245.2px"
   },
   "toc_section_display": true,
   "toc_window_display": true
  }
 },
 "nbformat": 4,
 "nbformat_minor": 4
}
