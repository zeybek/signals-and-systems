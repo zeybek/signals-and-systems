{
 "cells": [
  {
   "cell_type": "markdown",
   "metadata": {},
   "source": [
    "### Resim 10 - Soru 2"
   ]
  },
  {
   "cell_type": "code",
   "execution_count": 10,
   "metadata": {
    "ExecuteTime": {
     "end_time": "2020-12-17T18:04:09+03:00",
     "start_time": "2020-12-17T15:04:09.847Z"
    }
   },
   "outputs": [
    {
     "data": {
      "text/html": [
       "<div>&#36;&#36;&#45;&#50;&#57;&#46;&#56;&#32;&#92;&#115;&#105;&#110;&#32;&#40;&#50;&#32;&#116;&#43;&#123;&#125;&#94;&#123;&#92;&#99;&#105;&#114;&#99;&#125;&#40;&#51;&#49;&#41;&#41;&#36;&#36;</div>"
      ],
      "text/plain": [
       "-29.8 \\sin (2 t+{}^{\\circ}(31))"
      ]
     },
     "execution_count": 12,
     "metadata": {
      "text/html": [],
      "text/plain": []
     },
     "output_type": "execute_result"
    }
   ],
   "source": [
    "A = 14.9 * I * Exp[ I * Degree[31] ] * Exp[ I * 2 t];\n",
    "B = 14.9 * I * Exp[-I * Degree[31] ] * Exp[-I * 2 t];\n",
    "Result = TeXForm[FullSimplify[A - B]]"
   ]
  }
 ],
 "metadata": {
  "kernelspec": {
   "display_name": "Wolfram Language 12.1",
   "language": "Wolfram Language",
   "name": "wolframlanguage12.1"
  },
  "language_info": {
   "codemirror_mode": "mathematica",
   "file_extension": ".m",
   "mimetype": "application/vnd.wolfram.m",
   "name": "Wolfram Language",
   "pygments_lexer": "mathematica",
   "version": "12.0"
  },
  "toc": {
   "base_numbering": 1,
   "nav_menu": {},
   "number_sections": true,
   "sideBar": true,
   "skip_h1_title": false,
   "title_cell": "Table of Contents",
   "title_sidebar": "Contents",
   "toc_cell": false,
   "toc_position": {},
   "toc_section_display": true,
   "toc_window_display": true
  }
 },
 "nbformat": 4,
 "nbformat_minor": 4
}
