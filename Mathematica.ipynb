{
 "cells": [
  {
   "cell_type": "markdown",
   "metadata": {},
   "source": [
    "### Resim 4 - Soru 2"
   ]
  },
  {
   "cell_type": "code",
   "execution_count": 1,
   "metadata": {
    "ExecuteTime": {
     "end_time": "2021-01-03T16:51:21+03:00",
     "start_time": "2021-01-03T13:51:20.826Z"
    }
   },
   "outputs": [
    {
     "data": {
      "text/html": [
       "<div>&#36;&#36;&#45;&#50;&#57;&#46;&#56;&#32;&#92;&#115;&#105;&#110;&#32;&#40;&#50;&#32;&#116;&#43;&#123;&#125;&#94;&#123;&#92;&#99;&#105;&#114;&#99;&#125;&#40;&#51;&#49;&#41;&#41;&#36;&#36;</div>"
      ],
      "text/plain": [
       "-29.8 \\sin (2 t+{}^{\\circ}(31))"
      ]
     },
     "execution_count": 4,
     "metadata": {
      "text/html": [],
      "text/plain": []
     },
     "output_type": "execute_result"
    }
   ],
   "source": [
    "A = 14.9 * I * Exp[ I * Degree[31] ] * Exp[ I * 2 t];\n",
    "B = 14.9 * I * Exp[-I * Degree[31] ] * Exp[-I * 2 t];\n",
    "\n",
    "(* Çıkan Sonuçta Dereceye 90 Ekleyerek Cos Değerini Elde Edeceğiz ve \n",
    "Sonucun İşaretini Pozitife Çevireceğiz *)\n",
    "Result = TeXForm[FullSimplify[A - B]]"
   ]
  },
  {
   "cell_type": "markdown",
   "metadata": {},
   "source": [
    "### Resim 5 - Soru 1"
   ]
  },
  {
   "cell_type": "code",
   "execution_count": 5,
   "metadata": {
    "ExecuteTime": {
     "end_time": "2021-01-03T16:51:23+03:00",
     "start_time": "2021-01-03T13:51:23.548Z"
    }
   },
   "outputs": [
    {
     "data": {
      "text/html": [
       "<div>&#36;&#36;&#45;&#49;&#49;&#46;&#32;&#92;&#115;&#105;&#110;&#32;&#40;&#50;&#32;&#116;&#43;&#123;&#125;&#94;&#123;&#92;&#99;&#105;&#114;&#99;&#125;&#40;&#49;&#53;&#57;&#41;&#41;&#36;&#36;</div>"
      ],
      "text/plain": [
       "-11. \\sin (2 t+{}^{\\circ}(159))"
      ]
     },
     "execution_count": 8,
     "metadata": {
      "text/html": [],
      "text/plain": []
     },
     "output_type": "execute_result"
    }
   ],
   "source": [
    "A = 5.5 * I * Exp[I*Degree[159]]*Exp[I* 2 t];\n",
    "B = 5.5 * I * Exp[-I*Degree[159]]*Exp[-I* 2 t];\n",
    "\n",
    "(* Çıkan Sonuçta Dereceye 90 Ekleyerek Cos Değerini Elde Edeceğiz ve \n",
    "Sonucun İşaretini Pozitife Çevireceğiz *)\n",
    "Result = TeXForm[FullSimplify[A - B]]"
   ]
  },
  {
   "cell_type": "markdown",
   "metadata": {},
   "source": [
    "### Resim 12 - Soru 3"
   ]
  },
  {
   "cell_type": "code",
   "execution_count": 9,
   "metadata": {
    "ExecuteTime": {
     "end_time": "2021-01-03T16:51:26+03:00",
     "start_time": "2021-01-03T13:51:25.957Z"
    }
   },
   "outputs": [
    {
     "data": {
      "text/html": [
       "<div>&#36;&#36;&#45;&#55;&#46;&#50;&#32;&#92;&#115;&#105;&#110;&#32;&#40;&#49;&#48;&#32;&#116;&#43;&#123;&#125;&#94;&#123;&#92;&#99;&#105;&#114;&#99;&#125;&#40;&#55;&#55;&#41;&#41;&#36;&#36;</div>"
      ],
      "text/plain": [
       "-7.2 \\sin (10 t+{}^{\\circ}(77))"
      ]
     },
     "execution_count": 12,
     "metadata": {
      "text/html": [],
      "text/plain": []
     },
     "output_type": "execute_result"
    }
   ],
   "source": [
    "A = 3.6 * I * Exp[ I * Degree[77] ] * Exp[ I * 10 t ];\n",
    "B = 3.6 * I * Exp[-I * Degree[77] ] * Exp[-I * 10 t ];\n",
    "\n",
    "(* Çıkan Sonuçta Dereceye 90 Ekleyerek Cos Değerini Elde Edeceğiz ve \n",
    "Sonucun İşaretini Pozitife Çevireceğiz *)\n",
    "Result = TeXForm[FullSimplify[A - B]]"
   ]
  }
 ],
 "metadata": {
  "kernelspec": {
   "display_name": "Wolfram Language 12.1",
   "language": "Wolfram Language",
   "name": "wolframlanguage12.1"
  },
  "language_info": {
   "codemirror_mode": "mathematica",
   "file_extension": ".m",
   "mimetype": "application/vnd.wolfram.m",
   "name": "Wolfram Language",
   "pygments_lexer": "mathematica",
   "version": "12.0"
  },
  "toc": {
   "base_numbering": 1,
   "nav_menu": {},
   "number_sections": true,
   "sideBar": true,
   "skip_h1_title": false,
   "title_cell": "Table of Contents",
   "title_sidebar": "Contents",
   "toc_cell": false,
   "toc_position": {},
   "toc_section_display": true,
   "toc_window_display": true
  }
 },
 "nbformat": 4,
 "nbformat_minor": 4
}
